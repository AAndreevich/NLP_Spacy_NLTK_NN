{
  "nbformat": 4,
  "nbformat_minor": 0,
  "metadata": {
    "colab": {
      "provenance": [],
      "toc_visible": true
    },
    "kernelspec": {
      "name": "python3",
      "display_name": "Python 3"
    },
    "language_info": {
      "name": "python"
    }
  },
  "cells": [
    {
      "cell_type": "markdown",
      "source": [
        "# Content"
      ],
      "metadata": {
        "id": "rxRNjWw6SXrQ"
      }
    },
    {
      "cell_type": "markdown",
      "source": [
        ">[Content](#scrollTo=rxRNjWw6SXrQ)\n",
        "\n",
        ">[Task](#scrollTo=bME6YnsGS5DI)\n",
        "\n",
        ">[Additional links](#scrollTo=Lkb0fQgC3XZQ)\n",
        "\n",
        ">[Libraries and Functions](#scrollTo=fuzizqNKmVH-)\n",
        "\n",
        ">>[Additional libraries](#scrollTo=va0W5HEOmYsF)\n",
        "\n",
        ">>[Additional fuctions](#scrollTo=TOB_rU9XmdJu)\n",
        "\n",
        ">>>[For using NLTK](#scrollTo=6GDTDBkh-dCg)\n",
        "\n",
        ">>>[For using natasha](#scrollTo=zNl4flmk-6g9)\n",
        "\n",
        ">>>[My functions](#scrollTo=S5BP1vyV_A2p)\n",
        "\n",
        ">[About data](#scrollTo=8KPioMVtmmUs)\n",
        "\n",
        ">>[Load Data](#scrollTo=_OcxdHkwmjF5)\n",
        "\n",
        ">>>[Load unprocessed data](#scrollTo=sHMxgHzv5cS-)\n",
        "\n",
        ">>>[Load clean data](#scrollTo=x5FJ9sgs5Pa2)\n",
        "\n",
        ">>[Review data](#scrollTo=O1fW1h9cmsKG)\n",
        "\n",
        ">[Natasha](#scrollTo=LD69XeBp1PUx)\n",
        "\n",
        ">>[Preprocessing data](#scrollTo=3aHTJ_UpvkO6)\n",
        "\n",
        ">>[Find the best taggers (Natasha)](#scrollTo=ny7eZfZ_XZmd)\n",
        "\n",
        ">>[Combining tagger](#scrollTo=I_nehhmW0EqM)\n",
        "\n",
        ">>[Comparison grams](#scrollTo=W2R8Rr_M2yom)\n",
        "\n",
        ">[NLTK](#scrollTo=P6sebCdNTKl1)\n",
        "\n",
        ">>[Preprocessing data](#scrollTo=mjhAdL4fbKhV)\n",
        "\n",
        ">>[Find the best taggers (NLTK)](#scrollTo=kpiVgV3bb0PG)\n",
        "\n",
        ">>[Comparison grams](#scrollTo=W-HShIUmdwkL)\n",
        "\n",
        ">[Spacy](#scrollTo=SIEjQF1eYmV3)\n",
        "\n",
        ">>[Preprocessing data](#scrollTo=QKhSjewGZAUS)\n",
        "\n",
        ">>[Find the best taggers (Spacy)](#scrollTo=DN6Ol0ovZO1Y)\n",
        "\n",
        ">>[Comparison grams](#scrollTo=7xM7cdxzZVLC)\n",
        "\n",
        ">[NN](#scrollTo=7k-VaTRmT9Lr)\n",
        "\n",
        ">>[Load data](#scrollTo=HHSFCcXntslS)\n",
        "\n",
        ">>[Preprocessing data](#scrollTo=VmDOsJhmdsE-)\n",
        "\n",
        ">>[Split data](#scrollTo=d70VT9G9pVwM)\n",
        "\n",
        ">>[Create DataLoader](#scrollTo=Qcui75ixTOhV)\n",
        "\n",
        ">>[Make model](#scrollTo=jT8f6MmJasI-)\n",
        "\n",
        ">>[Model params](#scrollTo=QNRz4mxTLRk5)\n",
        "\n",
        ">>[Review model](#scrollTo=-eKQd_8fLUjB)\n",
        "\n",
        ">>[Optimizer and Loss](#scrollTo=ab9ioGAeLYJj)\n",
        "\n",
        ">>[Learning model](#scrollTo=r3Dnz7cGLdHK)\n",
        "\n",
        ">>[Save model](#scrollTo=aTMQkME-m9hm)\n",
        "\n",
        ">[Conclusion](#scrollTo=huD79mKjv0b_)\n",
        "\n"
      ],
      "metadata": {
        "colab_type": "toc",
        "id": "ml23WeH1TBw5"
      }
    },
    {
      "cell_type": "markdown",
      "source": [
        "# Task"
      ],
      "metadata": {
        "id": "bME6YnsGS5DI"
      }
    },
    {
      "cell_type": "markdown",
      "source": [
        "«POS-tagger и NER»\n",
        "\n",
        "1. Задание\n",
        "* Написать теггер на данных с русским языком\n",
        "проверить UnigramTagger, BigramTagger, TrigramTagger и их комбинации\n",
        "* Написать свой теггер как на занятии, попробовать разные векторайзеры, добавить знание не только букв но и слов\n",
        "* Сравнить все реализованные методы, сделать выводы  \n",
        "2. Задание\n",
        "* Проверить, насколько хорошо работает NER\n",
        "Данные брать из Index of http://www.labinform.ru/pub/named_entities/\n",
        "проверить NER из nltk/spacy/deeppavlov.\n",
        "* Написать свой NER, попробовать разные подходы.\n",
        "передаём в сетку токен и его соседей.\n",
        "передаём в сетку только токен.\n",
        "свой вариант.\n",
        "* Сравнить свои реализованные подходы на качество — вывести precision/recall/f1_score.\n"
      ],
      "metadata": {
        "id": "VI0WPNSES41S"
      }
    },
    {
      "cell_type": "markdown",
      "source": [
        "# Additional links"
      ],
      "metadata": {
        "id": "Lkb0fQgC3XZQ"
      }
    },
    {
      "cell_type": "markdown",
      "source": [
        "* NLTK Tagers [Unigram](https://www.tutorialspoint.com/natural_language_toolkit/natural_language_toolkit_unigram_tagger.htm), [Bigram, Trigram](https://www.tutorialspoint.com/natural_language_toolkit/natural_language_toolkit_combining_taggers.htm)\n",
        "* Natasha [github](https://github.com/natasha/natasha), [habr](https://habr.com/ru/articles/516098/)\n",
        "* Regular expressions [one](https://habr.com/ru/articles/349860/) [two](https://tproger.ru/translations/regular-expression-python) [three](https://docs.python.org/3/library/re.html#)"
      ],
      "metadata": {
        "id": "UAwQeAEb3azk"
      }
    },
    {
      "cell_type": "markdown",
      "source": [
        "# Libraries and Functions"
      ],
      "metadata": {
        "id": "fuzizqNKmVH-"
      }
    },
    {
      "cell_type": "markdown",
      "source": [
        "## Additional libraries"
      ],
      "metadata": {
        "id": "va0W5HEOmYsF"
      }
    },
    {
      "cell_type": "code",
      "source": [
        "!pip install pymorphy2 clean-text natasha"
      ],
      "metadata": {
        "id": "XROEfSOykVGt",
        "colab": {
          "base_uri": "https://localhost:8080/"
        },
        "outputId": "909dd07a-968f-40fa-aa61-1344a4446e82"
      },
      "execution_count": null,
      "outputs": [
        {
          "output_type": "stream",
          "name": "stdout",
          "text": [
            "Collecting pymorphy2\n",
            "  Downloading pymorphy2-0.9.1-py3-none-any.whl (55 kB)\n",
            "\u001b[2K     \u001b[90m━━━━━━━━━━━━━━━━━━━━━━━━━━━━━━━━━━━━━━━━\u001b[0m \u001b[32m55.5/55.5 kB\u001b[0m \u001b[31m615.2 kB/s\u001b[0m eta \u001b[36m0:00:00\u001b[0m\n",
            "\u001b[?25hCollecting clean-text\n",
            "  Downloading clean_text-0.6.0-py3-none-any.whl (11 kB)\n",
            "Collecting natasha\n",
            "  Downloading natasha-1.6.0-py3-none-any.whl (34.4 MB)\n",
            "\u001b[2K     \u001b[90m━━━━━━━━━━━━━━━━━━━━━━━━━━━━━━━━━━━━━━━━\u001b[0m \u001b[32m34.4/34.4 MB\u001b[0m \u001b[31m14.9 MB/s\u001b[0m eta \u001b[36m0:00:00\u001b[0m\n",
            "\u001b[?25hCollecting dawg-python>=0.7.1 (from pymorphy2)\n",
            "  Downloading DAWG_Python-0.7.2-py2.py3-none-any.whl (11 kB)\n",
            "Collecting pymorphy2-dicts-ru<3.0,>=2.4 (from pymorphy2)\n",
            "  Downloading pymorphy2_dicts_ru-2.4.417127.4579844-py2.py3-none-any.whl (8.2 MB)\n",
            "\u001b[2K     \u001b[90m━━━━━━━━━━━━━━━━━━━━━━━━━━━━━━━━━━━━━━━━\u001b[0m \u001b[32m8.2/8.2 MB\u001b[0m \u001b[31m29.9 MB/s\u001b[0m eta \u001b[36m0:00:00\u001b[0m\n",
            "\u001b[?25hCollecting docopt>=0.6 (from pymorphy2)\n",
            "  Downloading docopt-0.6.2.tar.gz (25 kB)\n",
            "  Preparing metadata (setup.py) ... \u001b[?25l\u001b[?25hdone\n",
            "Collecting emoji<2.0.0,>=1.0.0 (from clean-text)\n",
            "  Downloading emoji-1.7.0.tar.gz (175 kB)\n",
            "\u001b[2K     \u001b[90m━━━━━━━━━━━━━━━━━━━━━━━━━━━━━━━━━━━━━━━━\u001b[0m \u001b[32m175.4/175.4 kB\u001b[0m \u001b[31m7.5 MB/s\u001b[0m eta \u001b[36m0:00:00\u001b[0m\n",
            "\u001b[?25h  Preparing metadata (setup.py) ... \u001b[?25l\u001b[?25hdone\n",
            "Collecting ftfy<7.0,>=6.0 (from clean-text)\n",
            "  Downloading ftfy-6.2.0-py3-none-any.whl (54 kB)\n",
            "\u001b[2K     \u001b[90m━━━━━━━━━━━━━━━━━━━━━━━━━━━━━━━━━━━━━━━━\u001b[0m \u001b[32m54.4/54.4 kB\u001b[0m \u001b[31m3.1 MB/s\u001b[0m eta \u001b[36m0:00:00\u001b[0m\n",
            "\u001b[?25hCollecting razdel>=0.5.0 (from natasha)\n",
            "  Downloading razdel-0.5.0-py3-none-any.whl (21 kB)\n",
            "Collecting navec>=0.9.0 (from natasha)\n",
            "  Downloading navec-0.10.0-py3-none-any.whl (23 kB)\n",
            "Collecting slovnet>=0.6.0 (from natasha)\n",
            "  Downloading slovnet-0.6.0-py3-none-any.whl (46 kB)\n",
            "\u001b[2K     \u001b[90m━━━━━━━━━━━━━━━━━━━━━━━━━━━━━━━━━━━━━━━━\u001b[0m \u001b[32m46.7/46.7 kB\u001b[0m \u001b[31m4.6 MB/s\u001b[0m eta \u001b[36m0:00:00\u001b[0m\n",
            "\u001b[?25hCollecting yargy>=0.16.0 (from natasha)\n",
            "  Downloading yargy-0.16.0-py3-none-any.whl (33 kB)\n",
            "Collecting ipymarkup>=0.8.0 (from natasha)\n",
            "  Downloading ipymarkup-0.9.0-py3-none-any.whl (14 kB)\n",
            "Requirement already satisfied: wcwidth<0.3.0,>=0.2.12 in /usr/local/lib/python3.10/dist-packages (from ftfy<7.0,>=6.0->clean-text) (0.2.13)\n",
            "Collecting intervaltree>=3 (from ipymarkup>=0.8.0->natasha)\n",
            "  Downloading intervaltree-3.1.0.tar.gz (32 kB)\n",
            "  Preparing metadata (setup.py) ... \u001b[?25l\u001b[?25hdone\n",
            "Requirement already satisfied: numpy in /usr/local/lib/python3.10/dist-packages (from navec>=0.9.0->natasha) (1.25.2)\n",
            "Requirement already satisfied: sortedcontainers<3.0,>=2.0 in /usr/local/lib/python3.10/dist-packages (from intervaltree>=3->ipymarkup>=0.8.0->natasha) (2.4.0)\n",
            "Building wheels for collected packages: docopt, emoji, intervaltree\n",
            "  Building wheel for docopt (setup.py) ... \u001b[?25l\u001b[?25hdone\n",
            "  Created wheel for docopt: filename=docopt-0.6.2-py2.py3-none-any.whl size=13706 sha256=ef41c15d977bf046d57144d781034130cfe2bde5e2efc7ce42a4aef37400b466\n",
            "  Stored in directory: /root/.cache/pip/wheels/fc/ab/d4/5da2067ac95b36618c629a5f93f809425700506f72c9732fac\n",
            "  Building wheel for emoji (setup.py) ... \u001b[?25l\u001b[?25hdone\n",
            "  Created wheel for emoji: filename=emoji-1.7.0-py3-none-any.whl size=171034 sha256=034338728833356e7dde9af8f09ad2762045424c56186889484533c6b60bdaff\n",
            "  Stored in directory: /root/.cache/pip/wheels/31/8a/8c/315c9e5d7773f74b33d5ed33f075b49c6eaeb7cedbb86e2cf8\n",
            "  Building wheel for intervaltree (setup.py) ... \u001b[?25l\u001b[?25hdone\n",
            "  Created wheel for intervaltree: filename=intervaltree-3.1.0-py2.py3-none-any.whl size=26096 sha256=081ece2d2fc0b6ac16a1c494c529f973178f34b81feb8d55f973f3e0a3029da4\n",
            "  Stored in directory: /root/.cache/pip/wheels/fa/80/8c/43488a924a046b733b64de3fac99252674c892a4c3801c0a61\n",
            "Successfully built docopt emoji intervaltree\n",
            "Installing collected packages: razdel, pymorphy2-dicts-ru, emoji, docopt, dawg-python, pymorphy2, navec, intervaltree, ftfy, yargy, slovnet, ipymarkup, clean-text, natasha\n",
            "Successfully installed clean-text-0.6.0 dawg-python-0.7.2 docopt-0.6.2 emoji-1.7.0 ftfy-6.2.0 intervaltree-3.1.0 ipymarkup-0.9.0 natasha-1.6.0 navec-0.10.0 pymorphy2-0.9.1 pymorphy2-dicts-ru-2.4.417127.4579844 razdel-0.5.0 slovnet-0.6.0 yargy-0.16.0\n"
          ]
        }
      ]
    },
    {
      "cell_type": "code",
      "source": [
        "# !python -m spacy download ru_core_news_sm"
      ],
      "metadata": {
        "id": "BAAXIsSjsN9X"
      },
      "execution_count": null,
      "outputs": []
    },
    {
      "cell_type": "code",
      "source": [
        "import time\n",
        "import nltk\n",
        "from nltk.corpus import brown, stopwords, names\n",
        "from nltk.tag import UnigramTagger, BigramTagger, TrigramTagger, DefaultTagger, SequentialBackoffTagger\n",
        "from google.colab import drive, files\n",
        "import os\n",
        "import shutil\n",
        "import re\n",
        "import pandas as pd\n",
        "from tqdm import tqdm\n",
        "from pymorphy2 import MorphAnalyzer\n",
        "from cleantext import clean\n",
        "import numpy as np\n",
        "from sklearn.feature_extraction import text as for_stop_word\n",
        "from sklearn.base import BaseEstimator, TransformerMixin\n",
        "import emoji\n",
        "import pickle\n",
        "from sklearn.model_selection import train_test_split\n",
        "from natasha import (\n",
        "    Segmenter,\n",
        "    MorphVocab,\n",
        "\n",
        "    NewsEmbedding,\n",
        "    NewsMorphTagger,\n",
        "    NewsSyntaxParser,\n",
        "    NewsNERTagger,\n",
        "\n",
        "    PER,\n",
        "    LOC,\n",
        "    ORG,\n",
        "    NamesExtractor,\n",
        "    DatesExtractor,\n",
        "    MoneyExtractor,\n",
        "    AddrExtractor,\n",
        "\n",
        "    Doc\n",
        ")\n",
        "import seaborn as sns\n",
        "import spacy\n",
        "\n",
        "import torch\n",
        "import torch.nn as nn\n",
        "import torch.nn.functional as F\n",
        "from torch.utils.data import DataLoader, Dataset\n",
        "from sklearn.feature_extraction.text import TfidfVectorizer\n",
        "from sklearn.preprocessing import LabelEncoder\n",
        "import matplotlib.pyplot as plt"
      ],
      "metadata": {
        "id": "SXXA9uF6TXYI",
        "colab": {
          "base_uri": "https://localhost:8080/"
        },
        "outputId": "2265e9e4-d996-4378-833d-4e92cee658cc"
      },
      "execution_count": null,
      "outputs": [
        {
          "output_type": "stream",
          "name": "stderr",
          "text": [
            "WARNING:root:Since the GPL-licensed package `unidecode` is not installed, using Python's `unicodedata` package which yields worse results.\n"
          ]
        }
      ]
    },
    {
      "cell_type": "markdown",
      "source": [
        "## Additional fuctions"
      ],
      "metadata": {
        "id": "TOB_rU9XmdJu"
      }
    },
    {
      "cell_type": "markdown",
      "source": [
        "### For using NLTK"
      ],
      "metadata": {
        "id": "6GDTDBkh-dCg"
      }
    },
    {
      "cell_type": "code",
      "source": [
        "nltk.download('stopwords')\n",
        "nltk.download('brown')\n",
        "nltk.download('punkt')\n",
        "nltk.download('averaged_perceptron_tagger')\n",
        "nltk.download('averaged_perceptron_tagger_ru')\n",
        "nltk.download('maxent_ne_chunker')\n",
        "nltk.download('words')\n",
        "nltk.download('names')\n",
        "nltk.download('tagsets')"
      ],
      "metadata": {
        "colab": {
          "base_uri": "https://localhost:8080/"
        },
        "id": "Lo03zsFZxGyW",
        "outputId": "7ad44e55-0198-407f-cdbf-24c8e8f35df0"
      },
      "execution_count": null,
      "outputs": [
        {
          "output_type": "stream",
          "name": "stderr",
          "text": [
            "[nltk_data] Downloading package stopwords to /root/nltk_data...\n",
            "[nltk_data]   Unzipping corpora/stopwords.zip.\n",
            "[nltk_data] Downloading package brown to /root/nltk_data...\n",
            "[nltk_data]   Unzipping corpora/brown.zip.\n",
            "[nltk_data] Downloading package punkt to /root/nltk_data...\n",
            "[nltk_data]   Unzipping tokenizers/punkt.zip.\n",
            "[nltk_data] Downloading package averaged_perceptron_tagger to\n",
            "[nltk_data]     /root/nltk_data...\n",
            "[nltk_data]   Unzipping taggers/averaged_perceptron_tagger.zip.\n",
            "[nltk_data] Downloading package averaged_perceptron_tagger_ru to\n",
            "[nltk_data]     /root/nltk_data...\n",
            "[nltk_data]   Unzipping taggers/averaged_perceptron_tagger_ru.zip.\n",
            "[nltk_data] Downloading package maxent_ne_chunker to\n",
            "[nltk_data]     /root/nltk_data...\n",
            "[nltk_data]   Unzipping chunkers/maxent_ne_chunker.zip.\n",
            "[nltk_data] Downloading package words to /root/nltk_data...\n",
            "[nltk_data]   Unzipping corpora/words.zip.\n",
            "[nltk_data] Downloading package names to /root/nltk_data...\n",
            "[nltk_data]   Unzipping corpora/names.zip.\n",
            "[nltk_data] Downloading package tagsets to /root/nltk_data...\n",
            "[nltk_data]   Unzipping help/tagsets.zip.\n"
          ]
        },
        {
          "output_type": "execute_result",
          "data": {
            "text/plain": [
              "True"
            ]
          },
          "metadata": {},
          "execution_count": 4
        }
      ]
    },
    {
      "cell_type": "markdown",
      "source": [
        "### For using natasha"
      ],
      "metadata": {
        "id": "zNl4flmk-6g9"
      }
    },
    {
      "cell_type": "code",
      "source": [
        "segmenter = Segmenter()\n",
        "morph_vocab = MorphVocab()\n",
        "\n",
        "emb = NewsEmbedding()\n",
        "morph_tagger = NewsMorphTagger(emb)\n",
        "syntax_parser = NewsSyntaxParser(emb)\n",
        "ner_tagger = NewsNERTagger(emb)\n",
        "\n",
        "names_extractor = NamesExtractor(morph_vocab)\n",
        "dates_extractor = DatesExtractor(morph_vocab)\n",
        "money_extractor = MoneyExtractor(morph_vocab)\n",
        "addr_extractor = AddrExtractor(morph_vocab)"
      ],
      "metadata": {
        "id": "Fb9JXWDvzemx"
      },
      "execution_count": null,
      "outputs": []
    },
    {
      "cell_type": "markdown",
      "source": [
        "### My functions"
      ],
      "metadata": {
        "id": "S5BP1vyV_A2p"
      }
    },
    {
      "cell_type": "code",
      "source": [
        "def MDir(dir_name):\n",
        "    \"\"\"Make a new folder\"\"\"\n",
        "    if os.path.exists(dir_name):\n",
        "        shutil.rmtree(dir_name)\n",
        "    os.makedirs(dir_name)\n",
        "\n",
        "def Upload(dir_name):\n",
        "    f = files.upload()\n",
        "    for fl in list(f.keys()):\n",
        "        shutil.move('/content/' + fl, dir_name + fl)\n",
        "\n",
        "\n",
        "class CleanText(BaseEstimator, TransformerMixin):\n",
        "\n",
        "    \"\"\"Cleaning text from regular characters in column\n",
        "    key: str - name of column\n",
        "    stp_wrd: str - english, russian, ...\n",
        "    like_list: bool - True|False\n",
        "        If True then return text as list [word, word, ..., word], False return str,\n",
        "        default False\n",
        "    You shoul to import:\n",
        "        >>> pip install pymorphy2\n",
        "        >>> pip install clean-text\n",
        "        import re\n",
        "        import pandas as pd\n",
        "        from tqdm import tqdm\n",
        "        from pymorphy2 import MorphAnalyzer\n",
        "        from sklearn.base import BaseEstimator, TransformerMixin\n",
        "        from cleantext import clean\n",
        "        from nltk.corpus import stopwords\n",
        "        nltk.download('stopwords')\"\"\"\n",
        "\n",
        "    def __init__(self, key, stp_wrd : str, like_list: bool = False):\n",
        "        self.key = key\n",
        "        self.stp_wrd = stp_wrd\n",
        "        self.sw = stopwords.words(self.stp_wrd)\n",
        "        self.morpher = MorphAnalyzer()\n",
        "        self.like_list = like_list\n",
        "\n",
        "\n",
        "    def clean_text(self, text:str) -> str:\n",
        "\n",
        "        \"\"\"Clean text\"\"\"\n",
        "\n",
        "        if not isinstance(text, str):\n",
        "            text = str(text)\n",
        "\n",
        "        text = text.lower()\n",
        "        text = text.strip('\\n').strip('\\r').strip('\\t')\n",
        "        if self.stp_wrd == 'russian':\n",
        "            text = re.sub(r'https?://\\S+|www\\.\\S+', \"электронныйадресс\", text)\n",
        "        else:\n",
        "            text = re.sub(r'https?://\\S+|www\\.\\S+', \"weblinks\", text)\n",
        "\n",
        "        text = re.sub(\"\\s\\r\\n\\|-\\s\\r\\n|\\r\\n\", '', str(text))\n",
        "        text = re.sub(\"[0-9]|[-—.,:;_%©«»?*!@#№$^•·&()]|[+=]|[[]|[]]|[/]|\", '', text)\n",
        "        text = re.sub(\"\\s\\w\\s\", \" \", text)\n",
        "        text = re.sub(r\"\\r\\n\\t|\\n|\\\\s|\\r\\t|\\\\n\", ' ', text)\n",
        "        text = re.sub(r'[\\xad]|[\\s+]', ' ', text.strip())\n",
        "        text = re.sub('\\n', ' ', text)\n",
        "        if self.stp_wrd != 'russian':\n",
        "            text = clean(text, no_emoji=True)\n",
        "        else:\n",
        "            pass\n",
        "        text = [self.morpher.parse(word)[0].normal_form for word in text.split() if word not in self.sw]\n",
        "        if self.like_list:\n",
        "            return text\n",
        "        else:\n",
        "            text = \" \".join(text)\n",
        "            return text\n",
        "\n",
        "\n",
        "    def get_feature_names_out(self, feature_names_out=None):\n",
        "        if feature_names_out != None:\n",
        "            return feature_names_out\n",
        "        else:\n",
        "            return [self.key]\n",
        "\n",
        "    def fit(self, X, y=None):\n",
        "        return self\n",
        "\n",
        "    def transform(self, X) -> pd.DataFrame:\n",
        "        tqdm.pandas()\n",
        "        X[self.key] = X[self.key].progress_apply(lambda x: CleanText.clean_text(self, x))\n",
        "        return X[self.key]\n",
        "\n",
        "\n",
        "def backoff_tagger(train_sents, tagger_classes, backoff=None):\n",
        "    for cls in tagger_classes:\n",
        "        backoff = cls(train_sents, backoff=backoff)\n",
        "    return backoff\n",
        "\n",
        "\n",
        "def model_tagger(mtager, X, y, y_sent, backoff=None):\n",
        "    tagger = mtager(X, backoff=backoff)\n",
        "    return tagger, tagger.evaluate(y), tagger.tag(test_sent)\n",
        "\n",
        "\n",
        "def Find_best_tagger(tagger_list: list, train_data, test_data, test_sent):\n",
        "    tagger_dict = {}\n",
        "    for t in range(len(tagger_list)):\n",
        "        if t <= 2:\n",
        "            tagger, acc, context = model_tagger(tagger_list[t], train_data, test_data, test_sent)\n",
        "            tagger_dict[f\"{tagger_list[t].mro()[0].__name__}\"] = tagger\n",
        "            tagger_dict[f\"acc_{tagger_list[t].mro()[0].__name__}\"] = acc\n",
        "            tagger_dict[f\"context_{tagger_list[t].mro()[0].__name__}\"] = context\n",
        "        else:\n",
        "            tagger, acc, context = model_tagger(tagger_list[t][0],\n",
        "                                                    train_data,\n",
        "                                                    test_data,\n",
        "                                                    test_sent,\n",
        "                                                    backoff=tagger_dict[tagger_list[t][1].mro()[0].__name__])\n",
        "            tagger_dict[f\"{tagger_list[t][0].mro()[0].__name__}_{tagger_list[t][1].mro()[0].__name__}\"] = tagger\n",
        "            tagger_dict[f\"acc_{tagger_list[t][0].mro()[0].__name__}_{tagger_list[t][1].mro()[0].__name__}\"] = acc\n",
        "            tagger_dict[f\"context_{tagger_list[t][0].mro()[0].__name__}_{tagger_list[t][1].mro()[0].__name__}\"] = context\n",
        "    return tagger_dict\n",
        "\n",
        "\n",
        "class MyText(Dataset):\n",
        "    def __init__(self, data, target, transform=None):\n",
        "        self.data = torch.from_numpy(data).long()\n",
        "        self.target = torch.from_numpy(target).long()\n",
        "        self.transform = transform\n",
        "\n",
        "    def __getitem__(self, index):\n",
        "        x = self.data[index]\n",
        "        y = self.target[index]\n",
        "\n",
        "        if self.transform:\n",
        "            x = self.transform(x)\n",
        "\n",
        "        return x, y\n",
        "\n",
        "    def __len__(self):\n",
        "        return len(self.data)\n",
        "\n",
        "\n",
        "def my_own_layer(DF: pd.Series) -> torch.tensor:\n",
        "    texts = DF.to_list()\n",
        "    tfidf_vectorizer = TfidfVectorizer()\n",
        "    tfidf = tfidf_vectorizer.fit_transform(texts)\n",
        "    df_vocab = tfidf_vectorizer.vocabulary_\n",
        "    lookup_tensor = torch.tensor(list(df_vocab.values()), dtype=torch.long)\n",
        "    return lookup_tensor\n",
        "\n",
        "\n",
        "class Model_Text(nn.Module):\n",
        "    def __init__(self, vocab_size, embedding_out, out_channel, size_kernel):\n",
        "        super().__init__()\n",
        "        self.embedding = nn.Embedding(vocab_size, embedding_out)\n",
        "        self.mpool1 = nn.MaxPool1d(kernel_size=size_kernel)\n",
        "        pool_out = embedding_out // self.mpool1.kernel_size\n",
        "        self.fc1 = nn.Linear(pool_out, pool_out // 2)\n",
        "        self.fc2 = nn.Linear(pool_out // 2, pool_out // 4)\n",
        "        self.fc3 = nn.Linear(pool_out // 4, pool_out // 8)\n",
        "        self.fc4 = nn.Linear(pool_out // 8, out_channel)\n",
        "\n",
        "    def forward(self, x):\n",
        "        out_e = self.embedding(x)\n",
        "        pool = self.mpool1(out_e)\n",
        "        out = self.fc1(pool)\n",
        "        r = F.relu(out)\n",
        "        out = self.fc2(r)\n",
        "        r = F.relu(out)\n",
        "        out = self.fc3(r)\n",
        "        r = F.relu(out)\n",
        "        out = self.fc4(r)\n",
        "        outputs = F.softmax(out)\n",
        "        return outputs\n",
        "\n",
        "\n",
        "def Model_fit(Model, X, y, model_epochs, model_optimizers, model_losses, logit_step, device):\n",
        "    Model.train()\n",
        "    start = time.time()\n",
        "    train_accuracy_all = []\n",
        "    train_loss_all = []\n",
        "\n",
        "\n",
        "    for epoch in range(model_epochs):\n",
        "        running_loss, running_items, running_right = 0.0, 0.0, 0.0\n",
        "        for i, data in enumerate(X, 0):\n",
        "            inputs, labels = data[0].to(device), data[1].to(device)\n",
        "\n",
        "            # обнуляем градиент\n",
        "            model_optimizers.zero_grad()\n",
        "\n",
        "            outputs = Model(inputs)\n",
        "            loss = model_losses(outputs, labels)\n",
        "            loss.backward()\n",
        "            model_optimizers.step()\n",
        "\n",
        "            # выводим статистику о процессе обучения\n",
        "            running_loss += loss.item()\n",
        "            running_items += len(labels)\n",
        "            running_right += (labels == torch.max(outputs, 1)[1]).sum()\n",
        "\n",
        "            # выводим статистику о процессе обучения\n",
        "            if i % logit_step == 0:    # печатаем каждые 300 mini-batches\n",
        "                Model.eval()\n",
        "\n",
        "                print(\"\", end=f'\\rEpoch [{epoch + 1}/{model_epochs}]. ' \\\n",
        "                                f'Loss: {running_loss / running_items:.5f}. ' \\\n",
        "                                f'Acc: {running_right / running_items:.5f}. ')\n",
        "\n",
        "                train_accuracy_all.append(running_right / running_items)\n",
        "                train_loss_all.append(running_loss / running_items)\n",
        "\n",
        "                running_loss, running_items, running_right = 0.0, 0.0, 0.0\n",
        "\n",
        "                test_running_right, test_running_total = 0.0, 0.0\n",
        "                for i, data in enumerate(y):\n",
        "\n",
        "                    test_outputs = Model(data[0].to(device))\n",
        "                    test_running_total += len(data[1])\n",
        "                    test_running_right += (data[1].to(device) == torch.max(test_outputs, 1)[1]).sum()\n",
        "\n",
        "                print(\"\", end=f'Test acc: {test_running_right / test_running_total:.5f}')\n",
        "\n",
        "            Model.train()\n",
        "\n",
        "    stop = time.time()\n",
        "    print(f'\\nTraining is finished! It took {round((stop - start), 2)} seconds')\n",
        "    plt.plot(train_loss_all)\n",
        "    plt.show()\n",
        "    return train_accuracy_all, train_loss_all"
      ],
      "metadata": {
        "id": "Zk2RlvcCjLu1"
      },
      "execution_count": null,
      "outputs": []
    },
    {
      "cell_type": "code",
      "source": [],
      "metadata": {
        "id": "52CRq_QykUll"
      },
      "execution_count": null,
      "outputs": []
    },
    {
      "cell_type": "code",
      "source": [
        "path_to_work_dir = \"/content/drive/MyDrive/NLP_HW5/\""
      ],
      "metadata": {
        "id": "M_pNLs7jjsaa"
      },
      "execution_count": null,
      "outputs": []
    },
    {
      "cell_type": "code",
      "source": [
        "drive.mount('/content/drive/')"
      ],
      "metadata": {
        "colab": {
          "base_uri": "https://localhost:8080/"
        },
        "id": "ixjANiUOmCla",
        "outputId": "57fb0514-f072-4046-d779-6170e96645dd"
      },
      "execution_count": null,
      "outputs": [
        {
          "output_type": "stream",
          "name": "stdout",
          "text": [
            "Mounted at /content/drive/\n"
          ]
        }
      ]
    },
    {
      "cell_type": "code",
      "source": [
        "# MDir(path_to_work_dir)"
      ],
      "metadata": {
        "id": "FX8liNm6mDXE"
      },
      "execution_count": null,
      "outputs": []
    },
    {
      "cell_type": "markdown",
      "source": [
        "# About data"
      ],
      "metadata": {
        "id": "8KPioMVtmmUs"
      }
    },
    {
      "cell_type": "markdown",
      "source": [
        "## Load Data"
      ],
      "metadata": {
        "id": "_OcxdHkwmjF5"
      }
    },
    {
      "cell_type": "code",
      "source": [
        "# path_old = path_to_work_dir.replace('HW5', 'HW4')"
      ],
      "metadata": {
        "id": "6ohG2Eh7puNu"
      },
      "execution_count": null,
      "outputs": []
    },
    {
      "cell_type": "code",
      "source": [
        "# shutil.move(path_old + 'RPN_parser.csv', path_to_work_dir + 'RPN_parser.csv')\n",
        "# os.listdir(path_to_work_dir)"
      ],
      "metadata": {
        "colab": {
          "base_uri": "https://localhost:8080/"
        },
        "id": "cOty8o7uqDn7",
        "outputId": "e3d92081-a6a2-43c9-b88e-510634e33b1f"
      },
      "execution_count": null,
      "outputs": [
        {
          "output_type": "execute_result",
          "data": {
            "text/plain": [
              "['RPN_parser.csv', 'clean_rpn_parser.csv', 'words_tag_csv']"
            ]
          },
          "metadata": {},
          "execution_count": 10
        }
      ]
    },
    {
      "cell_type": "markdown",
      "source": [
        "### Load unprocessed data"
      ],
      "metadata": {
        "id": "sHMxgHzv5cS-"
      }
    },
    {
      "cell_type": "code",
      "source": [
        "# df = pd.read_csv(path_to_work_dir + 'RPN_parser.csv')"
      ],
      "metadata": {
        "id": "buXlA0Qvqq_F"
      },
      "execution_count": null,
      "outputs": []
    },
    {
      "cell_type": "code",
      "source": [
        "# cln = CleanText('RPN_questions', 'russian')\n",
        "# df['RPN_questions'] = cln.transform(df)"
      ],
      "metadata": {
        "id": "yMWr_RHFrBEx"
      },
      "execution_count": null,
      "outputs": []
    },
    {
      "cell_type": "code",
      "source": [
        "# df.to_csv(path_to_work_dir + \"clean_rpn_parser.csv\", index=None)"
      ],
      "metadata": {
        "id": "guLv7FCZs4Ko"
      },
      "execution_count": null,
      "outputs": []
    },
    {
      "cell_type": "markdown",
      "source": [
        "### Load clean data"
      ],
      "metadata": {
        "id": "x5FJ9sgs5Pa2"
      }
    },
    {
      "cell_type": "code",
      "source": [
        "df = pd.read_csv(path_to_work_dir + \"clean_rpn_parser.csv\")"
      ],
      "metadata": {
        "id": "j1YI1eKstO_D"
      },
      "execution_count": null,
      "outputs": []
    },
    {
      "cell_type": "markdown",
      "source": [
        "## Review data"
      ],
      "metadata": {
        "id": "O1fW1h9cmsKG"
      }
    },
    {
      "cell_type": "code",
      "source": [
        "df.head(5)"
      ],
      "metadata": {
        "colab": {
          "base_uri": "https://localhost:8080/",
          "height": 206
        },
        "id": "YWG4oU9ErXLe",
        "outputId": "a6bf8209-8668-4e41-9e63-ed7e5736b225"
      },
      "execution_count": null,
      "outputs": [
        {
          "output_type": "execute_result",
          "data": {
            "text/plain": [
              "   doc_id                                      RPN_questions  \\\n",
              "0   44224  здравствуйте заказать сайт техмый швейный обор...   \n",
              "1   44219  здравствуйте проживать адрес москва ул базовск...   \n",
              "2   44214  здравствуйте наш квартиройрасположенный адрес ...   \n",
              "3   44211  купить вайлдберриз цветочный композиция сразу ...   \n",
              "4   44210  добрый денья маркетплейс увиделчтый цена телеф...   \n",
              "\n",
              "                                         RPN_answers  \n",
              "0  ДОбрый день! Вам необходимо указать место нахо...  \n",
              "1  Добрый день! Управление Роспотребнадзора по Мо...  \n",
              "2  Уважаемая Анна! Раздел «Виртуальная приёмная» ...  \n",
              "3  Добрый день! В связи с возросшим числом коммен...  \n",
              "4  Добрый день! Вам необходимо направить обращени...  "
            ],
            "text/html": [
              "\n",
              "  <div id=\"df-3dcebd32-cb61-41f0-beb2-ae6771492dde\" class=\"colab-df-container\">\n",
              "    <div>\n",
              "<style scoped>\n",
              "    .dataframe tbody tr th:only-of-type {\n",
              "        vertical-align: middle;\n",
              "    }\n",
              "\n",
              "    .dataframe tbody tr th {\n",
              "        vertical-align: top;\n",
              "    }\n",
              "\n",
              "    .dataframe thead th {\n",
              "        text-align: right;\n",
              "    }\n",
              "</style>\n",
              "<table border=\"1\" class=\"dataframe\">\n",
              "  <thead>\n",
              "    <tr style=\"text-align: right;\">\n",
              "      <th></th>\n",
              "      <th>doc_id</th>\n",
              "      <th>RPN_questions</th>\n",
              "      <th>RPN_answers</th>\n",
              "    </tr>\n",
              "  </thead>\n",
              "  <tbody>\n",
              "    <tr>\n",
              "      <th>0</th>\n",
              "      <td>44224</td>\n",
              "      <td>здравствуйте заказать сайт техмый швейный обор...</td>\n",
              "      <td>ДОбрый день! Вам необходимо указать место нахо...</td>\n",
              "    </tr>\n",
              "    <tr>\n",
              "      <th>1</th>\n",
              "      <td>44219</td>\n",
              "      <td>здравствуйте проживать адрес москва ул базовск...</td>\n",
              "      <td>Добрый день! Управление Роспотребнадзора по Мо...</td>\n",
              "    </tr>\n",
              "    <tr>\n",
              "      <th>2</th>\n",
              "      <td>44214</td>\n",
              "      <td>здравствуйте наш квартиройрасположенный адрес ...</td>\n",
              "      <td>Уважаемая Анна! Раздел «Виртуальная приёмная» ...</td>\n",
              "    </tr>\n",
              "    <tr>\n",
              "      <th>3</th>\n",
              "      <td>44211</td>\n",
              "      <td>купить вайлдберриз цветочный композиция сразу ...</td>\n",
              "      <td>Добрый день! В связи с возросшим числом коммен...</td>\n",
              "    </tr>\n",
              "    <tr>\n",
              "      <th>4</th>\n",
              "      <td>44210</td>\n",
              "      <td>добрый денья маркетплейс увиделчтый цена телеф...</td>\n",
              "      <td>Добрый день! Вам необходимо направить обращени...</td>\n",
              "    </tr>\n",
              "  </tbody>\n",
              "</table>\n",
              "</div>\n",
              "    <div class=\"colab-df-buttons\">\n",
              "\n",
              "  <div class=\"colab-df-container\">\n",
              "    <button class=\"colab-df-convert\" onclick=\"convertToInteractive('df-3dcebd32-cb61-41f0-beb2-ae6771492dde')\"\n",
              "            title=\"Convert this dataframe to an interactive table.\"\n",
              "            style=\"display:none;\">\n",
              "\n",
              "  <svg xmlns=\"http://www.w3.org/2000/svg\" height=\"24px\" viewBox=\"0 -960 960 960\">\n",
              "    <path d=\"M120-120v-720h720v720H120Zm60-500h600v-160H180v160Zm220 220h160v-160H400v160Zm0 220h160v-160H400v160ZM180-400h160v-160H180v160Zm440 0h160v-160H620v160ZM180-180h160v-160H180v160Zm440 0h160v-160H620v160Z\"/>\n",
              "  </svg>\n",
              "    </button>\n",
              "\n",
              "  <style>\n",
              "    .colab-df-container {\n",
              "      display:flex;\n",
              "      gap: 12px;\n",
              "    }\n",
              "\n",
              "    .colab-df-convert {\n",
              "      background-color: #E8F0FE;\n",
              "      border: none;\n",
              "      border-radius: 50%;\n",
              "      cursor: pointer;\n",
              "      display: none;\n",
              "      fill: #1967D2;\n",
              "      height: 32px;\n",
              "      padding: 0 0 0 0;\n",
              "      width: 32px;\n",
              "    }\n",
              "\n",
              "    .colab-df-convert:hover {\n",
              "      background-color: #E2EBFA;\n",
              "      box-shadow: 0px 1px 2px rgba(60, 64, 67, 0.3), 0px 1px 3px 1px rgba(60, 64, 67, 0.15);\n",
              "      fill: #174EA6;\n",
              "    }\n",
              "\n",
              "    .colab-df-buttons div {\n",
              "      margin-bottom: 4px;\n",
              "    }\n",
              "\n",
              "    [theme=dark] .colab-df-convert {\n",
              "      background-color: #3B4455;\n",
              "      fill: #D2E3FC;\n",
              "    }\n",
              "\n",
              "    [theme=dark] .colab-df-convert:hover {\n",
              "      background-color: #434B5C;\n",
              "      box-shadow: 0px 1px 3px 1px rgba(0, 0, 0, 0.15);\n",
              "      filter: drop-shadow(0px 1px 2px rgba(0, 0, 0, 0.3));\n",
              "      fill: #FFFFFF;\n",
              "    }\n",
              "  </style>\n",
              "\n",
              "    <script>\n",
              "      const buttonEl =\n",
              "        document.querySelector('#df-3dcebd32-cb61-41f0-beb2-ae6771492dde button.colab-df-convert');\n",
              "      buttonEl.style.display =\n",
              "        google.colab.kernel.accessAllowed ? 'block' : 'none';\n",
              "\n",
              "      async function convertToInteractive(key) {\n",
              "        const element = document.querySelector('#df-3dcebd32-cb61-41f0-beb2-ae6771492dde');\n",
              "        const dataTable =\n",
              "          await google.colab.kernel.invokeFunction('convertToInteractive',\n",
              "                                                    [key], {});\n",
              "        if (!dataTable) return;\n",
              "\n",
              "        const docLinkHtml = 'Like what you see? Visit the ' +\n",
              "          '<a target=\"_blank\" href=https://colab.research.google.com/notebooks/data_table.ipynb>data table notebook</a>'\n",
              "          + ' to learn more about interactive tables.';\n",
              "        element.innerHTML = '';\n",
              "        dataTable['output_type'] = 'display_data';\n",
              "        await google.colab.output.renderOutput(dataTable, element);\n",
              "        const docLink = document.createElement('div');\n",
              "        docLink.innerHTML = docLinkHtml;\n",
              "        element.appendChild(docLink);\n",
              "      }\n",
              "    </script>\n",
              "  </div>\n",
              "\n",
              "\n",
              "<div id=\"df-f757552c-3261-4aa3-a208-4350dd79cd35\">\n",
              "  <button class=\"colab-df-quickchart\" onclick=\"quickchart('df-f757552c-3261-4aa3-a208-4350dd79cd35')\"\n",
              "            title=\"Suggest charts\"\n",
              "            style=\"display:none;\">\n",
              "\n",
              "<svg xmlns=\"http://www.w3.org/2000/svg\" height=\"24px\"viewBox=\"0 0 24 24\"\n",
              "     width=\"24px\">\n",
              "    <g>\n",
              "        <path d=\"M19 3H5c-1.1 0-2 .9-2 2v14c0 1.1.9 2 2 2h14c1.1 0 2-.9 2-2V5c0-1.1-.9-2-2-2zM9 17H7v-7h2v7zm4 0h-2V7h2v10zm4 0h-2v-4h2v4z\"/>\n",
              "    </g>\n",
              "</svg>\n",
              "  </button>\n",
              "\n",
              "<style>\n",
              "  .colab-df-quickchart {\n",
              "      --bg-color: #E8F0FE;\n",
              "      --fill-color: #1967D2;\n",
              "      --hover-bg-color: #E2EBFA;\n",
              "      --hover-fill-color: #174EA6;\n",
              "      --disabled-fill-color: #AAA;\n",
              "      --disabled-bg-color: #DDD;\n",
              "  }\n",
              "\n",
              "  [theme=dark] .colab-df-quickchart {\n",
              "      --bg-color: #3B4455;\n",
              "      --fill-color: #D2E3FC;\n",
              "      --hover-bg-color: #434B5C;\n",
              "      --hover-fill-color: #FFFFFF;\n",
              "      --disabled-bg-color: #3B4455;\n",
              "      --disabled-fill-color: #666;\n",
              "  }\n",
              "\n",
              "  .colab-df-quickchart {\n",
              "    background-color: var(--bg-color);\n",
              "    border: none;\n",
              "    border-radius: 50%;\n",
              "    cursor: pointer;\n",
              "    display: none;\n",
              "    fill: var(--fill-color);\n",
              "    height: 32px;\n",
              "    padding: 0;\n",
              "    width: 32px;\n",
              "  }\n",
              "\n",
              "  .colab-df-quickchart:hover {\n",
              "    background-color: var(--hover-bg-color);\n",
              "    box-shadow: 0 1px 2px rgba(60, 64, 67, 0.3), 0 1px 3px 1px rgba(60, 64, 67, 0.15);\n",
              "    fill: var(--button-hover-fill-color);\n",
              "  }\n",
              "\n",
              "  .colab-df-quickchart-complete:disabled,\n",
              "  .colab-df-quickchart-complete:disabled:hover {\n",
              "    background-color: var(--disabled-bg-color);\n",
              "    fill: var(--disabled-fill-color);\n",
              "    box-shadow: none;\n",
              "  }\n",
              "\n",
              "  .colab-df-spinner {\n",
              "    border: 2px solid var(--fill-color);\n",
              "    border-color: transparent;\n",
              "    border-bottom-color: var(--fill-color);\n",
              "    animation:\n",
              "      spin 1s steps(1) infinite;\n",
              "  }\n",
              "\n",
              "  @keyframes spin {\n",
              "    0% {\n",
              "      border-color: transparent;\n",
              "      border-bottom-color: var(--fill-color);\n",
              "      border-left-color: var(--fill-color);\n",
              "    }\n",
              "    20% {\n",
              "      border-color: transparent;\n",
              "      border-left-color: var(--fill-color);\n",
              "      border-top-color: var(--fill-color);\n",
              "    }\n",
              "    30% {\n",
              "      border-color: transparent;\n",
              "      border-left-color: var(--fill-color);\n",
              "      border-top-color: var(--fill-color);\n",
              "      border-right-color: var(--fill-color);\n",
              "    }\n",
              "    40% {\n",
              "      border-color: transparent;\n",
              "      border-right-color: var(--fill-color);\n",
              "      border-top-color: var(--fill-color);\n",
              "    }\n",
              "    60% {\n",
              "      border-color: transparent;\n",
              "      border-right-color: var(--fill-color);\n",
              "    }\n",
              "    80% {\n",
              "      border-color: transparent;\n",
              "      border-right-color: var(--fill-color);\n",
              "      border-bottom-color: var(--fill-color);\n",
              "    }\n",
              "    90% {\n",
              "      border-color: transparent;\n",
              "      border-bottom-color: var(--fill-color);\n",
              "    }\n",
              "  }\n",
              "</style>\n",
              "\n",
              "  <script>\n",
              "    async function quickchart(key) {\n",
              "      const quickchartButtonEl =\n",
              "        document.querySelector('#' + key + ' button');\n",
              "      quickchartButtonEl.disabled = true;  // To prevent multiple clicks.\n",
              "      quickchartButtonEl.classList.add('colab-df-spinner');\n",
              "      try {\n",
              "        const charts = await google.colab.kernel.invokeFunction(\n",
              "            'suggestCharts', [key], {});\n",
              "      } catch (error) {\n",
              "        console.error('Error during call to suggestCharts:', error);\n",
              "      }\n",
              "      quickchartButtonEl.classList.remove('colab-df-spinner');\n",
              "      quickchartButtonEl.classList.add('colab-df-quickchart-complete');\n",
              "    }\n",
              "    (() => {\n",
              "      let quickchartButtonEl =\n",
              "        document.querySelector('#df-f757552c-3261-4aa3-a208-4350dd79cd35 button');\n",
              "      quickchartButtonEl.style.display =\n",
              "        google.colab.kernel.accessAllowed ? 'block' : 'none';\n",
              "    })();\n",
              "  </script>\n",
              "</div>\n",
              "    </div>\n",
              "  </div>\n"
            ],
            "application/vnd.google.colaboratory.intrinsic+json": {
              "type": "dataframe",
              "variable_name": "df",
              "summary": "{\n  \"name\": \"df\",\n  \"rows\": 19993,\n  \"fields\": [\n    {\n      \"column\": \"doc_id\",\n      \"properties\": {\n        \"dtype\": \"number\",\n        \"std\": 8117,\n        \"min\": 16225,\n        \"max\": 44224,\n        \"num_unique_values\": 19993,\n        \"samples\": [\n          16698,\n          35617,\n          41770\n        ],\n        \"semantic_type\": \"\",\n        \"description\": \"\"\n      }\n    },\n    {\n      \"column\": \"RPN_questions\",\n      \"properties\": {\n        \"dtype\": \"string\",\n        \"num_unique_values\": 19615,\n        \"samples\": [\n          \"\\u0443\\u0432\\u0430\\u0436\\u0430\\u0435\\u043c\\u044b\\u0439 \\u0441\\u043f\\u0435\\u0446\\u0438\\u0430\\u043b\\u0438\\u0441\\u0442 \\u043f\\u0440\\u0438\\u0431\\u044b\\u0432\\u0430\\u0442\\u044c \\u043a\\u044b\\u0440\\u0433\\u044b\\u0437\\u0441\\u0442\\u0430\\u043d \\u0434\\u0430\\u043d\\u043d\\u044b\\u0435 \\u043f\\u043e\\u0441\\u043e\\u043b\\u044c\\u0441\\u0442\\u0432\\u043e \\u0440\\u0444 \\u0440\\u0435\\u0441\\u043f\\u0443\\u0431\\u043b\\u0438\\u043a\\u0430 \\u043a\\u044b\\u0440\\u0433\\u044b\\u0437\\u0441\\u0442\\u0430\\u043d \\u043b\\u0430\\u0431\\u043e\\u0440\\u0430\\u0442\\u043e\\u0440\\u0438\\u044f \\u0431\\u043e\\u043d\\u0435\\u0446\\u043a\\u0438\\u0439 \\u0441\\u0435\\u0442\\u044c \\u043b\\u0430\\u0431\\u043e\\u0440\\u0430\\u0442\\u043e\\u0440\\u0438\\u044f \\u043a\\u044b\\u0440\\u0433\\u044b\\u0437\\u0441\\u0442\\u0430\\u043d \\u0430\\u043a\\u043a\\u0440\\u0435\\u0434\\u0438\\u0442\\u043e\\u0432\\u0430\\u0442\\u044c \\u043e\\u0441\\u0443\\u0449\\u0435\\u0441\\u0442\\u0432\\u043b\\u0435\\u043d\\u0438\\u0435 \\u0430\\u043d\\u0430\\u043b\\u0438\\u0437 \\u0440\\u043e\\u0441\\u0441\\u0438\\u044f\\u043d\\u0438\\u043d \\u043a\\u043e\\u0432\\u0438\\u0434 \\u0434\\u0430\\u0442\\u044c \\u043f\\u0440\\u0438\\u043d\\u0438\\u043c\\u0430\\u0442\\u044c\\u0441\\u044f \\u0440\\u043e\\u0441\\u0441\\u0438\\u044f \\u0432\\u043e\\u043f\\u0440\\u043e\\u0441 \\u044d\\u0442\\u043e \\u043c\\u043e\\u0447\\u044c \\u0441\\u0434\\u0435\\u043b\\u0430\\u0442\\u044c \\u0442\\u0435\\u0441\\u0442 \\u043b\\u0430\\u0431\\u043e\\u0440\\u0430\\u0442\\u043e\\u0440\\u0438\\u044f \\u0431\\u043e\\u043d\\u0435\\u0446\\u043a\\u0438\\u0439 \\u043f\\u0440\\u0435\\u0434\\u043e\\u0441\\u0442\\u0430\\u0432\\u0438\\u0442\\u044c \\u043f\\u0440\\u0438\\u043b\\u0451\\u0442 \\u0440\\u043e\\u0441\\u043f\\u043e\\u0442\\u0440\\u0435\\u0431\\u043d\\u0430\\u0434\\u0437\\u043e\\u0440\",\n          \"\\u0434\\u043e\\u0431\\u0440\\u044b\\u0439 \\u0434\\u0435\\u043d\\u044c \\u043f\\u0440\\u0438\\u043e\\u0431\\u0440\\u0435\\u0441\\u0442\\u0438 \\u0434\\u0435\\u0442\\u0441\\u043a\\u0438\\u0439 \\u043a\\u0440\\u043e\\u0432\\u0430\\u0442\\u044c \\u043c\\u0430\\u0433\\u0430\\u0437\\u0438\\u043d \\\"\\u0444\\u0430\\u0431\\u0440\\u0438\\u043a\\u0430 \\u0434\\u0435\\u0442\\u0441\\u0442\\u0432\\u0430\\\" \\u0430\\u0434\\u0440\\u0435\\u0441 \\u0442\\u043e\\u043b\\u044c\\u044f\\u0442\\u0442\\u0438 \\u0443\\u043b \\u0442\\u0440\\u0430\\u043d\\u0441\\u043f\\u043e\\u0440\\u0442\\u043d\\u044b\\u0439 \\u0441\\u0442\\u0440 \\u043c\\u0446 \\\"\\u043f\\u043b\\u0430\\u043d\\u0435\\u0442 \\u043c\\u0435\\u0431\\u0435\\u043b\\u044c\\\" \\u044d\\u0442\\u0430\\u0436 \\u0441\\u0430\\u043b\\u043e\\u043d \\u043c\\u0435\\u0431\\u0435\\u043b\\u044c \\\"cilek\\\" \\u0440\\u0443\\u0431 \\u0434\\u043e\\u0441\\u0442\\u0430\\u0432\\u043a\\u0430 \\u043c\\u0430\\u0433\\u0430\\u0437\\u0438\\u043d \\u043a\\u0440\\u043e\\u0432\\u0430\\u0442\\u044c \\u0441\\u043b\\u043e\\u043c\\u0430\\u0442\\u044c\\u0441\\u044f \\u0432\\u044b\\u043f\\u0430\\u043b\\u0438\\u0442\\u044c \\u043a\\u0440\\u0435\\u043f\\u0451\\u0436\\u043d\\u044b\\u0439 \\u0435\\u0432\\u0440\\u043e\\u0432\\u0438\\u043d\\u0442 \\u043f\\u0440\\u0438\\u0439\\u0442\\u0438 \\u043c\\u0430\\u0441\\u0442\\u0435\\u0440 \\u043c\\u0430\\u0433\\u0430\\u0437\\u0438\\u043d \\u043f\\u043e\\u0447\\u0438\\u043d\\u0438\\u0442\\u044c \\u043f\\u043e\\u043b\\u0433\\u043e\\u0434\\u0430 \\u043f\\u0440\\u043e\\u0438\\u0437\\u043e\\u0439\\u0442\\u0438 \\u0441\\u0430\\u043c\\u044b\\u0439 \\u0433\\u0430\\u0440\\u0430\\u043d\\u0442\\u0438\\u044f \\u043a\\u0440\\u043e\\u0432\\u0430\\u0442\\u044c \\u0433\\u043e\\u0434 \\u043d\\u0435\\u0441\\u043a\\u043e\\u043b\\u044c\\u043a\\u043e \\u043e\\u0431\\u0440\\u0430\\u0449\\u0430\\u0442\\u044c\\u0441\\u044f \\u043c\\u0430\\u0433\\u0430\\u0437\\u0438\\u043d \\u0445\\u043e\\u0437\\u044f\\u0439\\u043a\\u0430 \\u043f\\u0435\\u0440\\u0435\\u0437\\u0432\\u043e\\u043d\\u0438\\u0442\\u044c \\u043e\\u0431\\u0435\\u0449\\u0430\\u0442\\u044c \\u0438\\u0441\\u043f\\u0440\\u0430\\u0432\\u0438\\u0442\\u044c \\u0441\\u0434\\u0435\\u043b\\u0430\\u0442\\u044c \\u043f\\u0440\\u043e\\u0439\\u0442\\u0438 \\u043c\\u0435\\u0441\\u044f\\u0446\",\n          \"\\u043f\\u0440\\u043e\\u0441\\u0438\\u0442\\u044c \\u043f\\u0440\\u043e\\u0432\\u0435\\u0441\\u0442\\u0438 \\u043f\\u0440\\u043e\\u0432\\u0435\\u0440\\u043a\\u0430 \\u0444\\u0430\\u043a\\u0442 \\u0440\\u0430\\u0437\\u043c\\u0435\\u0449\\u0435\\u043d\\u0438\\u0435 \\u0440\\u0430\\u0431\\u043e\\u0442\\u043d\\u0438\\u043a \\u0430\\u043e \\u0443\\u043a \\u043d\\u0430\\u0443\\u043a\\u043e\\u0433\\u0440\\u0430\\u0434 \\u043d\\u0435\\u0436\\u0438\\u043b\\u043e\\u0439 \\u043f\\u043e\\u043c\\u0435\\u0449\\u0435\\u043d\\u0438\\u0435 \\u0434\\u043e\\u043c \\u0443\\u043b\\u0438\\u0446\\u0430 \\u0433\\u0430\\u0433\\u0430\\u0440\\u0438\\u043d \\u0433\\u043e\\u0440\\u043e\\u0434 \\u0436\\u0443\\u043a\\u043e\\u0432\\u0441\\u043a\\u0438\\u0439 \\u043e\\u0439 \\u043f\\u043e\\u0434\\u044a\\u0435\\u0437\\u0434 \\u044b\\u0439 \\u044d\\u0442\\u0430\\u0436\\u0442\\u044c \\u043f\\u043e\\u043c\\u0435\\u0449\\u0435\\u043d\\u0438\\u0435 \\u0440\\u0430\\u0441\\u043f\\u043e\\u043b\\u0430\\u0433\\u0430\\u0442\\u044c\\u0441\\u044f \\u0441\\u043a\\u043b\\u0430\\u0434 \\u043c\\u0430\\u0442\\u0435\\u0440\\u0438\\u0430\\u043b \\u0431\\u044b\\u0442\\u043e\\u0432\\u043e\\u0439 \\u0442\\u0435\\u0445\\u043d\\u0438\\u043a\\u0430 \\u043c\\u0430\\u0442\\u0440\\u0430\\u0441 \\u043f\\u043e\\u043b \\u0441\\u043e\\u043d \\u043f\\u0440\\u0435\\u0434\\u043f\\u043e\\u043b\\u043e\\u0436\\u0438\\u0442\\u0435\\u043b\\u044c\\u043d\\u043e \\u043d\\u0435\\u043c\\u043e\\u0439 \\u043c\\u043e\\u0447\\u044c \\u043f\\u0440\\u043e\\u0436\\u0438\\u0432\\u0430\\u0442\\u044c \\u0441\\u0435\\u043c\\u044c\\u044f \\u0440\\u0430\\u0431\\u043e\\u0442\\u043d\\u0438\\u043a \\u0442\\u0430\\u043c\\u0436\\u0430 \\u0440\\u0430\\u0437\\u043c\\u0435\\u0449\\u0430\\u0442\\u044c\\u0441\\u044f \\u0433\\u0430\\u0437\\u043e\\u0432\\u044b\\u0439 \\u0431\\u0430\\u043b\\u043b\\u043e\\u043d \\u044d\\u043b\\u0435\\u043a\\u0442\\u0440\\u0438\\u0447\\u0435\\u0441\\u043a\\u0438\\u0439 \\u043f\\u0440\\u0438\\u0431\\u043e\\u0440\"\n        ],\n        \"semantic_type\": \"\",\n        \"description\": \"\"\n      }\n    },\n    {\n      \"column\": \"RPN_answers\",\n      \"properties\": {\n        \"dtype\": \"string\",\n        \"num_unique_values\": 18490,\n        \"samples\": [\n          \"\\u0414\\u043e\\u0431\\u0440\\u044b\\u0439 \\u0434\\u0435\\u043d\\u044c! \\u0412\\u0430\\u043c \\u043d\\u0435\\u043e\\u0431\\u0445\\u043e\\u0434\\u0438\\u043c\\u043e \\u043e\\u0431\\u0440\\u0430\\u0442\\u0438\\u0442\\u044c\\u0441\\u044f \\u0432 \\u0442\\u0435\\u0445\\u043f\\u043e\\u0434\\u0434\\u0435\\u0440\\u0436\\u043a\\u0443 \\u043f\\u043e\\u0440\\u0442\\u0430\\u043b\\u0430 \\u00ab\\u0413\\u043e\\u0441\\u0443\\u0441\\u043b\\u0443\\u0433\\u0438\\u00bb. \\u0412\\u043e\\u043f\\u0440\\u043e\\u0441 \\u043d\\u0435 \\u0432\\u0445\\u043e\\u0434\\u0438\\u0442 \\u0432 \\u043a\\u043e\\u043c\\u043f\\u0435\\u0442\\u0435\\u043d\\u0446\\u0438\\u044e \\u0423\\u043f\\u0440\\u0430\\u0432\\u043b\\u0435\\u043d\\u0438\\u044f \\u0420\\u043e\\u0441\\u043f\\u043e\\u0442\\u0440\\u0435\\u0431\\u043d\\u0430\\u0434\\u0437\\u043e\\u0440\\u0430 \\u043f\\u043e \\u041c\\u043e\\u0441\\u043a\\u043e\\u0432\\u0441\\u043a\\u043e\\u0439 \\u043e\\u0431\\u043b\\u0430\\u0441\\u0442\\u0438.\\r\\n\\r\\n\",\n          \"\\u0423\\u0432\\u0430\\u0436\\u0430\\u0435\\u043c\\u044b\\u0439 \\u041e\\u043b\\u0435\\u0433!\\r\\n\\r\\n\\u041f\\u043e \\u043f\\u043e\\u0432\\u043e\\u0434\\u0443 \\u0412\\u0430\\u0448\\u0435\\u0439 \\u0441\\u0438\\u0442\\u0443\\u0430\\u0446\\u0438\\u0438 \\u0412\\u0430\\u043c \\u0441\\u043b\\u0435\\u0434\\u0443\\u0435\\u0442 \\u043e\\u0431\\u0440\\u0430\\u0442\\u0438\\u0442\\u044c\\u0441\\u044f \\u043f\\u043e \\u043f\\u0440\\u0438\\u043d\\u0430\\u0434\\u043b\\u0435\\u0436\\u043d\\u043e\\u0441\\u0442\\u0438 \\u0441 \\u043f\\u0438\\u0441\\u044c\\u043c\\u0435\\u043d\\u043d\\u043e\\u0439 \\u0436\\u0430\\u043b\\u043e\\u0431\\u043e\\u0439 \\u0432 \\u043c\\u0438\\u043d\\u0438\\u0441\\u0442\\u0435\\u0440\\u0441\\u0442\\u0432\\u043e \\u0437\\u0434\\u0440\\u0430\\u0432\\u043e\\u043e\\u0445\\u0440\\u0430\\u043d\\u0435\\u043d\\u0438\\u044f \\u041a\\u0438\\u0440\\u043e\\u0432\\u0441\\u043a\\u043e\\u0439 \\u043e\\u0431\\u043b\\u0430\\u0441\\u0442\\u0438 (610019, \\u0433. \\u041a\\u0438\\u0440\\u043e\\u0432, \\u0443\\u043b.\\u041a.\\u041b\\u0438\\u0431\\u043a\\u043d\\u0435\\u0445\\u0442\\u0430, 69, (8332) 27-27-25 \\u0434\\u043e\\u0431. 2500, ip-depart@medstat.kirov.ru, \\u0441\\u0430\\u0439\\u0442 http://www.medkirov.ru/, \\u043f\\u043e\\u0441\\u043a\\u043e\\u043b\\u044c\\u043a\\u0443 \\u043e\\u0441\\u0443\\u0449\\u0435\\u0441\\u0442\\u0432\\u043b\\u0435\\u043d\\u0438\\u0435  \\u043a\\u043e\\u043d\\u0442\\u0440\\u043e\\u043b\\u044f \\u043a\\u0430\\u0447\\u0435\\u0441\\u0442\\u0432\\u0430 \\u0438 \\u0431\\u0435\\u0437\\u043e\\u043f\\u0430\\u0441\\u043d\\u043e\\u0441\\u0442\\u0438 \\u043c\\u0435\\u0434\\u0438\\u0446\\u0438\\u043d\\u0441\\u043a\\u043e\\u0439 \\u0434\\u0435\\u044f\\u0442\\u0435\\u043b\\u044c\\u043d\\u043e\\u0441\\u0442\\u0438 \\u0432 \\u043e\\u0442\\u043d\\u043e\\u0448\\u0435\\u043d\\u0438\\u0438 \\u043f\\u043e\\u0434\\u0432\\u0435\\u0434\\u043e\\u043c\\u0441\\u0442\\u0432\\u0435\\u043d\\u043d\\u044b\\u0445 \\u043c\\u0435\\u0434\\u0438\\u0446\\u0438\\u043d\\u0441\\u043a\\u0438\\u0445 \\u043e\\u0440\\u0433\\u0430\\u043d\\u0438\\u0437\\u0430\\u0446\\u0438\\u0439 \\u043e\\u0442\\u043d\\u0435\\u0441\\u0435\\u043d\\u043e \\u043a \\u043a\\u043e\\u043c\\u043f\\u0435\\u0442\\u0435\\u043d\\u0446\\u0438\\u0438 \\u0434\\u0430\\u043d\\u043d\\u043e\\u0433\\u043e \\u041c\\u0438\\u043d\\u0438\\u0441\\u0442\\u0435\\u0440\\u0441\\u0442\\u0432\\u0430.\\r\\n\\u041a\\u0440\\u043e\\u043c\\u0435 \\u0442\\u043e\\u0433\\u043e, \\u0412\\u044b \\u0432\\u043f\\u0440\\u0430\\u0432\\u0435 \\u043e\\u0431\\u0440\\u0430\\u0442\\u0438\\u0442\\u044c\\u0441\\u044f \\u043a \\u0438\\u0441\\u043f\\u043e\\u043b\\u043d\\u0438\\u0442\\u0435\\u043b\\u044e (\\u0432 \\u043c\\u0435\\u0434\\u0438\\u0446\\u0438\\u043d\\u0441\\u043a\\u043e\\u0435 \\u0443\\u0447\\u0440\\u0435\\u0436\\u0434\\u0435\\u043d\\u0438\\u0435) \\u0441 \\u0441\\u043e\\u043e\\u0442\\u0432\\u0435\\u0442\\u0441\\u0442\\u0432\\u0443\\u044e\\u0449\\u0435\\u0439 \\u043f\\u0438\\u0441\\u044c\\u043c\\u0435\\u043d\\u043d\\u043e\\u0439 \\u043f\\u0440\\u0435\\u0442\\u0435\\u043d\\u0437\\u0438\\u0435\\u0439 \\u0438 \\u0443\\u043a\\u0430\\u0437\\u0430\\u043d\\u0438\\u0435\\u043c \\u0441\\u043e\\u043e\\u0442\\u0432\\u0435\\u0442\\u0441\\u0442\\u0432\\u0443\\u044e\\u0449\\u0435\\u0433\\u043e \\u0442\\u0440\\u0435\\u0431\\u043e\\u0432\\u0430\\u043d\\u0438\\u044f. \\u041f\\u0440\\u0438 \\u044d\\u0442\\u043e\\u043c \\u043f\\u0440\\u0435\\u0442\\u0435\\u043d\\u0437\\u0438\\u044f \\u043e\\u0444\\u043e\\u0440\\u043c\\u043b\\u044f\\u0435\\u0442\\u0441\\u044f \\u0432 \\u0434\\u0432\\u0443\\u0445 \\u044d\\u043a\\u0437\\u0435\\u043c\\u043f\\u043b\\u044f\\u0440\\u0430\\u0445, \\u043e\\u0434\\u0438\\u043d \\u0438\\u0437 \\u043a\\u043e\\u0442\\u043e\\u0440\\u044b\\u0445 \\u043d\\u0435\\u043e\\u0431\\u0445\\u043e\\u0434\\u0438\\u043c\\u043e \\u0432\\u0440\\u0443\\u0447\\u0438\\u0442\\u044c \\u043f\\u043e\\u0434 \\u043e\\u0442\\u043c\\u0435\\u0442\\u043a\\u0443 \\u043e \\u043f\\u0440\\u0438\\u043d\\u044f\\u0442\\u0438\\u0438 \\u043a \\u0440\\u0430\\u0441\\u0441\\u043c\\u043e\\u0442\\u0440\\u0435\\u043d\\u0438\\u044e, \\u043b\\u0438\\u0431\\u043e \\u043d\\u0430\\u043f\\u0440\\u0430\\u0432\\u0438\\u0442\\u044c \\u043f\\u043e\\u0447\\u0442\\u043e\\u0432\\u044b\\u043c \\u043e\\u0442\\u043f\\u0440\\u0430\\u0432\\u043b\\u0435\\u043d\\u0438\\u0435\\u043c \\u0441 \\u043e\\u0431\\u0440\\u0430\\u0442\\u043d\\u044b\\u043c \\u0443\\u0432\\u0435\\u0434\\u043e\\u043c\\u043b\\u0435\\u043d\\u0438\\u0435\\u043c. \\u041f\\u0440\\u0438 \\u043d\\u0435\\u043e\\u0431\\u043e\\u0441\\u043d\\u043e\\u0432\\u0430\\u043d\\u043d\\u043e\\u043c \\u043e\\u0442\\u043a\\u0430\\u0437\\u0435 \\u0438\\u0441\\u043f\\u043e\\u043b\\u043d\\u0438\\u0442\\u0435\\u043b\\u044f \\u0443\\u0434\\u043e\\u0432\\u043b\\u0435\\u0442\\u0432\\u043e\\u0440\\u0438\\u0442\\u044c \\u0437\\u0430\\u044f\\u0432\\u043b\\u0435\\u043d\\u043d\\u044b\\u0435 \\u0442\\u0440\\u0435\\u0431\\u043e\\u0432\\u0430\\u043d\\u0438\\u044f \\u0434\\u043e\\u0431\\u0440\\u043e\\u0432\\u043e\\u043b\\u044c\\u043d\\u043e, \\u0434\\u0430\\u043b\\u044c\\u043d\\u0435\\u0439\\u0448\\u0435\\u0435 \\u0440\\u0430\\u0437\\u0440\\u0435\\u0448\\u0435\\u043d\\u0438\\u0435 \\u0441\\u043f\\u043e\\u0440\\u0430 (\\u0432 \\u0441\\u043b\\u0443\\u0447\\u0430\\u0435 \\u043d\\u0430\\u043b\\u0438\\u0447\\u0438\\u044f \\u043f\\u0440\\u0430\\u0432\\u043e\\u0432\\u044b\\u0445 \\u043e\\u0441\\u043d\\u043e\\u0432\\u0430\\u043d\\u0438\\u0439) \\u043f\\u043e\\u0434\\u043b\\u0435\\u0436\\u0438\\u0442 \\u0440\\u0430\\u0441\\u0441\\u043c\\u043e\\u0442\\u0440\\u0435\\u043d\\u0438\\u044e \\u043d\\u0435\\u043f\\u043e\\u0441\\u0440\\u0435\\u0434\\u0441\\u0442\\u0432\\u0435\\u043d\\u043d\\u043e \\u0432 \\u0441\\u0443\\u0434\\u0435\\u0431\\u043d\\u043e\\u043c \\u043f\\u043e\\u0440\\u044f\\u0434\\u043a\\u0435. \\r\\n\",\n          \"\\u0423\\u0432\\u0430\\u0436\\u0430\\u0435\\u043c\\u044b\\u0439 \\u0410\\u043b\\u0435\\u043a\\u0441\\u0435\\u0439!\\r\\n\\u0412 \\u0441\\u043e\\u043e\\u0442\\u0432\\u0435\\u0442\\u0441\\u0442\\u0432\\u0438\\u0438 \\u0441 \\u041f\\u043e\\u043b\\u043e\\u0436\\u0435\\u043d\\u0438\\u0435\\u043c \\u043e\\u0431 \\u0423\\u043f\\u0440\\u0430\\u0432\\u043b\\u0435\\u043d\\u0438\\u0438 \\u0420\\u043e\\u0441\\u043f\\u043e\\u0442\\u0440\\u0435\\u0431\\u043d\\u0430\\u0434\\u0437\\u043e\\u0440\\u0430 \\u043f\\u043e \\u041e\\u0440\\u0435\\u043d\\u0431\\u0443\\u0440\\u0433\\u0441\\u043a\\u043e\\u0439 \\u043e\\u0431\\u043b\\u0430\\u0441\\u0442\\u0438, \\u0443\\u0442\\u0432\\u0435\\u0440\\u0436\\u0434\\u0435\\u043d\\u043d\\u044b\\u043c \\u043f\\u0440\\u0438\\u043a\\u0430\\u0437\\u043e\\u043c \\u0424\\u0435\\u0434\\u0435\\u0440\\u0430\\u043b\\u044c\\u043d\\u043e\\u0439 \\u0441\\u043b\\u0443\\u0436\\u0431\\u044b \\u043f\\u043e \\u043d\\u0430\\u0434\\u0437\\u043e\\u0440\\u0443 \\u0432 \\u0441\\u0444\\u0435\\u0440\\u0435 \\u0437\\u0430\\u0449\\u0438\\u0442\\u044b \\u043f\\u0440\\u0430\\u0432 \\u043f\\u043e\\u0442\\u0440\\u0435\\u0431\\u0438\\u0442\\u0435\\u043b\\u0435\\u0439 \\u0438 \\u0431\\u043b\\u0430\\u0433\\u043e\\u043f\\u043e\\u043b\\u0443\\u0447\\u0438\\u044f \\u0447\\u0435\\u043b\\u043e\\u0432\\u0435\\u043a\\u0430 \\u043e\\u0442 09.07.2012 \\u2116 693, \\u0423\\u043f\\u0440\\u0430\\u0432\\u043b\\u0435\\u043d\\u0438\\u0435 \\u043e\\u0441\\u0443\\u0449\\u0435\\u0441\\u0442\\u0432\\u043b\\u044f\\u0435\\u0442 \\u043d\\u0430\\u0434\\u0437\\u043e\\u0440 \\u0438 \\u043a\\u043e\\u043d\\u0442\\u0440\\u043e\\u043b\\u044c \\u0437\\u0430 \\u0438\\u0441\\u043f\\u043e\\u043b\\u043d\\u0435\\u043d\\u0438\\u0435\\u043c \\u043e\\u0431\\u044f\\u0437\\u0430\\u0442\\u0435\\u043b\\u044c\\u043d\\u044b\\u0445 \\u0442\\u0440\\u0435\\u0431\\u043e\\u0432\\u0430\\u043d\\u0438\\u0439 \\u0437\\u0430\\u043a\\u043e\\u043d\\u043e\\u0434\\u0430\\u0442\\u0435\\u043b\\u044c\\u0441\\u0442\\u0432\\u0430 \\u0420\\u043e\\u0441\\u0441\\u0438\\u0439\\u0441\\u043a\\u043e\\u0439 \\u0424\\u0435\\u0434\\u0435\\u0440\\u0430\\u0446\\u0438\\u0438 \\u0432 \\u043e\\u0431\\u043b\\u0430\\u0441\\u0442\\u0438 \\u043e\\u0431\\u0435\\u0441\\u043f\\u0435\\u0447\\u0435\\u043d\\u0438\\u044f \\u0441\\u0430\\u043d\\u0438\\u0442\\u0430\\u0440\\u043d\\u043e-\\u044d\\u043f\\u0438\\u0434\\u0435\\u043c\\u0438\\u043e\\u043b\\u043e\\u0433\\u0438\\u0447\\u0435\\u0441\\u043a\\u043e\\u0433\\u043e \\u0431\\u043b\\u0430\\u0433\\u043e\\u043f\\u043e\\u043b\\u0443\\u0447\\u0438\\u044f \\u043d\\u0430\\u0441\\u0435\\u043b\\u0435\\u043d\\u0438\\u044f, \\u0437\\u0430\\u0449\\u0438\\u0442\\u044b \\u043f\\u0440\\u0430\\u0432 \\u043f\\u043e\\u0442\\u0440\\u0435\\u0431\\u0438\\u0442\\u0435\\u043b\\u0435\\u0439 \\u0438 \\u043d\\u0430 \\u043f\\u043e\\u0442\\u0440\\u0435\\u0431\\u0438\\u0442\\u0435\\u043b\\u044c\\u0441\\u043a\\u043e\\u043c \\u0440\\u044b\\u043d\\u043a\\u0435. \\u041f\\u0440\\u0438 \\u044d\\u0442\\u043e\\u043c, \\u0434\\u043e\\u043b\\u0436\\u043d\\u043e\\u0441\\u0442\\u043d\\u044b\\u0435 \\u043b\\u0438\\u0446\\u0430 \\u0423\\u043f\\u0440\\u0430\\u0432\\u043b\\u0435\\u043d\\u0438\\u044f \\u0438\\u043c\\u0435\\u044e\\u0442 \\u043f\\u0440\\u0430\\u0432\\u043e \\u043f\\u0440\\u0438\\u043c\\u0435\\u043d\\u044f\\u0442\\u044c \\u043f\\u0440\\u0435\\u0434\\u0443\\u0441\\u043c\\u043e\\u0442\\u0440\\u0435\\u043d\\u043d\\u044b\\u0435 \\u0437\\u0430\\u043a\\u043e\\u043d\\u043e\\u0434\\u0430\\u0442\\u0435\\u043b\\u044c\\u0441\\u0442\\u0432\\u043e\\u043c \\u0420\\u043e\\u0441\\u0441\\u0438\\u0439\\u0441\\u043a\\u043e\\u0439 \\u0424\\u0435\\u0434\\u0435\\u0440\\u0430\\u0446\\u0438\\u0438 \\u043c\\u0435\\u0440\\u044b \\u043e\\u0433\\u0440\\u0430\\u043d\\u0438\\u0447\\u0438\\u0442\\u0435\\u043b\\u044c\\u043d\\u043e\\u0433\\u043e, \\u043f\\u0440\\u0435\\u0434\\u0443\\u043f\\u0440\\u0435\\u0434\\u0438\\u0442\\u0435\\u043b\\u044c\\u043d\\u043e\\u0433\\u043e \\u0438 \\u043f\\u0440\\u043e\\u0444\\u0438\\u043b\\u0430\\u043a\\u0442\\u0438\\u0447\\u0435\\u0441\\u043a\\u043e\\u0433\\u043e \\u0445\\u0430\\u0440\\u0430\\u043a\\u0442\\u0435\\u0440\\u0430 \\u0442\\u043e\\u043b\\u044c\\u043a\\u043e \\u043f\\u043e \\u0432\\u043e\\u043f\\u0440\\u043e\\u0441\\u0430\\u043c, \\u043e\\u0442\\u043d\\u0435\\u0441\\u0451\\u043d\\u043d\\u044b\\u043c \\u043a \\u0435\\u0433\\u043e \\u043a\\u043e\\u043c\\u043f\\u0435\\u0442\\u0435\\u043d\\u0446\\u0438\\u0438. \\u0418\\u0437\\u043b\\u043e\\u0436\\u0435\\u043d\\u043d\\u044b\\u0435 \\u0412\\u0430\\u043c\\u0438 \\u0432\\u043e\\u043f\\u0440\\u043e\\u0441\\u044b \\u043d\\u0435 \\u043c\\u043e\\u0433\\u0443\\u0442 \\u0431\\u044b\\u0442\\u044c \\u0440\\u0430\\u0441\\u0441\\u043c\\u043e\\u0442\\u0440\\u0435\\u043d\\u044b \\u0423\\u043f\\u0440\\u0430\\u0432\\u043b\\u0435\\u043d\\u0438\\u0435\\u043c, \\u043f\\u043e\\u0441\\u043a\\u043e\\u043b\\u044c\\u043a\\u0443 \\u043d\\u0430\\u0445\\u043e\\u0434\\u044f\\u0442\\u0441\\u044f \\u0437\\u0430 \\u043f\\u0440\\u0435\\u0434\\u0435\\u043b\\u0430\\u043c\\u0438 \\u0443\\u0441\\u0442\\u0430\\u043d\\u043e\\u0432\\u043b\\u0435\\u043d\\u043d\\u043e\\u0439 \\u043a\\u043e\\u043c\\u043f\\u0435\\u0442\\u0435\\u043d\\u0446\\u0438\\u0438. \\u0417\\u0430 \\u0440\\u0430\\u0437\\u044a\\u044f\\u0441\\u043d\\u0435\\u043d\\u0438\\u044f\\u043c\\u0438 \\u043f\\u043e \\u0432\\u043e\\u043f\\u0440\\u043e\\u0441\\u0430\\u043c \\u043f\\u043e\\u0440\\u044f\\u0434\\u043a\\u0430 \\u043e\\u043a\\u0430\\u0437\\u0430\\u043d\\u0438\\u044f \\u043a\\u043e\\u043c\\u043c\\u0443\\u043d\\u0430\\u043b\\u044c\\u043d\\u044b\\u0445 \\u0443\\u0441\\u043b\\u0443\\u0433 \\u0438 \\u0440\\u0430\\u0441\\u0447\\u0435\\u0442\\u0430 (\\u043f\\u0435\\u0440\\u0435\\u0440\\u0430\\u0441\\u0447\\u0435\\u0442\\u0430) \\u043f\\u043b\\u0430\\u0442\\u044b \\u0437\\u0430 \\u043a\\u043e\\u043c\\u043c\\u0443\\u043d\\u0430\\u043b\\u044c\\u043d\\u044b\\u0435 \\u0443\\u0441\\u043b\\u0443\\u0433\\u0438 \\u0412\\u044b \\u043c\\u043e\\u0436\\u0435\\u0442\\u0435 \\u043e\\u0431\\u0440\\u0430\\u0442\\u0438\\u0442\\u044c\\u0441\\u044f \\u0432 \\u0413\\u043e\\u0441\\u0443\\u0434\\u0430\\u0440\\u0441\\u0442\\u0432\\u0435\\u043d\\u043d\\u0443\\u044e \\u0436\\u0438\\u043b\\u0438\\u0449\\u043d\\u0443\\u044e \\u0438\\u043d\\u0441\\u043f\\u0435\\u043a\\u0446\\u0438\\u044e \\u043f\\u043e \\u041e\\u0440\\u0435\\u043d\\u0431\\u0443\\u0440\\u0433\\u0441\\u043a\\u043e\\u0439 \\u043e\\u0431\\u043b\\u0430\\u0441\\u0442\\u0438 \\u043f\\u043e \\u0430\\u0434\\u0440\\u0435\\u0441\\u0443: 460000, \\u0433 \\u041e\\u0440\\u0435\\u043d\\u0431\\u0443\\u0440\\u0433, \\u0443\\u043b. \\u0426\\u0432\\u0438\\u043b\\u043b\\u0438\\u043d\\u0433\\u0430, \\u0434. 14/1, \\u0438\\u043b\\u0438 \\u0442\\u0435\\u043b\\u0435\\u0444\\u043e\\u043d\\u0443 \\u00ab\\u0433\\u043e\\u0440\\u044f\\u0447\\u0435\\u0439 \\u043b\\u0438\\u043d\\u0438\\u0438\\u00bb: (3532) 43-69-11.\"\n        ],\n        \"semantic_type\": \"\",\n        \"description\": \"\"\n      }\n    }\n  ]\n}"
            }
          },
          "metadata": {},
          "execution_count": 11
        }
      ]
    },
    {
      "cell_type": "markdown",
      "source": [
        "# Natasha"
      ],
      "metadata": {
        "id": "LD69XeBp1PUx"
      }
    },
    {
      "cell_type": "markdown",
      "source": [
        "## Preprocessing data"
      ],
      "metadata": {
        "id": "3aHTJ_UpvkO6"
      }
    },
    {
      "cell_type": "markdown",
      "source": [
        "Create a tag corpus"
      ],
      "metadata": {
        "id": "zT9WmOXevzi7"
      }
    },
    {
      "cell_type": "code",
      "source": [
        "chunk_corpus = []\n",
        "for text in tqdm(df['RPN_questions']):\n",
        "    sent_list = []\n",
        "    doc = Doc(text)\n",
        "    doc.segment(segmenter)\n",
        "    doc.tag_morph(morph_tagger)\n",
        "    doc.tag_ner(ner_tagger)\n",
        "    sent = doc.tokens\n",
        "    for s in sent:\n",
        "        sent_list.append((s.text, s.pos))\n",
        "    chunk_corpus.append(sent_list)"
      ],
      "metadata": {
        "id": "F3rj4vmDzDTV",
        "colab": {
          "base_uri": "https://localhost:8080/"
        },
        "outputId": "3cc27834-b495-462b-e9f1-1b5d1967de58"
      },
      "execution_count": null,
      "outputs": [
        {
          "output_type": "stream",
          "name": "stderr",
          "text": [
            "100%|██████████| 19993/19993 [07:19<00:00, 45.50it/s]\n"
          ]
        }
      ]
    },
    {
      "cell_type": "markdown",
      "source": [
        "Split data"
      ],
      "metadata": {
        "id": "GMSLBG0yv6NT"
      }
    },
    {
      "cell_type": "code",
      "source": [
        "train_data, test_data = train_test_split(chunk_corpus, test_size=0.1, random_state=42)\n",
        "len(train_data), len(test_data)"
      ],
      "metadata": {
        "colab": {
          "base_uri": "https://localhost:8080/"
        },
        "id": "641cu3DCxM9U",
        "outputId": "26db8235-6384-4ca9-dfe2-1e7541e6cb1e"
      },
      "execution_count": null,
      "outputs": [
        {
          "output_type": "execute_result",
          "data": {
            "text/plain": [
              "(17993, 2000)"
            ]
          },
          "metadata": {},
          "execution_count": 32
        }
      ]
    },
    {
      "cell_type": "code",
      "source": [
        "train_data, test_sents = train_test_split(train_data, test_size=0.1, random_state=42)\n",
        "len(train_data), len(test_sents)"
      ],
      "metadata": {
        "colab": {
          "base_uri": "https://localhost:8080/"
        },
        "id": "xuT9pPOYAE11",
        "outputId": "15dcccdd-48df-444b-dd8e-70463a8dfcfe"
      },
      "execution_count": null,
      "outputs": [
        {
          "output_type": "execute_result",
          "data": {
            "text/plain": [
              "(16193, 1800)"
            ]
          },
          "metadata": {},
          "execution_count": 33
        }
      ]
    },
    {
      "cell_type": "code",
      "source": [
        "test_sent = []\n",
        "for sen in test_sents:\n",
        "    for s in sen:\n",
        "        test_sent.append(s[0])"
      ],
      "metadata": {
        "id": "F6p-Uz8eASQK"
      },
      "execution_count": null,
      "outputs": []
    },
    {
      "cell_type": "markdown",
      "source": [
        "## Find the best taggers (Natasha)"
      ],
      "metadata": {
        "id": "ny7eZfZ_XZmd"
      }
    },
    {
      "cell_type": "code",
      "source": [
        "tagger_lists = [UnigramTagger,\n",
        "                BigramTagger,\n",
        "                TrigramTagger,\n",
        "                [BigramTagger, UnigramTagger],\n",
        "                [TrigramTagger, UnigramTagger],\n",
        "                [TrigramTagger, BigramTagger]]"
      ],
      "metadata": {
        "id": "Ga6WgJKeJhbb"
      },
      "execution_count": null,
      "outputs": []
    },
    {
      "cell_type": "code",
      "source": [
        "td = Find_best_tagger(tagger_lists, train_data, test_data, test_sent)"
      ],
      "metadata": {
        "colab": {
          "base_uri": "https://localhost:8080/"
        },
        "id": "CM2VPXyzNoNw",
        "outputId": "b64460c8-42c3-4583-c178-695fac74418c"
      },
      "execution_count": null,
      "outputs": [
        {
          "output_type": "stream",
          "name": "stderr",
          "text": [
            "<ipython-input-5-39dd93b506a2>:96: DeprecationWarning: \n",
            "  Function evaluate() has been deprecated.  Use accuracy(gold)\n",
            "  instead.\n",
            "  return tagger, tagger.evaluate(y), tagger.tag(test_sent)\n"
          ]
        }
      ]
    },
    {
      "cell_type": "code",
      "source": [
        "td.keys()"
      ],
      "metadata": {
        "colab": {
          "base_uri": "https://localhost:8080/"
        },
        "id": "OxrktkiHPS7j",
        "outputId": "81f50f63-fcf1-46f1-c666-6920f625f7e5"
      },
      "execution_count": null,
      "outputs": [
        {
          "output_type": "execute_result",
          "data": {
            "text/plain": [
              "dict_keys(['UnigramTagger', 'acc_UnigramTagger', 'context_UnigramTagger', 'BigramTagger', 'acc_BigramTagger', 'context_BigramTagger', 'TrigramTagger', 'acc_TrigramTagger', 'context_TrigramTagger', 'BigramTagger_UnigramTagger', 'acc_BigramTagger_UnigramTagger', 'context_BigramTagger_UnigramTagger', 'TrigramTagger_UnigramTagger', 'acc_TrigramTagger_UnigramTagger', 'context_TrigramTagger_UnigramTagger', 'TrigramTagger_BigramTagger', 'acc_TrigramTagger_BigramTagger', 'context_TrigramTagger_BigramTagger'])"
            ]
          },
          "metadata": {},
          "execution_count": 37
        }
      ]
    },
    {
      "cell_type": "markdown",
      "source": [
        "## Combining tagger"
      ],
      "metadata": {
        "id": "I_nehhmW0EqM"
      }
    },
    {
      "cell_type": "code",
      "source": [
        "backoff = DefaultTagger('NN')\n",
        "combigram = backoff_tagger(train_data,\n",
        "                     [UnigramTagger, BigramTagger, TrigramTagger],\n",
        "                     backoff = backoff)\n",
        "\n",
        "acc_combi = combigram.evaluate(test_data)\n",
        "combi_context = combigram.tag(test_sent)"
      ],
      "metadata": {
        "colab": {
          "base_uri": "https://localhost:8080/"
        },
        "id": "-cK7SN8Jy_v1",
        "outputId": "55823d0e-11ce-4e85-cd05-4bd8887a046c"
      },
      "execution_count": null,
      "outputs": [
        {
          "output_type": "stream",
          "name": "stderr",
          "text": [
            "<ipython-input-38-b021f8a14c74>:6: DeprecationWarning: \n",
            "  Function evaluate() has been deprecated.  Use accuracy(gold)\n",
            "  instead.\n",
            "  acc_combi = combigram.evaluate(test_data)\n"
          ]
        }
      ]
    },
    {
      "cell_type": "code",
      "source": [
        "acc_combi, combi_context[:10]"
      ],
      "metadata": {
        "colab": {
          "base_uri": "https://localhost:8080/"
        },
        "id": "4rLT8RZz0em1",
        "outputId": "74a6ea9e-cf5a-469e-e3c1-a14190bfaa96"
      },
      "execution_count": null,
      "outputs": [
        {
          "output_type": "execute_result",
          "data": {
            "text/plain": [
              "(0.8849583760976166,\n",
              " [('добрый', 'ADJ'),\n",
              "  ('день', 'NOUN'),\n",
              "  ('адрес', 'NOUN'),\n",
              "  ('пушкино', 'NOUN'),\n",
              "  ('ул', 'NOUN'),\n",
              "  ('маяковский', 'VERB'),\n",
              "  ('кв', 'ADJ'),\n",
              "  ('второй', 'ADJ'),\n",
              "  ('неделя', 'NOUN'),\n",
              "  ('кран', 'NOUN')])"
            ]
          },
          "metadata": {},
          "execution_count": 39
        }
      ]
    },
    {
      "cell_type": "code",
      "source": [
        "td[\"Combining_tager\"] = combigram\n",
        "td[\"acc_Combining_tager\"] = acc_combi\n",
        "td[\"context_Combining_tager\"] = combi_context"
      ],
      "metadata": {
        "id": "7-RoadyDdvIV"
      },
      "execution_count": null,
      "outputs": []
    },
    {
      "cell_type": "markdown",
      "source": [
        "## Comparison grams"
      ],
      "metadata": {
        "id": "W2R8Rr_M2yom"
      }
    },
    {
      "cell_type": "code",
      "source": [
        "td_1 = {}\n",
        "for k, v in td.items():\n",
        "    if \"context\" in k:\n",
        "        td_1[k] = [v]\n",
        "    else:\n",
        "        td_1[k] = v"
      ],
      "metadata": {
        "id": "3b9MZIptmZ2G"
      },
      "execution_count": null,
      "outputs": []
    },
    {
      "cell_type": "code",
      "source": [
        "df_taggers = pd.DataFrame(td_1)\n",
        "df_taggers"
      ],
      "metadata": {
        "colab": {
          "base_uri": "https://localhost:8080/",
          "height": 165
        },
        "id": "JscoatyF1XsH",
        "outputId": "7d739fed-f2bc-448a-db0d-4a7f799dacdf"
      },
      "execution_count": null,
      "outputs": [
        {
          "output_type": "execute_result",
          "data": {
            "text/plain": [
              "                 UnigramTagger  acc_UnigramTagger  \\\n",
              "0  <UnigramTagger: size=63217>           0.886357   \n",
              "\n",
              "                               context_UnigramTagger  \\\n",
              "0  [(добрый, ADJ), (день, NOUN), (адрес, NOUN), (...   \n",
              "\n",
              "                  BigramTagger  acc_BigramTagger  \\\n",
              "0  <BigramTagger: size=111138>          0.229924   \n",
              "\n",
              "                                context_BigramTagger  \\\n",
              "0  [(добрый, ADJ), (день, NOUN), (адрес, NOUN), (...   \n",
              "\n",
              "                  TrigramTagger  acc_TrigramTagger  \\\n",
              "0  <TrigramTagger: size=196372>           0.135196   \n",
              "\n",
              "                               context_TrigramTagger  \\\n",
              "0  [(добрый, ADJ), (день, NOUN), (адрес, NOUN), (...   \n",
              "\n",
              "   BigramTagger_UnigramTagger  ...  \\\n",
              "0  <BigramTagger: size=17870>  ...   \n",
              "\n",
              "                  context_BigramTagger_UnigramTagger  \\\n",
              "0  [(добрый, ADJ), (день, NOUN), (адрес, NOUN), (...   \n",
              "\n",
              "   TrigramTagger_UnigramTagger acc_TrigramTagger_UnigramTagger  \\\n",
              "0  <TrigramTagger: size=27445>                        0.885643   \n",
              "\n",
              "                 context_TrigramTagger_UnigramTagger  \\\n",
              "0  [(добрый, ADJ), (день, NOUN), (адрес, NOUN), (...   \n",
              "\n",
              "    TrigramTagger_BigramTagger acc_TrigramTagger_BigramTagger  \\\n",
              "0  <TrigramTagger: size=21590>                       0.228502   \n",
              "\n",
              "                  context_TrigramTagger_BigramTagger  \\\n",
              "0  [(добрый, ADJ), (день, NOUN), (адрес, NOUN), (...   \n",
              "\n",
              "               Combining_tager acc_Combining_tager  \\\n",
              "0  <TrigramTagger: size=21590>            0.884958   \n",
              "\n",
              "                             context_Combining_tager  \n",
              "0  [(добрый, ADJ), (день, NOUN), (адрес, NOUN), (...  \n",
              "\n",
              "[1 rows x 21 columns]"
            ],
            "text/html": [
              "\n",
              "  <div id=\"df-8c455e85-c593-45bf-80c4-c94e4eac1ca5\" class=\"colab-df-container\">\n",
              "    <div>\n",
              "<style scoped>\n",
              "    .dataframe tbody tr th:only-of-type {\n",
              "        vertical-align: middle;\n",
              "    }\n",
              "\n",
              "    .dataframe tbody tr th {\n",
              "        vertical-align: top;\n",
              "    }\n",
              "\n",
              "    .dataframe thead th {\n",
              "        text-align: right;\n",
              "    }\n",
              "</style>\n",
              "<table border=\"1\" class=\"dataframe\">\n",
              "  <thead>\n",
              "    <tr style=\"text-align: right;\">\n",
              "      <th></th>\n",
              "      <th>UnigramTagger</th>\n",
              "      <th>acc_UnigramTagger</th>\n",
              "      <th>context_UnigramTagger</th>\n",
              "      <th>BigramTagger</th>\n",
              "      <th>acc_BigramTagger</th>\n",
              "      <th>context_BigramTagger</th>\n",
              "      <th>TrigramTagger</th>\n",
              "      <th>acc_TrigramTagger</th>\n",
              "      <th>context_TrigramTagger</th>\n",
              "      <th>BigramTagger_UnigramTagger</th>\n",
              "      <th>...</th>\n",
              "      <th>context_BigramTagger_UnigramTagger</th>\n",
              "      <th>TrigramTagger_UnigramTagger</th>\n",
              "      <th>acc_TrigramTagger_UnigramTagger</th>\n",
              "      <th>context_TrigramTagger_UnigramTagger</th>\n",
              "      <th>TrigramTagger_BigramTagger</th>\n",
              "      <th>acc_TrigramTagger_BigramTagger</th>\n",
              "      <th>context_TrigramTagger_BigramTagger</th>\n",
              "      <th>Combining_tager</th>\n",
              "      <th>acc_Combining_tager</th>\n",
              "      <th>context_Combining_tager</th>\n",
              "    </tr>\n",
              "  </thead>\n",
              "  <tbody>\n",
              "    <tr>\n",
              "      <th>0</th>\n",
              "      <td>&lt;UnigramTagger: size=63217&gt;</td>\n",
              "      <td>0.886357</td>\n",
              "      <td>[(добрый, ADJ), (день, NOUN), (адрес, NOUN), (...</td>\n",
              "      <td>&lt;BigramTagger: size=111138&gt;</td>\n",
              "      <td>0.229924</td>\n",
              "      <td>[(добрый, ADJ), (день, NOUN), (адрес, NOUN), (...</td>\n",
              "      <td>&lt;TrigramTagger: size=196372&gt;</td>\n",
              "      <td>0.135196</td>\n",
              "      <td>[(добрый, ADJ), (день, NOUN), (адрес, NOUN), (...</td>\n",
              "      <td>&lt;BigramTagger: size=17870&gt;</td>\n",
              "      <td>...</td>\n",
              "      <td>[(добрый, ADJ), (день, NOUN), (адрес, NOUN), (...</td>\n",
              "      <td>&lt;TrigramTagger: size=27445&gt;</td>\n",
              "      <td>0.885643</td>\n",
              "      <td>[(добрый, ADJ), (день, NOUN), (адрес, NOUN), (...</td>\n",
              "      <td>&lt;TrigramTagger: size=21590&gt;</td>\n",
              "      <td>0.228502</td>\n",
              "      <td>[(добрый, ADJ), (день, NOUN), (адрес, NOUN), (...</td>\n",
              "      <td>&lt;TrigramTagger: size=21590&gt;</td>\n",
              "      <td>0.884958</td>\n",
              "      <td>[(добрый, ADJ), (день, NOUN), (адрес, NOUN), (...</td>\n",
              "    </tr>\n",
              "  </tbody>\n",
              "</table>\n",
              "<p>1 rows × 21 columns</p>\n",
              "</div>\n",
              "    <div class=\"colab-df-buttons\">\n",
              "\n",
              "  <div class=\"colab-df-container\">\n",
              "    <button class=\"colab-df-convert\" onclick=\"convertToInteractive('df-8c455e85-c593-45bf-80c4-c94e4eac1ca5')\"\n",
              "            title=\"Convert this dataframe to an interactive table.\"\n",
              "            style=\"display:none;\">\n",
              "\n",
              "  <svg xmlns=\"http://www.w3.org/2000/svg\" height=\"24px\" viewBox=\"0 -960 960 960\">\n",
              "    <path d=\"M120-120v-720h720v720H120Zm60-500h600v-160H180v160Zm220 220h160v-160H400v160Zm0 220h160v-160H400v160ZM180-400h160v-160H180v160Zm440 0h160v-160H620v160ZM180-180h160v-160H180v160Zm440 0h160v-160H620v160Z\"/>\n",
              "  </svg>\n",
              "    </button>\n",
              "\n",
              "  <style>\n",
              "    .colab-df-container {\n",
              "      display:flex;\n",
              "      gap: 12px;\n",
              "    }\n",
              "\n",
              "    .colab-df-convert {\n",
              "      background-color: #E8F0FE;\n",
              "      border: none;\n",
              "      border-radius: 50%;\n",
              "      cursor: pointer;\n",
              "      display: none;\n",
              "      fill: #1967D2;\n",
              "      height: 32px;\n",
              "      padding: 0 0 0 0;\n",
              "      width: 32px;\n",
              "    }\n",
              "\n",
              "    .colab-df-convert:hover {\n",
              "      background-color: #E2EBFA;\n",
              "      box-shadow: 0px 1px 2px rgba(60, 64, 67, 0.3), 0px 1px 3px 1px rgba(60, 64, 67, 0.15);\n",
              "      fill: #174EA6;\n",
              "    }\n",
              "\n",
              "    .colab-df-buttons div {\n",
              "      margin-bottom: 4px;\n",
              "    }\n",
              "\n",
              "    [theme=dark] .colab-df-convert {\n",
              "      background-color: #3B4455;\n",
              "      fill: #D2E3FC;\n",
              "    }\n",
              "\n",
              "    [theme=dark] .colab-df-convert:hover {\n",
              "      background-color: #434B5C;\n",
              "      box-shadow: 0px 1px 3px 1px rgba(0, 0, 0, 0.15);\n",
              "      filter: drop-shadow(0px 1px 2px rgba(0, 0, 0, 0.3));\n",
              "      fill: #FFFFFF;\n",
              "    }\n",
              "  </style>\n",
              "\n",
              "    <script>\n",
              "      const buttonEl =\n",
              "        document.querySelector('#df-8c455e85-c593-45bf-80c4-c94e4eac1ca5 button.colab-df-convert');\n",
              "      buttonEl.style.display =\n",
              "        google.colab.kernel.accessAllowed ? 'block' : 'none';\n",
              "\n",
              "      async function convertToInteractive(key) {\n",
              "        const element = document.querySelector('#df-8c455e85-c593-45bf-80c4-c94e4eac1ca5');\n",
              "        const dataTable =\n",
              "          await google.colab.kernel.invokeFunction('convertToInteractive',\n",
              "                                                    [key], {});\n",
              "        if (!dataTable) return;\n",
              "\n",
              "        const docLinkHtml = 'Like what you see? Visit the ' +\n",
              "          '<a target=\"_blank\" href=https://colab.research.google.com/notebooks/data_table.ipynb>data table notebook</a>'\n",
              "          + ' to learn more about interactive tables.';\n",
              "        element.innerHTML = '';\n",
              "        dataTable['output_type'] = 'display_data';\n",
              "        await google.colab.output.renderOutput(dataTable, element);\n",
              "        const docLink = document.createElement('div');\n",
              "        docLink.innerHTML = docLinkHtml;\n",
              "        element.appendChild(docLink);\n",
              "      }\n",
              "    </script>\n",
              "  </div>\n",
              "\n",
              "    </div>\n",
              "  </div>\n"
            ],
            "application/vnd.google.colaboratory.intrinsic+json": {
              "type": "dataframe",
              "variable_name": "df_taggers"
            }
          },
          "metadata": {},
          "execution_count": 42
        }
      ]
    },
    {
      "cell_type": "code",
      "source": [
        "df_taggers.to_csv(path_to_work_dir + \"Comparison_grams.csv\", index=None)"
      ],
      "metadata": {
        "id": "xM1txVYBn-N4"
      },
      "execution_count": null,
      "outputs": []
    },
    {
      "cell_type": "code",
      "source": [
        "df_taggers = pd.read_csv(path_to_work_dir + \"Comparison_grams.csv\")"
      ],
      "metadata": {
        "id": "KQfKJAL5YDdx"
      },
      "execution_count": null,
      "outputs": []
    },
    {
      "cell_type": "code",
      "source": [
        "df_taggers.filter(regex=\"acc_\").T.sort_values(by=0, ascending=False)"
      ],
      "metadata": {
        "colab": {
          "base_uri": "https://localhost:8080/",
          "height": 269
        },
        "id": "-_i93tEzYKFj",
        "outputId": "d673ffbb-bd1d-4d65-e92a-312ba7c9ddf9"
      },
      "execution_count": null,
      "outputs": [
        {
          "output_type": "execute_result",
          "data": {
            "text/plain": [
              "                                        0\n",
              "acc_UnigramTagger                0.886357\n",
              "acc_BigramTagger_UnigramTagger   0.886296\n",
              "acc_TrigramTagger_UnigramTagger  0.885643\n",
              "acc_Combining_tager              0.884958\n",
              "acc_BigramTagger                 0.229924\n",
              "acc_TrigramTagger_BigramTagger   0.228502\n",
              "acc_TrigramTagger                0.135196"
            ],
            "text/html": [
              "\n",
              "  <div id=\"df-ddd4b391-171a-42d9-acdd-eab939df01bb\" class=\"colab-df-container\">\n",
              "    <div>\n",
              "<style scoped>\n",
              "    .dataframe tbody tr th:only-of-type {\n",
              "        vertical-align: middle;\n",
              "    }\n",
              "\n",
              "    .dataframe tbody tr th {\n",
              "        vertical-align: top;\n",
              "    }\n",
              "\n",
              "    .dataframe thead th {\n",
              "        text-align: right;\n",
              "    }\n",
              "</style>\n",
              "<table border=\"1\" class=\"dataframe\">\n",
              "  <thead>\n",
              "    <tr style=\"text-align: right;\">\n",
              "      <th></th>\n",
              "      <th>0</th>\n",
              "    </tr>\n",
              "  </thead>\n",
              "  <tbody>\n",
              "    <tr>\n",
              "      <th>acc_UnigramTagger</th>\n",
              "      <td>0.886357</td>\n",
              "    </tr>\n",
              "    <tr>\n",
              "      <th>acc_BigramTagger_UnigramTagger</th>\n",
              "      <td>0.886296</td>\n",
              "    </tr>\n",
              "    <tr>\n",
              "      <th>acc_TrigramTagger_UnigramTagger</th>\n",
              "      <td>0.885643</td>\n",
              "    </tr>\n",
              "    <tr>\n",
              "      <th>acc_Combining_tager</th>\n",
              "      <td>0.884958</td>\n",
              "    </tr>\n",
              "    <tr>\n",
              "      <th>acc_BigramTagger</th>\n",
              "      <td>0.229924</td>\n",
              "    </tr>\n",
              "    <tr>\n",
              "      <th>acc_TrigramTagger_BigramTagger</th>\n",
              "      <td>0.228502</td>\n",
              "    </tr>\n",
              "    <tr>\n",
              "      <th>acc_TrigramTagger</th>\n",
              "      <td>0.135196</td>\n",
              "    </tr>\n",
              "  </tbody>\n",
              "</table>\n",
              "</div>\n",
              "    <div class=\"colab-df-buttons\">\n",
              "\n",
              "  <div class=\"colab-df-container\">\n",
              "    <button class=\"colab-df-convert\" onclick=\"convertToInteractive('df-ddd4b391-171a-42d9-acdd-eab939df01bb')\"\n",
              "            title=\"Convert this dataframe to an interactive table.\"\n",
              "            style=\"display:none;\">\n",
              "\n",
              "  <svg xmlns=\"http://www.w3.org/2000/svg\" height=\"24px\" viewBox=\"0 -960 960 960\">\n",
              "    <path d=\"M120-120v-720h720v720H120Zm60-500h600v-160H180v160Zm220 220h160v-160H400v160Zm0 220h160v-160H400v160ZM180-400h160v-160H180v160Zm440 0h160v-160H620v160ZM180-180h160v-160H180v160Zm440 0h160v-160H620v160Z\"/>\n",
              "  </svg>\n",
              "    </button>\n",
              "\n",
              "  <style>\n",
              "    .colab-df-container {\n",
              "      display:flex;\n",
              "      gap: 12px;\n",
              "    }\n",
              "\n",
              "    .colab-df-convert {\n",
              "      background-color: #E8F0FE;\n",
              "      border: none;\n",
              "      border-radius: 50%;\n",
              "      cursor: pointer;\n",
              "      display: none;\n",
              "      fill: #1967D2;\n",
              "      height: 32px;\n",
              "      padding: 0 0 0 0;\n",
              "      width: 32px;\n",
              "    }\n",
              "\n",
              "    .colab-df-convert:hover {\n",
              "      background-color: #E2EBFA;\n",
              "      box-shadow: 0px 1px 2px rgba(60, 64, 67, 0.3), 0px 1px 3px 1px rgba(60, 64, 67, 0.15);\n",
              "      fill: #174EA6;\n",
              "    }\n",
              "\n",
              "    .colab-df-buttons div {\n",
              "      margin-bottom: 4px;\n",
              "    }\n",
              "\n",
              "    [theme=dark] .colab-df-convert {\n",
              "      background-color: #3B4455;\n",
              "      fill: #D2E3FC;\n",
              "    }\n",
              "\n",
              "    [theme=dark] .colab-df-convert:hover {\n",
              "      background-color: #434B5C;\n",
              "      box-shadow: 0px 1px 3px 1px rgba(0, 0, 0, 0.15);\n",
              "      filter: drop-shadow(0px 1px 2px rgba(0, 0, 0, 0.3));\n",
              "      fill: #FFFFFF;\n",
              "    }\n",
              "  </style>\n",
              "\n",
              "    <script>\n",
              "      const buttonEl =\n",
              "        document.querySelector('#df-ddd4b391-171a-42d9-acdd-eab939df01bb button.colab-df-convert');\n",
              "      buttonEl.style.display =\n",
              "        google.colab.kernel.accessAllowed ? 'block' : 'none';\n",
              "\n",
              "      async function convertToInteractive(key) {\n",
              "        const element = document.querySelector('#df-ddd4b391-171a-42d9-acdd-eab939df01bb');\n",
              "        const dataTable =\n",
              "          await google.colab.kernel.invokeFunction('convertToInteractive',\n",
              "                                                    [key], {});\n",
              "        if (!dataTable) return;\n",
              "\n",
              "        const docLinkHtml = 'Like what you see? Visit the ' +\n",
              "          '<a target=\"_blank\" href=https://colab.research.google.com/notebooks/data_table.ipynb>data table notebook</a>'\n",
              "          + ' to learn more about interactive tables.';\n",
              "        element.innerHTML = '';\n",
              "        dataTable['output_type'] = 'display_data';\n",
              "        await google.colab.output.renderOutput(dataTable, element);\n",
              "        const docLink = document.createElement('div');\n",
              "        docLink.innerHTML = docLinkHtml;\n",
              "        element.appendChild(docLink);\n",
              "      }\n",
              "    </script>\n",
              "  </div>\n",
              "\n",
              "\n",
              "<div id=\"df-f1c20716-5c32-45b0-84d6-4f042b989068\">\n",
              "  <button class=\"colab-df-quickchart\" onclick=\"quickchart('df-f1c20716-5c32-45b0-84d6-4f042b989068')\"\n",
              "            title=\"Suggest charts\"\n",
              "            style=\"display:none;\">\n",
              "\n",
              "<svg xmlns=\"http://www.w3.org/2000/svg\" height=\"24px\"viewBox=\"0 0 24 24\"\n",
              "     width=\"24px\">\n",
              "    <g>\n",
              "        <path d=\"M19 3H5c-1.1 0-2 .9-2 2v14c0 1.1.9 2 2 2h14c1.1 0 2-.9 2-2V5c0-1.1-.9-2-2-2zM9 17H7v-7h2v7zm4 0h-2V7h2v10zm4 0h-2v-4h2v4z\"/>\n",
              "    </g>\n",
              "</svg>\n",
              "  </button>\n",
              "\n",
              "<style>\n",
              "  .colab-df-quickchart {\n",
              "      --bg-color: #E8F0FE;\n",
              "      --fill-color: #1967D2;\n",
              "      --hover-bg-color: #E2EBFA;\n",
              "      --hover-fill-color: #174EA6;\n",
              "      --disabled-fill-color: #AAA;\n",
              "      --disabled-bg-color: #DDD;\n",
              "  }\n",
              "\n",
              "  [theme=dark] .colab-df-quickchart {\n",
              "      --bg-color: #3B4455;\n",
              "      --fill-color: #D2E3FC;\n",
              "      --hover-bg-color: #434B5C;\n",
              "      --hover-fill-color: #FFFFFF;\n",
              "      --disabled-bg-color: #3B4455;\n",
              "      --disabled-fill-color: #666;\n",
              "  }\n",
              "\n",
              "  .colab-df-quickchart {\n",
              "    background-color: var(--bg-color);\n",
              "    border: none;\n",
              "    border-radius: 50%;\n",
              "    cursor: pointer;\n",
              "    display: none;\n",
              "    fill: var(--fill-color);\n",
              "    height: 32px;\n",
              "    padding: 0;\n",
              "    width: 32px;\n",
              "  }\n",
              "\n",
              "  .colab-df-quickchart:hover {\n",
              "    background-color: var(--hover-bg-color);\n",
              "    box-shadow: 0 1px 2px rgba(60, 64, 67, 0.3), 0 1px 3px 1px rgba(60, 64, 67, 0.15);\n",
              "    fill: var(--button-hover-fill-color);\n",
              "  }\n",
              "\n",
              "  .colab-df-quickchart-complete:disabled,\n",
              "  .colab-df-quickchart-complete:disabled:hover {\n",
              "    background-color: var(--disabled-bg-color);\n",
              "    fill: var(--disabled-fill-color);\n",
              "    box-shadow: none;\n",
              "  }\n",
              "\n",
              "  .colab-df-spinner {\n",
              "    border: 2px solid var(--fill-color);\n",
              "    border-color: transparent;\n",
              "    border-bottom-color: var(--fill-color);\n",
              "    animation:\n",
              "      spin 1s steps(1) infinite;\n",
              "  }\n",
              "\n",
              "  @keyframes spin {\n",
              "    0% {\n",
              "      border-color: transparent;\n",
              "      border-bottom-color: var(--fill-color);\n",
              "      border-left-color: var(--fill-color);\n",
              "    }\n",
              "    20% {\n",
              "      border-color: transparent;\n",
              "      border-left-color: var(--fill-color);\n",
              "      border-top-color: var(--fill-color);\n",
              "    }\n",
              "    30% {\n",
              "      border-color: transparent;\n",
              "      border-left-color: var(--fill-color);\n",
              "      border-top-color: var(--fill-color);\n",
              "      border-right-color: var(--fill-color);\n",
              "    }\n",
              "    40% {\n",
              "      border-color: transparent;\n",
              "      border-right-color: var(--fill-color);\n",
              "      border-top-color: var(--fill-color);\n",
              "    }\n",
              "    60% {\n",
              "      border-color: transparent;\n",
              "      border-right-color: var(--fill-color);\n",
              "    }\n",
              "    80% {\n",
              "      border-color: transparent;\n",
              "      border-right-color: var(--fill-color);\n",
              "      border-bottom-color: var(--fill-color);\n",
              "    }\n",
              "    90% {\n",
              "      border-color: transparent;\n",
              "      border-bottom-color: var(--fill-color);\n",
              "    }\n",
              "  }\n",
              "</style>\n",
              "\n",
              "  <script>\n",
              "    async function quickchart(key) {\n",
              "      const quickchartButtonEl =\n",
              "        document.querySelector('#' + key + ' button');\n",
              "      quickchartButtonEl.disabled = true;  // To prevent multiple clicks.\n",
              "      quickchartButtonEl.classList.add('colab-df-spinner');\n",
              "      try {\n",
              "        const charts = await google.colab.kernel.invokeFunction(\n",
              "            'suggestCharts', [key], {});\n",
              "      } catch (error) {\n",
              "        console.error('Error during call to suggestCharts:', error);\n",
              "      }\n",
              "      quickchartButtonEl.classList.remove('colab-df-spinner');\n",
              "      quickchartButtonEl.classList.add('colab-df-quickchart-complete');\n",
              "    }\n",
              "    (() => {\n",
              "      let quickchartButtonEl =\n",
              "        document.querySelector('#df-f1c20716-5c32-45b0-84d6-4f042b989068 button');\n",
              "      quickchartButtonEl.style.display =\n",
              "        google.colab.kernel.accessAllowed ? 'block' : 'none';\n",
              "    })();\n",
              "  </script>\n",
              "</div>\n",
              "    </div>\n",
              "  </div>\n"
            ],
            "application/vnd.google.colaboratory.intrinsic+json": {
              "type": "dataframe",
              "summary": "{\n  \"name\": \"df_taggers\",\n  \"rows\": 7,\n  \"fields\": [\n    {\n      \"column\": 0,\n      \"properties\": {\n        \"dtype\": \"number\",\n        \"std\": 0.3690528470930969,\n        \"min\": 0.13519595544912,\n        \"max\": 0.8863572433192687,\n        \"num_unique_values\": 7,\n        \"samples\": [\n          0.8863572433192687,\n          0.8862964230052838,\n          0.2285019196411601\n        ],\n        \"semantic_type\": \"\",\n        \"description\": \"\"\n      }\n    }\n  ]\n}"
            }
          },
          "metadata": {},
          "execution_count": 45
        }
      ]
    },
    {
      "cell_type": "code",
      "source": [
        "class NamesTagger(SequentialBackoffTagger):\n",
        "    def __init__(self, *args, **kwargs):\n",
        "        SequentialBackoffTagger.__init__(self, *args, **kwargs)\n",
        "        self.name_set = set([n.lower() for n in names.words()])\n",
        "\n",
        "    def choose_tag(self, tokens, index, history):\n",
        "        word = tokens[index]\n",
        "        if word.lower() in self.name_set:\n",
        "             return 'PER'\n",
        "        else:\n",
        "             return None\n"
      ],
      "metadata": {
        "id": "-YE9iSV_13Wt"
      },
      "execution_count": null,
      "outputs": []
    },
    {
      "cell_type": "code",
      "source": [
        "nt = NamesTagger()\n",
        "print(nt.tag(['Katya','Adam','Window']))"
      ],
      "metadata": {
        "colab": {
          "base_uri": "https://localhost:8080/"
        },
        "id": "-jza3aMiAZeG",
        "outputId": "4d013ef5-d8df-4384-9357-1a960f19e8ea"
      },
      "execution_count": null,
      "outputs": [
        {
          "output_type": "stream",
          "name": "stdout",
          "text": [
            "[('Katya', 'PER'), ('Adam', 'PER'), ('Window', None)]\n"
          ]
        }
      ]
    },
    {
      "cell_type": "markdown",
      "source": [
        "# NLTK"
      ],
      "metadata": {
        "id": "P6sebCdNTKl1"
      }
    },
    {
      "cell_type": "markdown",
      "source": [
        "## Preprocessing data"
      ],
      "metadata": {
        "id": "mjhAdL4fbKhV"
      }
    },
    {
      "cell_type": "markdown",
      "source": [
        "Create a tag corpus"
      ],
      "metadata": {
        "id": "-0UV1uQHbU2T"
      }
    },
    {
      "cell_type": "code",
      "source": [
        "corpus = []\n",
        "for sent in df['RPN_questions']:\n",
        "    corpus.append(nltk.pos_tag(sent.split(\" \"), lang='rus'))"
      ],
      "metadata": {
        "id": "oZkBp0ae7t8-"
      },
      "execution_count": null,
      "outputs": []
    },
    {
      "cell_type": "code",
      "source": [
        "df_nltk_token = pd.DataFrame({'doc_id': df['doc_id'], 'Tokens': corpus})\n",
        "df_nltk_token.head(4)"
      ],
      "metadata": {
        "colab": {
          "base_uri": "https://localhost:8080/",
          "height": 175
        },
        "id": "O3dnp4TkWTVG",
        "outputId": "385668f7-24f3-4e39-c669-46e7e54286d3"
      },
      "execution_count": null,
      "outputs": [
        {
          "output_type": "execute_result",
          "data": {
            "text/plain": [
              "   doc_id                                             Tokens\n",
              "0   44224  [(здравствуйте, V), (заказать, V), (сайт, S), ...\n",
              "1   44219  [(здравствуйте, V), (проживать, V), (адрес, S)...\n",
              "2   44214  [(здравствуйте, V), (наш, A-PRO=m), (квартирой...\n",
              "3   44211  [(купить, V), (вайлдберриз, S), (цветочный, A=..."
            ],
            "text/html": [
              "\n",
              "  <div id=\"df-c1154b58-25ec-4021-8fdd-34edd87a09af\" class=\"colab-df-container\">\n",
              "    <div>\n",
              "<style scoped>\n",
              "    .dataframe tbody tr th:only-of-type {\n",
              "        vertical-align: middle;\n",
              "    }\n",
              "\n",
              "    .dataframe tbody tr th {\n",
              "        vertical-align: top;\n",
              "    }\n",
              "\n",
              "    .dataframe thead th {\n",
              "        text-align: right;\n",
              "    }\n",
              "</style>\n",
              "<table border=\"1\" class=\"dataframe\">\n",
              "  <thead>\n",
              "    <tr style=\"text-align: right;\">\n",
              "      <th></th>\n",
              "      <th>doc_id</th>\n",
              "      <th>Tokens</th>\n",
              "    </tr>\n",
              "  </thead>\n",
              "  <tbody>\n",
              "    <tr>\n",
              "      <th>0</th>\n",
              "      <td>44224</td>\n",
              "      <td>[(здравствуйте, V), (заказать, V), (сайт, S), ...</td>\n",
              "    </tr>\n",
              "    <tr>\n",
              "      <th>1</th>\n",
              "      <td>44219</td>\n",
              "      <td>[(здравствуйте, V), (проживать, V), (адрес, S)...</td>\n",
              "    </tr>\n",
              "    <tr>\n",
              "      <th>2</th>\n",
              "      <td>44214</td>\n",
              "      <td>[(здравствуйте, V), (наш, A-PRO=m), (квартирой...</td>\n",
              "    </tr>\n",
              "    <tr>\n",
              "      <th>3</th>\n",
              "      <td>44211</td>\n",
              "      <td>[(купить, V), (вайлдберриз, S), (цветочный, A=...</td>\n",
              "    </tr>\n",
              "  </tbody>\n",
              "</table>\n",
              "</div>\n",
              "    <div class=\"colab-df-buttons\">\n",
              "\n",
              "  <div class=\"colab-df-container\">\n",
              "    <button class=\"colab-df-convert\" onclick=\"convertToInteractive('df-c1154b58-25ec-4021-8fdd-34edd87a09af')\"\n",
              "            title=\"Convert this dataframe to an interactive table.\"\n",
              "            style=\"display:none;\">\n",
              "\n",
              "  <svg xmlns=\"http://www.w3.org/2000/svg\" height=\"24px\" viewBox=\"0 -960 960 960\">\n",
              "    <path d=\"M120-120v-720h720v720H120Zm60-500h600v-160H180v160Zm220 220h160v-160H400v160Zm0 220h160v-160H400v160ZM180-400h160v-160H180v160Zm440 0h160v-160H620v160ZM180-180h160v-160H180v160Zm440 0h160v-160H620v160Z\"/>\n",
              "  </svg>\n",
              "    </button>\n",
              "\n",
              "  <style>\n",
              "    .colab-df-container {\n",
              "      display:flex;\n",
              "      gap: 12px;\n",
              "    }\n",
              "\n",
              "    .colab-df-convert {\n",
              "      background-color: #E8F0FE;\n",
              "      border: none;\n",
              "      border-radius: 50%;\n",
              "      cursor: pointer;\n",
              "      display: none;\n",
              "      fill: #1967D2;\n",
              "      height: 32px;\n",
              "      padding: 0 0 0 0;\n",
              "      width: 32px;\n",
              "    }\n",
              "\n",
              "    .colab-df-convert:hover {\n",
              "      background-color: #E2EBFA;\n",
              "      box-shadow: 0px 1px 2px rgba(60, 64, 67, 0.3), 0px 1px 3px 1px rgba(60, 64, 67, 0.15);\n",
              "      fill: #174EA6;\n",
              "    }\n",
              "\n",
              "    .colab-df-buttons div {\n",
              "      margin-bottom: 4px;\n",
              "    }\n",
              "\n",
              "    [theme=dark] .colab-df-convert {\n",
              "      background-color: #3B4455;\n",
              "      fill: #D2E3FC;\n",
              "    }\n",
              "\n",
              "    [theme=dark] .colab-df-convert:hover {\n",
              "      background-color: #434B5C;\n",
              "      box-shadow: 0px 1px 3px 1px rgba(0, 0, 0, 0.15);\n",
              "      filter: drop-shadow(0px 1px 2px rgba(0, 0, 0, 0.3));\n",
              "      fill: #FFFFFF;\n",
              "    }\n",
              "  </style>\n",
              "\n",
              "    <script>\n",
              "      const buttonEl =\n",
              "        document.querySelector('#df-c1154b58-25ec-4021-8fdd-34edd87a09af button.colab-df-convert');\n",
              "      buttonEl.style.display =\n",
              "        google.colab.kernel.accessAllowed ? 'block' : 'none';\n",
              "\n",
              "      async function convertToInteractive(key) {\n",
              "        const element = document.querySelector('#df-c1154b58-25ec-4021-8fdd-34edd87a09af');\n",
              "        const dataTable =\n",
              "          await google.colab.kernel.invokeFunction('convertToInteractive',\n",
              "                                                    [key], {});\n",
              "        if (!dataTable) return;\n",
              "\n",
              "        const docLinkHtml = 'Like what you see? Visit the ' +\n",
              "          '<a target=\"_blank\" href=https://colab.research.google.com/notebooks/data_table.ipynb>data table notebook</a>'\n",
              "          + ' to learn more about interactive tables.';\n",
              "        element.innerHTML = '';\n",
              "        dataTable['output_type'] = 'display_data';\n",
              "        await google.colab.output.renderOutput(dataTable, element);\n",
              "        const docLink = document.createElement('div');\n",
              "        docLink.innerHTML = docLinkHtml;\n",
              "        element.appendChild(docLink);\n",
              "      }\n",
              "    </script>\n",
              "  </div>\n",
              "\n",
              "\n",
              "<div id=\"df-07cb0656-aeb7-42a7-8e72-9b91a7cbc7d3\">\n",
              "  <button class=\"colab-df-quickchart\" onclick=\"quickchart('df-07cb0656-aeb7-42a7-8e72-9b91a7cbc7d3')\"\n",
              "            title=\"Suggest charts\"\n",
              "            style=\"display:none;\">\n",
              "\n",
              "<svg xmlns=\"http://www.w3.org/2000/svg\" height=\"24px\"viewBox=\"0 0 24 24\"\n",
              "     width=\"24px\">\n",
              "    <g>\n",
              "        <path d=\"M19 3H5c-1.1 0-2 .9-2 2v14c0 1.1.9 2 2 2h14c1.1 0 2-.9 2-2V5c0-1.1-.9-2-2-2zM9 17H7v-7h2v7zm4 0h-2V7h2v10zm4 0h-2v-4h2v4z\"/>\n",
              "    </g>\n",
              "</svg>\n",
              "  </button>\n",
              "\n",
              "<style>\n",
              "  .colab-df-quickchart {\n",
              "      --bg-color: #E8F0FE;\n",
              "      --fill-color: #1967D2;\n",
              "      --hover-bg-color: #E2EBFA;\n",
              "      --hover-fill-color: #174EA6;\n",
              "      --disabled-fill-color: #AAA;\n",
              "      --disabled-bg-color: #DDD;\n",
              "  }\n",
              "\n",
              "  [theme=dark] .colab-df-quickchart {\n",
              "      --bg-color: #3B4455;\n",
              "      --fill-color: #D2E3FC;\n",
              "      --hover-bg-color: #434B5C;\n",
              "      --hover-fill-color: #FFFFFF;\n",
              "      --disabled-bg-color: #3B4455;\n",
              "      --disabled-fill-color: #666;\n",
              "  }\n",
              "\n",
              "  .colab-df-quickchart {\n",
              "    background-color: var(--bg-color);\n",
              "    border: none;\n",
              "    border-radius: 50%;\n",
              "    cursor: pointer;\n",
              "    display: none;\n",
              "    fill: var(--fill-color);\n",
              "    height: 32px;\n",
              "    padding: 0;\n",
              "    width: 32px;\n",
              "  }\n",
              "\n",
              "  .colab-df-quickchart:hover {\n",
              "    background-color: var(--hover-bg-color);\n",
              "    box-shadow: 0 1px 2px rgba(60, 64, 67, 0.3), 0 1px 3px 1px rgba(60, 64, 67, 0.15);\n",
              "    fill: var(--button-hover-fill-color);\n",
              "  }\n",
              "\n",
              "  .colab-df-quickchart-complete:disabled,\n",
              "  .colab-df-quickchart-complete:disabled:hover {\n",
              "    background-color: var(--disabled-bg-color);\n",
              "    fill: var(--disabled-fill-color);\n",
              "    box-shadow: none;\n",
              "  }\n",
              "\n",
              "  .colab-df-spinner {\n",
              "    border: 2px solid var(--fill-color);\n",
              "    border-color: transparent;\n",
              "    border-bottom-color: var(--fill-color);\n",
              "    animation:\n",
              "      spin 1s steps(1) infinite;\n",
              "  }\n",
              "\n",
              "  @keyframes spin {\n",
              "    0% {\n",
              "      border-color: transparent;\n",
              "      border-bottom-color: var(--fill-color);\n",
              "      border-left-color: var(--fill-color);\n",
              "    }\n",
              "    20% {\n",
              "      border-color: transparent;\n",
              "      border-left-color: var(--fill-color);\n",
              "      border-top-color: var(--fill-color);\n",
              "    }\n",
              "    30% {\n",
              "      border-color: transparent;\n",
              "      border-left-color: var(--fill-color);\n",
              "      border-top-color: var(--fill-color);\n",
              "      border-right-color: var(--fill-color);\n",
              "    }\n",
              "    40% {\n",
              "      border-color: transparent;\n",
              "      border-right-color: var(--fill-color);\n",
              "      border-top-color: var(--fill-color);\n",
              "    }\n",
              "    60% {\n",
              "      border-color: transparent;\n",
              "      border-right-color: var(--fill-color);\n",
              "    }\n",
              "    80% {\n",
              "      border-color: transparent;\n",
              "      border-right-color: var(--fill-color);\n",
              "      border-bottom-color: var(--fill-color);\n",
              "    }\n",
              "    90% {\n",
              "      border-color: transparent;\n",
              "      border-bottom-color: var(--fill-color);\n",
              "    }\n",
              "  }\n",
              "</style>\n",
              "\n",
              "  <script>\n",
              "    async function quickchart(key) {\n",
              "      const quickchartButtonEl =\n",
              "        document.querySelector('#' + key + ' button');\n",
              "      quickchartButtonEl.disabled = true;  // To prevent multiple clicks.\n",
              "      quickchartButtonEl.classList.add('colab-df-spinner');\n",
              "      try {\n",
              "        const charts = await google.colab.kernel.invokeFunction(\n",
              "            'suggestCharts', [key], {});\n",
              "      } catch (error) {\n",
              "        console.error('Error during call to suggestCharts:', error);\n",
              "      }\n",
              "      quickchartButtonEl.classList.remove('colab-df-spinner');\n",
              "      quickchartButtonEl.classList.add('colab-df-quickchart-complete');\n",
              "    }\n",
              "    (() => {\n",
              "      let quickchartButtonEl =\n",
              "        document.querySelector('#df-07cb0656-aeb7-42a7-8e72-9b91a7cbc7d3 button');\n",
              "      quickchartButtonEl.style.display =\n",
              "        google.colab.kernel.accessAllowed ? 'block' : 'none';\n",
              "    })();\n",
              "  </script>\n",
              "</div>\n",
              "    </div>\n",
              "  </div>\n"
            ],
            "application/vnd.google.colaboratory.intrinsic+json": {
              "type": "dataframe",
              "variable_name": "df_nltk_token",
              "summary": "{\n  \"name\": \"df_nltk_token\",\n  \"rows\": 19993,\n  \"fields\": [\n    {\n      \"column\": \"doc_id\",\n      \"properties\": {\n        \"dtype\": \"number\",\n        \"std\": 8117,\n        \"min\": 16225,\n        \"max\": 44224,\n        \"num_unique_values\": 19993,\n        \"samples\": [\n          16698,\n          35617,\n          41770\n        ],\n        \"semantic_type\": \"\",\n        \"description\": \"\"\n      }\n    },\n    {\n      \"column\": \"Tokens\",\n      \"properties\": {\n        \"dtype\": \"object\",\n        \"semantic_type\": \"\",\n        \"description\": \"\"\n      }\n    }\n  ]\n}"
            }
          },
          "metadata": {},
          "execution_count": 25
        }
      ]
    },
    {
      "cell_type": "code",
      "source": [
        "df_nltk_token.to_csv(path_to_work_dir + \"nltk_tokens.csv\", index=None)"
      ],
      "metadata": {
        "id": "xa8ppnDBW1gW"
      },
      "execution_count": null,
      "outputs": []
    },
    {
      "cell_type": "code",
      "source": [
        "df_nltk_token = pd.read_csv(path_to_work_dir + \"nltk_tokens.csv\")\n",
        "df_nltk_token.head(4)"
      ],
      "metadata": {
        "colab": {
          "base_uri": "https://localhost:8080/",
          "height": 175
        },
        "id": "fUr8X7BiXBCI",
        "outputId": "10fbd9a9-727a-4484-c981-135baadc6f76"
      },
      "execution_count": null,
      "outputs": [
        {
          "output_type": "execute_result",
          "data": {
            "text/plain": [
              "   doc_id                                             Tokens\n",
              "0   44224  [('здравствуйте', 'V'), ('заказать', 'V'), ('с...\n",
              "1   44219  [('здравствуйте', 'V'), ('проживать', 'V'), ('...\n",
              "2   44214  [('здравствуйте', 'V'), ('наш', 'A-PRO=m'), ('...\n",
              "3   44211  [('купить', 'V'), ('вайлдберриз', 'S'), ('цвет..."
            ],
            "text/html": [
              "\n",
              "  <div id=\"df-729f8d34-6e9e-4702-a30f-9265dd7d829b\" class=\"colab-df-container\">\n",
              "    <div>\n",
              "<style scoped>\n",
              "    .dataframe tbody tr th:only-of-type {\n",
              "        vertical-align: middle;\n",
              "    }\n",
              "\n",
              "    .dataframe tbody tr th {\n",
              "        vertical-align: top;\n",
              "    }\n",
              "\n",
              "    .dataframe thead th {\n",
              "        text-align: right;\n",
              "    }\n",
              "</style>\n",
              "<table border=\"1\" class=\"dataframe\">\n",
              "  <thead>\n",
              "    <tr style=\"text-align: right;\">\n",
              "      <th></th>\n",
              "      <th>doc_id</th>\n",
              "      <th>Tokens</th>\n",
              "    </tr>\n",
              "  </thead>\n",
              "  <tbody>\n",
              "    <tr>\n",
              "      <th>0</th>\n",
              "      <td>44224</td>\n",
              "      <td>[('здравствуйте', 'V'), ('заказать', 'V'), ('с...</td>\n",
              "    </tr>\n",
              "    <tr>\n",
              "      <th>1</th>\n",
              "      <td>44219</td>\n",
              "      <td>[('здравствуйте', 'V'), ('проживать', 'V'), ('...</td>\n",
              "    </tr>\n",
              "    <tr>\n",
              "      <th>2</th>\n",
              "      <td>44214</td>\n",
              "      <td>[('здравствуйте', 'V'), ('наш', 'A-PRO=m'), ('...</td>\n",
              "    </tr>\n",
              "    <tr>\n",
              "      <th>3</th>\n",
              "      <td>44211</td>\n",
              "      <td>[('купить', 'V'), ('вайлдберриз', 'S'), ('цвет...</td>\n",
              "    </tr>\n",
              "  </tbody>\n",
              "</table>\n",
              "</div>\n",
              "    <div class=\"colab-df-buttons\">\n",
              "\n",
              "  <div class=\"colab-df-container\">\n",
              "    <button class=\"colab-df-convert\" onclick=\"convertToInteractive('df-729f8d34-6e9e-4702-a30f-9265dd7d829b')\"\n",
              "            title=\"Convert this dataframe to an interactive table.\"\n",
              "            style=\"display:none;\">\n",
              "\n",
              "  <svg xmlns=\"http://www.w3.org/2000/svg\" height=\"24px\" viewBox=\"0 -960 960 960\">\n",
              "    <path d=\"M120-120v-720h720v720H120Zm60-500h600v-160H180v160Zm220 220h160v-160H400v160Zm0 220h160v-160H400v160ZM180-400h160v-160H180v160Zm440 0h160v-160H620v160ZM180-180h160v-160H180v160Zm440 0h160v-160H620v160Z\"/>\n",
              "  </svg>\n",
              "    </button>\n",
              "\n",
              "  <style>\n",
              "    .colab-df-container {\n",
              "      display:flex;\n",
              "      gap: 12px;\n",
              "    }\n",
              "\n",
              "    .colab-df-convert {\n",
              "      background-color: #E8F0FE;\n",
              "      border: none;\n",
              "      border-radius: 50%;\n",
              "      cursor: pointer;\n",
              "      display: none;\n",
              "      fill: #1967D2;\n",
              "      height: 32px;\n",
              "      padding: 0 0 0 0;\n",
              "      width: 32px;\n",
              "    }\n",
              "\n",
              "    .colab-df-convert:hover {\n",
              "      background-color: #E2EBFA;\n",
              "      box-shadow: 0px 1px 2px rgba(60, 64, 67, 0.3), 0px 1px 3px 1px rgba(60, 64, 67, 0.15);\n",
              "      fill: #174EA6;\n",
              "    }\n",
              "\n",
              "    .colab-df-buttons div {\n",
              "      margin-bottom: 4px;\n",
              "    }\n",
              "\n",
              "    [theme=dark] .colab-df-convert {\n",
              "      background-color: #3B4455;\n",
              "      fill: #D2E3FC;\n",
              "    }\n",
              "\n",
              "    [theme=dark] .colab-df-convert:hover {\n",
              "      background-color: #434B5C;\n",
              "      box-shadow: 0px 1px 3px 1px rgba(0, 0, 0, 0.15);\n",
              "      filter: drop-shadow(0px 1px 2px rgba(0, 0, 0, 0.3));\n",
              "      fill: #FFFFFF;\n",
              "    }\n",
              "  </style>\n",
              "\n",
              "    <script>\n",
              "      const buttonEl =\n",
              "        document.querySelector('#df-729f8d34-6e9e-4702-a30f-9265dd7d829b button.colab-df-convert');\n",
              "      buttonEl.style.display =\n",
              "        google.colab.kernel.accessAllowed ? 'block' : 'none';\n",
              "\n",
              "      async function convertToInteractive(key) {\n",
              "        const element = document.querySelector('#df-729f8d34-6e9e-4702-a30f-9265dd7d829b');\n",
              "        const dataTable =\n",
              "          await google.colab.kernel.invokeFunction('convertToInteractive',\n",
              "                                                    [key], {});\n",
              "        if (!dataTable) return;\n",
              "\n",
              "        const docLinkHtml = 'Like what you see? Visit the ' +\n",
              "          '<a target=\"_blank\" href=https://colab.research.google.com/notebooks/data_table.ipynb>data table notebook</a>'\n",
              "          + ' to learn more about interactive tables.';\n",
              "        element.innerHTML = '';\n",
              "        dataTable['output_type'] = 'display_data';\n",
              "        await google.colab.output.renderOutput(dataTable, element);\n",
              "        const docLink = document.createElement('div');\n",
              "        docLink.innerHTML = docLinkHtml;\n",
              "        element.appendChild(docLink);\n",
              "      }\n",
              "    </script>\n",
              "  </div>\n",
              "\n",
              "\n",
              "<div id=\"df-d1892b45-dd11-4961-a200-d44a447f7af2\">\n",
              "  <button class=\"colab-df-quickchart\" onclick=\"quickchart('df-d1892b45-dd11-4961-a200-d44a447f7af2')\"\n",
              "            title=\"Suggest charts\"\n",
              "            style=\"display:none;\">\n",
              "\n",
              "<svg xmlns=\"http://www.w3.org/2000/svg\" height=\"24px\"viewBox=\"0 0 24 24\"\n",
              "     width=\"24px\">\n",
              "    <g>\n",
              "        <path d=\"M19 3H5c-1.1 0-2 .9-2 2v14c0 1.1.9 2 2 2h14c1.1 0 2-.9 2-2V5c0-1.1-.9-2-2-2zM9 17H7v-7h2v7zm4 0h-2V7h2v10zm4 0h-2v-4h2v4z\"/>\n",
              "    </g>\n",
              "</svg>\n",
              "  </button>\n",
              "\n",
              "<style>\n",
              "  .colab-df-quickchart {\n",
              "      --bg-color: #E8F0FE;\n",
              "      --fill-color: #1967D2;\n",
              "      --hover-bg-color: #E2EBFA;\n",
              "      --hover-fill-color: #174EA6;\n",
              "      --disabled-fill-color: #AAA;\n",
              "      --disabled-bg-color: #DDD;\n",
              "  }\n",
              "\n",
              "  [theme=dark] .colab-df-quickchart {\n",
              "      --bg-color: #3B4455;\n",
              "      --fill-color: #D2E3FC;\n",
              "      --hover-bg-color: #434B5C;\n",
              "      --hover-fill-color: #FFFFFF;\n",
              "      --disabled-bg-color: #3B4455;\n",
              "      --disabled-fill-color: #666;\n",
              "  }\n",
              "\n",
              "  .colab-df-quickchart {\n",
              "    background-color: var(--bg-color);\n",
              "    border: none;\n",
              "    border-radius: 50%;\n",
              "    cursor: pointer;\n",
              "    display: none;\n",
              "    fill: var(--fill-color);\n",
              "    height: 32px;\n",
              "    padding: 0;\n",
              "    width: 32px;\n",
              "  }\n",
              "\n",
              "  .colab-df-quickchart:hover {\n",
              "    background-color: var(--hover-bg-color);\n",
              "    box-shadow: 0 1px 2px rgba(60, 64, 67, 0.3), 0 1px 3px 1px rgba(60, 64, 67, 0.15);\n",
              "    fill: var(--button-hover-fill-color);\n",
              "  }\n",
              "\n",
              "  .colab-df-quickchart-complete:disabled,\n",
              "  .colab-df-quickchart-complete:disabled:hover {\n",
              "    background-color: var(--disabled-bg-color);\n",
              "    fill: var(--disabled-fill-color);\n",
              "    box-shadow: none;\n",
              "  }\n",
              "\n",
              "  .colab-df-spinner {\n",
              "    border: 2px solid var(--fill-color);\n",
              "    border-color: transparent;\n",
              "    border-bottom-color: var(--fill-color);\n",
              "    animation:\n",
              "      spin 1s steps(1) infinite;\n",
              "  }\n",
              "\n",
              "  @keyframes spin {\n",
              "    0% {\n",
              "      border-color: transparent;\n",
              "      border-bottom-color: var(--fill-color);\n",
              "      border-left-color: var(--fill-color);\n",
              "    }\n",
              "    20% {\n",
              "      border-color: transparent;\n",
              "      border-left-color: var(--fill-color);\n",
              "      border-top-color: var(--fill-color);\n",
              "    }\n",
              "    30% {\n",
              "      border-color: transparent;\n",
              "      border-left-color: var(--fill-color);\n",
              "      border-top-color: var(--fill-color);\n",
              "      border-right-color: var(--fill-color);\n",
              "    }\n",
              "    40% {\n",
              "      border-color: transparent;\n",
              "      border-right-color: var(--fill-color);\n",
              "      border-top-color: var(--fill-color);\n",
              "    }\n",
              "    60% {\n",
              "      border-color: transparent;\n",
              "      border-right-color: var(--fill-color);\n",
              "    }\n",
              "    80% {\n",
              "      border-color: transparent;\n",
              "      border-right-color: var(--fill-color);\n",
              "      border-bottom-color: var(--fill-color);\n",
              "    }\n",
              "    90% {\n",
              "      border-color: transparent;\n",
              "      border-bottom-color: var(--fill-color);\n",
              "    }\n",
              "  }\n",
              "</style>\n",
              "\n",
              "  <script>\n",
              "    async function quickchart(key) {\n",
              "      const quickchartButtonEl =\n",
              "        document.querySelector('#' + key + ' button');\n",
              "      quickchartButtonEl.disabled = true;  // To prevent multiple clicks.\n",
              "      quickchartButtonEl.classList.add('colab-df-spinner');\n",
              "      try {\n",
              "        const charts = await google.colab.kernel.invokeFunction(\n",
              "            'suggestCharts', [key], {});\n",
              "      } catch (error) {\n",
              "        console.error('Error during call to suggestCharts:', error);\n",
              "      }\n",
              "      quickchartButtonEl.classList.remove('colab-df-spinner');\n",
              "      quickchartButtonEl.classList.add('colab-df-quickchart-complete');\n",
              "    }\n",
              "    (() => {\n",
              "      let quickchartButtonEl =\n",
              "        document.querySelector('#df-d1892b45-dd11-4961-a200-d44a447f7af2 button');\n",
              "      quickchartButtonEl.style.display =\n",
              "        google.colab.kernel.accessAllowed ? 'block' : 'none';\n",
              "    })();\n",
              "  </script>\n",
              "</div>\n",
              "    </div>\n",
              "  </div>\n"
            ],
            "application/vnd.google.colaboratory.intrinsic+json": {
              "type": "dataframe",
              "variable_name": "df_nltk_token",
              "summary": "{\n  \"name\": \"df_nltk_token\",\n  \"rows\": 19993,\n  \"fields\": [\n    {\n      \"column\": \"doc_id\",\n      \"properties\": {\n        \"dtype\": \"number\",\n        \"std\": 8117,\n        \"min\": 16225,\n        \"max\": 44224,\n        \"num_unique_values\": 19993,\n        \"samples\": [\n          16698,\n          35617,\n          41770\n        ],\n        \"semantic_type\": \"\",\n        \"description\": \"\"\n      }\n    },\n    {\n      \"column\": \"Tokens\",\n      \"properties\": {\n        \"dtype\": \"string\",\n        \"num_unique_values\": 19615,\n        \"samples\": [\n          \"[('\\u0443\\u0432\\u0430\\u0436\\u0430\\u0435\\u043c\\u044b\\u0439', 'A=m'), ('\\u0441\\u043f\\u0435\\u0446\\u0438\\u0430\\u043b\\u0438\\u0441\\u0442', 'S'), ('\\u043f\\u0440\\u0438\\u0431\\u044b\\u0432\\u0430\\u0442\\u044c', 'V'), ('\\u043a\\u044b\\u0440\\u0433\\u044b\\u0437\\u0441\\u0442\\u0430\\u043d', 'S'), ('\\u0434\\u0430\\u043d\\u043d\\u044b\\u0435', 'S'), ('\\u043f\\u043e\\u0441\\u043e\\u043b\\u044c\\u0441\\u0442\\u0432\\u043e', 'S'), ('\\u0440\\u0444', 'S'), ('\\u0440\\u0435\\u0441\\u043f\\u0443\\u0431\\u043b\\u0438\\u043a\\u0430', 'S'), ('\\u043a\\u044b\\u0440\\u0433\\u044b\\u0437\\u0441\\u0442\\u0430\\u043d', 'S'), ('\\u043b\\u0430\\u0431\\u043e\\u0440\\u0430\\u0442\\u043e\\u0440\\u0438\\u044f', 'S'), ('\\u0431\\u043e\\u043d\\u0435\\u0446\\u043a\\u0438\\u0439', 'A=m'), ('\\u0441\\u0435\\u0442\\u044c', 'S'), ('\\u043b\\u0430\\u0431\\u043e\\u0440\\u0430\\u0442\\u043e\\u0440\\u0438\\u044f', 'S'), ('\\u043a\\u044b\\u0440\\u0433\\u044b\\u0437\\u0441\\u0442\\u0430\\u043d', 'S'), ('\\u0430\\u043a\\u043a\\u0440\\u0435\\u0434\\u0438\\u0442\\u043e\\u0432\\u0430\\u0442\\u044c', 'V'), ('\\u043e\\u0441\\u0443\\u0449\\u0435\\u0441\\u0442\\u0432\\u043b\\u0435\\u043d\\u0438\\u0435', 'S'), ('\\u0430\\u043d\\u0430\\u043b\\u0438\\u0437', 'S'), ('\\u0440\\u043e\\u0441\\u0441\\u0438\\u044f\\u043d\\u0438\\u043d', 'S'), ('\\u043a\\u043e\\u0432\\u0438\\u0434', 'S'), ('\\u0434\\u0430\\u0442\\u044c', 'V'), ('\\u043f\\u0440\\u0438\\u043d\\u0438\\u043c\\u0430\\u0442\\u044c\\u0441\\u044f', 'V'), ('\\u0440\\u043e\\u0441\\u0441\\u0438\\u044f', 'S'), ('\\u0432\\u043e\\u043f\\u0440\\u043e\\u0441', 'S'), ('\\u044d\\u0442\\u043e', 'PART'), ('\\u043c\\u043e\\u0447\\u044c', 'S'), ('\\u0441\\u0434\\u0435\\u043b\\u0430\\u0442\\u044c', 'V'), ('\\u0442\\u0435\\u0441\\u0442', 'S'), ('\\u043b\\u0430\\u0431\\u043e\\u0440\\u0430\\u0442\\u043e\\u0440\\u0438\\u044f', 'S'), ('\\u0431\\u043e\\u043d\\u0435\\u0446\\u043a\\u0438\\u0439', 'A=m'), ('\\u043f\\u0440\\u0435\\u0434\\u043e\\u0441\\u0442\\u0430\\u0432\\u0438\\u0442\\u044c', 'V'), ('\\u043f\\u0440\\u0438\\u043b\\u0451\\u0442', 'S'), ('\\u0440\\u043e\\u0441\\u043f\\u043e\\u0442\\u0440\\u0435\\u0431\\u043d\\u0430\\u0434\\u0437\\u043e\\u0440', 'S')]\",\n          \"[('\\u0434\\u043e\\u0431\\u0440\\u044b\\u0439', 'A=m'), ('\\u0434\\u0435\\u043d\\u044c', 'S'), ('\\u043f\\u0440\\u0438\\u043e\\u0431\\u0440\\u0435\\u0441\\u0442\\u0438', 'V'), ('\\u0434\\u0435\\u0442\\u0441\\u043a\\u0438\\u0439', 'A=m'), ('\\u043a\\u0440\\u043e\\u0432\\u0430\\u0442\\u044c', 'S'), ('\\u043c\\u0430\\u0433\\u0430\\u0437\\u0438\\u043d', 'S'), ('\\\"\\u0444\\u0430\\u0431\\u0440\\u0438\\u043a\\u0430', 'NONLEX'), ('\\u0434\\u0435\\u0442\\u0441\\u0442\\u0432\\u0430\\\"', 'V'), ('\\u0430\\u0434\\u0440\\u0435\\u0441', 'S'), ('\\u0442\\u043e\\u043b\\u044c\\u044f\\u0442\\u0442\\u0438', 'S'), ('\\u0443\\u043b', 'S'), ('\\u0442\\u0440\\u0430\\u043d\\u0441\\u043f\\u043e\\u0440\\u0442\\u043d\\u044b\\u0439', 'A=m'), ('\\u0441\\u0442\\u0440', 'S'), ('\\u043c\\u0446', 'S'), ('\\\"\\u043f\\u043b\\u0430\\u043d\\u0435\\u0442', 'NONLEX'), ('\\u043c\\u0435\\u0431\\u0435\\u043b\\u044c\\\"', 'S'), ('\\u044d\\u0442\\u0430\\u0436', 'S'), ('\\u0441\\u0430\\u043b\\u043e\\u043d', 'S'), ('\\u043c\\u0435\\u0431\\u0435\\u043b\\u044c', 'S'), ('\\\"cilek\\\"', 'NONLEX'), ('\\u0440\\u0443\\u0431', 'S'), ('\\u0434\\u043e\\u0441\\u0442\\u0430\\u0432\\u043a\\u0430', 'S'), ('\\u043c\\u0430\\u0433\\u0430\\u0437\\u0438\\u043d', 'S'), ('\\u043a\\u0440\\u043e\\u0432\\u0430\\u0442\\u044c', 'S'), ('\\u0441\\u043b\\u043e\\u043c\\u0430\\u0442\\u044c\\u0441\\u044f', 'V'), ('\\u0432\\u044b\\u043f\\u0430\\u043b\\u0438\\u0442\\u044c', 'V'), ('\\u043a\\u0440\\u0435\\u043f\\u0451\\u0436\\u043d\\u044b\\u0439', 'A=m'), ('\\u0435\\u0432\\u0440\\u043e\\u0432\\u0438\\u043d\\u0442', 'S'), ('\\u043f\\u0440\\u0438\\u0439\\u0442\\u0438', 'V'), ('\\u043c\\u0430\\u0441\\u0442\\u0435\\u0440', 'S'), ('\\u043c\\u0430\\u0433\\u0430\\u0437\\u0438\\u043d', 'S'), ('\\u043f\\u043e\\u0447\\u0438\\u043d\\u0438\\u0442\\u044c', 'V'), ('\\u043f\\u043e\\u043b\\u0433\\u043e\\u0434\\u0430', 'S'), ('\\u043f\\u0440\\u043e\\u0438\\u0437\\u043e\\u0439\\u0442\\u0438', 'V'), ('\\u0441\\u0430\\u043c\\u044b\\u0439', 'A-PRO=m'), ('\\u0433\\u0430\\u0440\\u0430\\u043d\\u0442\\u0438\\u044f', 'S'), ('\\u043a\\u0440\\u043e\\u0432\\u0430\\u0442\\u044c', 'S'), ('\\u0433\\u043e\\u0434', 'S'), ('\\u043d\\u0435\\u0441\\u043a\\u043e\\u043b\\u044c\\u043a\\u043e', 'ADV'), ('\\u043e\\u0431\\u0440\\u0430\\u0449\\u0430\\u0442\\u044c\\u0441\\u044f', 'V'), ('\\u043c\\u0430\\u0433\\u0430\\u0437\\u0438\\u043d', 'S'), ('\\u0445\\u043e\\u0437\\u044f\\u0439\\u043a\\u0430', 'S'), ('\\u043f\\u0435\\u0440\\u0435\\u0437\\u0432\\u043e\\u043d\\u0438\\u0442\\u044c', 'V'), ('\\u043e\\u0431\\u0435\\u0449\\u0430\\u0442\\u044c', 'V'), ('\\u0438\\u0441\\u043f\\u0440\\u0430\\u0432\\u0438\\u0442\\u044c', 'V'), ('\\u0441\\u0434\\u0435\\u043b\\u0430\\u0442\\u044c', 'V'), ('\\u043f\\u0440\\u043e\\u0439\\u0442\\u0438', 'V'), ('\\u043c\\u0435\\u0441\\u044f\\u0446', 'S')]\",\n          \"[('\\u043f\\u0440\\u043e\\u0441\\u0438\\u0442\\u044c', 'V'), ('\\u043f\\u0440\\u043e\\u0432\\u0435\\u0441\\u0442\\u0438', 'V'), ('\\u043f\\u0440\\u043e\\u0432\\u0435\\u0440\\u043a\\u0430', 'S'), ('\\u0444\\u0430\\u043a\\u0442', 'S'), ('\\u0440\\u0430\\u0437\\u043c\\u0435\\u0449\\u0435\\u043d\\u0438\\u0435', 'S'), ('\\u0440\\u0430\\u0431\\u043e\\u0442\\u043d\\u0438\\u043a', 'S'), ('\\u0430\\u043e', 'S'), ('\\u0443\\u043a', 'V'), ('\\u043d\\u0430\\u0443\\u043a\\u043e\\u0433\\u0440\\u0430\\u0434', 'S'), ('\\u043d\\u0435\\u0436\\u0438\\u043b\\u043e\\u0439', 'A=f'), ('\\u043f\\u043e\\u043c\\u0435\\u0449\\u0435\\u043d\\u0438\\u0435', 'S'), ('\\u0434\\u043e\\u043c', 'S'), ('\\u0443\\u043b\\u0438\\u0446\\u0430', 'S'), ('\\u0433\\u0430\\u0433\\u0430\\u0440\\u0438\\u043d', 'S'), ('\\u0433\\u043e\\u0440\\u043e\\u0434', 'S'), ('\\u0436\\u0443\\u043a\\u043e\\u0432\\u0441\\u043a\\u0438\\u0439', 'A=m'), ('\\u043e\\u0439', 'S'), ('\\u043f\\u043e\\u0434\\u044a\\u0435\\u0437\\u0434', 'S'), ('\\u044b\\u0439', 'NONLEX'), ('\\u044d\\u0442\\u0430\\u0436\\u0442\\u044c', 'S'), ('\\u043f\\u043e\\u043c\\u0435\\u0449\\u0435\\u043d\\u0438\\u0435', 'S'), ('\\u0440\\u0430\\u0441\\u043f\\u043e\\u043b\\u0430\\u0433\\u0430\\u0442\\u044c\\u0441\\u044f', 'V'), ('\\u0441\\u043a\\u043b\\u0430\\u0434', 'S'), ('\\u043c\\u0430\\u0442\\u0435\\u0440\\u0438\\u0430\\u043b', 'S'), ('\\u0431\\u044b\\u0442\\u043e\\u0432\\u043e\\u0439', 'A=f'), ('\\u0442\\u0435\\u0445\\u043d\\u0438\\u043a\\u0430', 'S'), ('\\u043c\\u0430\\u0442\\u0440\\u0430\\u0441', 'S'), ('\\u043f\\u043e\\u043b', 'NUM'), ('\\u0441\\u043e\\u043d', 'S'), ('\\u043f\\u0440\\u0435\\u0434\\u043f\\u043e\\u043b\\u043e\\u0436\\u0438\\u0442\\u0435\\u043b\\u044c\\u043d\\u043e', 'ADV'), ('\\u043d\\u0435\\u043c\\u043e\\u0439', 'A=f'), ('\\u043c\\u043e\\u0447\\u044c', 'S'), ('\\u043f\\u0440\\u043e\\u0436\\u0438\\u0432\\u0430\\u0442\\u044c', 'V'), ('\\u0441\\u0435\\u043c\\u044c\\u044f', 'S'), ('\\u0440\\u0430\\u0431\\u043e\\u0442\\u043d\\u0438\\u043a', 'S'), ('\\u0442\\u0430\\u043c\\u0436\\u0430', 'S'), ('\\u0440\\u0430\\u0437\\u043c\\u0435\\u0449\\u0430\\u0442\\u044c\\u0441\\u044f', 'V'), ('\\u0433\\u0430\\u0437\\u043e\\u0432\\u044b\\u0439', 'A=m'), ('\\u0431\\u0430\\u043b\\u043b\\u043e\\u043d', 'S'), ('\\u044d\\u043b\\u0435\\u043a\\u0442\\u0440\\u0438\\u0447\\u0435\\u0441\\u043a\\u0438\\u0439', 'A=m'), ('\\u043f\\u0440\\u0438\\u0431\\u043e\\u0440', 'S')]\"\n        ],\n        \"semantic_type\": \"\",\n        \"description\": \"\"\n      }\n    }\n  ]\n}"
            }
          },
          "metadata": {},
          "execution_count": 27
        }
      ]
    },
    {
      "cell_type": "markdown",
      "source": [
        "Split data"
      ],
      "metadata": {
        "id": "LCrKKalgbPi0"
      }
    },
    {
      "cell_type": "code",
      "source": [
        "words = []\n",
        "tags = []\n",
        "for text in corpus:\n",
        "    for t in text:\n",
        "        words.append(t[0])\n",
        "        tags.append(t[1])"
      ],
      "metadata": {
        "id": "4v-S-sFLrVRe"
      },
      "execution_count": null,
      "outputs": []
    },
    {
      "cell_type": "code",
      "source": [
        "df_words = pd.DataFrame({'word': words, 'tag': tags})\n",
        "df_words.head(5)"
      ],
      "metadata": {
        "colab": {
          "base_uri": "https://localhost:8080/",
          "height": 206
        },
        "id": "RvuaamFptDMu",
        "outputId": "1ea4da3f-c086-4816-c345-0f12f5499f46"
      },
      "execution_count": null,
      "outputs": [
        {
          "output_type": "execute_result",
          "data": {
            "text/plain": [
              "           word  tag\n",
              "0  здравствуйте    V\n",
              "1      заказать    V\n",
              "2          сайт    S\n",
              "3        техмый  A=m\n",
              "4       швейный  A=m"
            ],
            "text/html": [
              "\n",
              "  <div id=\"df-542e274f-312a-487f-8712-d4f372103856\" class=\"colab-df-container\">\n",
              "    <div>\n",
              "<style scoped>\n",
              "    .dataframe tbody tr th:only-of-type {\n",
              "        vertical-align: middle;\n",
              "    }\n",
              "\n",
              "    .dataframe tbody tr th {\n",
              "        vertical-align: top;\n",
              "    }\n",
              "\n",
              "    .dataframe thead th {\n",
              "        text-align: right;\n",
              "    }\n",
              "</style>\n",
              "<table border=\"1\" class=\"dataframe\">\n",
              "  <thead>\n",
              "    <tr style=\"text-align: right;\">\n",
              "      <th></th>\n",
              "      <th>word</th>\n",
              "      <th>tag</th>\n",
              "    </tr>\n",
              "  </thead>\n",
              "  <tbody>\n",
              "    <tr>\n",
              "      <th>0</th>\n",
              "      <td>здравствуйте</td>\n",
              "      <td>V</td>\n",
              "    </tr>\n",
              "    <tr>\n",
              "      <th>1</th>\n",
              "      <td>заказать</td>\n",
              "      <td>V</td>\n",
              "    </tr>\n",
              "    <tr>\n",
              "      <th>2</th>\n",
              "      <td>сайт</td>\n",
              "      <td>S</td>\n",
              "    </tr>\n",
              "    <tr>\n",
              "      <th>3</th>\n",
              "      <td>техмый</td>\n",
              "      <td>A=m</td>\n",
              "    </tr>\n",
              "    <tr>\n",
              "      <th>4</th>\n",
              "      <td>швейный</td>\n",
              "      <td>A=m</td>\n",
              "    </tr>\n",
              "  </tbody>\n",
              "</table>\n",
              "</div>\n",
              "    <div class=\"colab-df-buttons\">\n",
              "\n",
              "  <div class=\"colab-df-container\">\n",
              "    <button class=\"colab-df-convert\" onclick=\"convertToInteractive('df-542e274f-312a-487f-8712-d4f372103856')\"\n",
              "            title=\"Convert this dataframe to an interactive table.\"\n",
              "            style=\"display:none;\">\n",
              "\n",
              "  <svg xmlns=\"http://www.w3.org/2000/svg\" height=\"24px\" viewBox=\"0 -960 960 960\">\n",
              "    <path d=\"M120-120v-720h720v720H120Zm60-500h600v-160H180v160Zm220 220h160v-160H400v160Zm0 220h160v-160H400v160ZM180-400h160v-160H180v160Zm440 0h160v-160H620v160ZM180-180h160v-160H180v160Zm440 0h160v-160H620v160Z\"/>\n",
              "  </svg>\n",
              "    </button>\n",
              "\n",
              "  <style>\n",
              "    .colab-df-container {\n",
              "      display:flex;\n",
              "      gap: 12px;\n",
              "    }\n",
              "\n",
              "    .colab-df-convert {\n",
              "      background-color: #E8F0FE;\n",
              "      border: none;\n",
              "      border-radius: 50%;\n",
              "      cursor: pointer;\n",
              "      display: none;\n",
              "      fill: #1967D2;\n",
              "      height: 32px;\n",
              "      padding: 0 0 0 0;\n",
              "      width: 32px;\n",
              "    }\n",
              "\n",
              "    .colab-df-convert:hover {\n",
              "      background-color: #E2EBFA;\n",
              "      box-shadow: 0px 1px 2px rgba(60, 64, 67, 0.3), 0px 1px 3px 1px rgba(60, 64, 67, 0.15);\n",
              "      fill: #174EA6;\n",
              "    }\n",
              "\n",
              "    .colab-df-buttons div {\n",
              "      margin-bottom: 4px;\n",
              "    }\n",
              "\n",
              "    [theme=dark] .colab-df-convert {\n",
              "      background-color: #3B4455;\n",
              "      fill: #D2E3FC;\n",
              "    }\n",
              "\n",
              "    [theme=dark] .colab-df-convert:hover {\n",
              "      background-color: #434B5C;\n",
              "      box-shadow: 0px 1px 3px 1px rgba(0, 0, 0, 0.15);\n",
              "      filter: drop-shadow(0px 1px 2px rgba(0, 0, 0, 0.3));\n",
              "      fill: #FFFFFF;\n",
              "    }\n",
              "  </style>\n",
              "\n",
              "    <script>\n",
              "      const buttonEl =\n",
              "        document.querySelector('#df-542e274f-312a-487f-8712-d4f372103856 button.colab-df-convert');\n",
              "      buttonEl.style.display =\n",
              "        google.colab.kernel.accessAllowed ? 'block' : 'none';\n",
              "\n",
              "      async function convertToInteractive(key) {\n",
              "        const element = document.querySelector('#df-542e274f-312a-487f-8712-d4f372103856');\n",
              "        const dataTable =\n",
              "          await google.colab.kernel.invokeFunction('convertToInteractive',\n",
              "                                                    [key], {});\n",
              "        if (!dataTable) return;\n",
              "\n",
              "        const docLinkHtml = 'Like what you see? Visit the ' +\n",
              "          '<a target=\"_blank\" href=https://colab.research.google.com/notebooks/data_table.ipynb>data table notebook</a>'\n",
              "          + ' to learn more about interactive tables.';\n",
              "        element.innerHTML = '';\n",
              "        dataTable['output_type'] = 'display_data';\n",
              "        await google.colab.output.renderOutput(dataTable, element);\n",
              "        const docLink = document.createElement('div');\n",
              "        docLink.innerHTML = docLinkHtml;\n",
              "        element.appendChild(docLink);\n",
              "      }\n",
              "    </script>\n",
              "  </div>\n",
              "\n",
              "\n",
              "<div id=\"df-b8f0860c-39ab-4143-bccd-cb4c71854623\">\n",
              "  <button class=\"colab-df-quickchart\" onclick=\"quickchart('df-b8f0860c-39ab-4143-bccd-cb4c71854623')\"\n",
              "            title=\"Suggest charts\"\n",
              "            style=\"display:none;\">\n",
              "\n",
              "<svg xmlns=\"http://www.w3.org/2000/svg\" height=\"24px\"viewBox=\"0 0 24 24\"\n",
              "     width=\"24px\">\n",
              "    <g>\n",
              "        <path d=\"M19 3H5c-1.1 0-2 .9-2 2v14c0 1.1.9 2 2 2h14c1.1 0 2-.9 2-2V5c0-1.1-.9-2-2-2zM9 17H7v-7h2v7zm4 0h-2V7h2v10zm4 0h-2v-4h2v4z\"/>\n",
              "    </g>\n",
              "</svg>\n",
              "  </button>\n",
              "\n",
              "<style>\n",
              "  .colab-df-quickchart {\n",
              "      --bg-color: #E8F0FE;\n",
              "      --fill-color: #1967D2;\n",
              "      --hover-bg-color: #E2EBFA;\n",
              "      --hover-fill-color: #174EA6;\n",
              "      --disabled-fill-color: #AAA;\n",
              "      --disabled-bg-color: #DDD;\n",
              "  }\n",
              "\n",
              "  [theme=dark] .colab-df-quickchart {\n",
              "      --bg-color: #3B4455;\n",
              "      --fill-color: #D2E3FC;\n",
              "      --hover-bg-color: #434B5C;\n",
              "      --hover-fill-color: #FFFFFF;\n",
              "      --disabled-bg-color: #3B4455;\n",
              "      --disabled-fill-color: #666;\n",
              "  }\n",
              "\n",
              "  .colab-df-quickchart {\n",
              "    background-color: var(--bg-color);\n",
              "    border: none;\n",
              "    border-radius: 50%;\n",
              "    cursor: pointer;\n",
              "    display: none;\n",
              "    fill: var(--fill-color);\n",
              "    height: 32px;\n",
              "    padding: 0;\n",
              "    width: 32px;\n",
              "  }\n",
              "\n",
              "  .colab-df-quickchart:hover {\n",
              "    background-color: var(--hover-bg-color);\n",
              "    box-shadow: 0 1px 2px rgba(60, 64, 67, 0.3), 0 1px 3px 1px rgba(60, 64, 67, 0.15);\n",
              "    fill: var(--button-hover-fill-color);\n",
              "  }\n",
              "\n",
              "  .colab-df-quickchart-complete:disabled,\n",
              "  .colab-df-quickchart-complete:disabled:hover {\n",
              "    background-color: var(--disabled-bg-color);\n",
              "    fill: var(--disabled-fill-color);\n",
              "    box-shadow: none;\n",
              "  }\n",
              "\n",
              "  .colab-df-spinner {\n",
              "    border: 2px solid var(--fill-color);\n",
              "    border-color: transparent;\n",
              "    border-bottom-color: var(--fill-color);\n",
              "    animation:\n",
              "      spin 1s steps(1) infinite;\n",
              "  }\n",
              "\n",
              "  @keyframes spin {\n",
              "    0% {\n",
              "      border-color: transparent;\n",
              "      border-bottom-color: var(--fill-color);\n",
              "      border-left-color: var(--fill-color);\n",
              "    }\n",
              "    20% {\n",
              "      border-color: transparent;\n",
              "      border-left-color: var(--fill-color);\n",
              "      border-top-color: var(--fill-color);\n",
              "    }\n",
              "    30% {\n",
              "      border-color: transparent;\n",
              "      border-left-color: var(--fill-color);\n",
              "      border-top-color: var(--fill-color);\n",
              "      border-right-color: var(--fill-color);\n",
              "    }\n",
              "    40% {\n",
              "      border-color: transparent;\n",
              "      border-right-color: var(--fill-color);\n",
              "      border-top-color: var(--fill-color);\n",
              "    }\n",
              "    60% {\n",
              "      border-color: transparent;\n",
              "      border-right-color: var(--fill-color);\n",
              "    }\n",
              "    80% {\n",
              "      border-color: transparent;\n",
              "      border-right-color: var(--fill-color);\n",
              "      border-bottom-color: var(--fill-color);\n",
              "    }\n",
              "    90% {\n",
              "      border-color: transparent;\n",
              "      border-bottom-color: var(--fill-color);\n",
              "    }\n",
              "  }\n",
              "</style>\n",
              "\n",
              "  <script>\n",
              "    async function quickchart(key) {\n",
              "      const quickchartButtonEl =\n",
              "        document.querySelector('#' + key + ' button');\n",
              "      quickchartButtonEl.disabled = true;  // To prevent multiple clicks.\n",
              "      quickchartButtonEl.classList.add('colab-df-spinner');\n",
              "      try {\n",
              "        const charts = await google.colab.kernel.invokeFunction(\n",
              "            'suggestCharts', [key], {});\n",
              "      } catch (error) {\n",
              "        console.error('Error during call to suggestCharts:', error);\n",
              "      }\n",
              "      quickchartButtonEl.classList.remove('colab-df-spinner');\n",
              "      quickchartButtonEl.classList.add('colab-df-quickchart-complete');\n",
              "    }\n",
              "    (() => {\n",
              "      let quickchartButtonEl =\n",
              "        document.querySelector('#df-b8f0860c-39ab-4143-bccd-cb4c71854623 button');\n",
              "      quickchartButtonEl.style.display =\n",
              "        google.colab.kernel.accessAllowed ? 'block' : 'none';\n",
              "    })();\n",
              "  </script>\n",
              "</div>\n",
              "    </div>\n",
              "  </div>\n"
            ],
            "application/vnd.google.colaboratory.intrinsic+json": {
              "type": "dataframe",
              "variable_name": "df_words"
            }
          },
          "metadata": {},
          "execution_count": 45
        }
      ]
    },
    {
      "cell_type": "code",
      "source": [
        "train_data, test_data = train_test_split(corpus, test_size=0.1, random_state=42)\n",
        "len(train_data), len(test_data)"
      ],
      "metadata": {
        "colab": {
          "base_uri": "https://localhost:8080/"
        },
        "id": "wMTiazSibBUb",
        "outputId": "59b54b24-d121-4093-ffd6-4a8e5354e139"
      },
      "execution_count": null,
      "outputs": [
        {
          "output_type": "execute_result",
          "data": {
            "text/plain": [
              "(17993, 2000)"
            ]
          },
          "metadata": {},
          "execution_count": 60
        }
      ]
    },
    {
      "cell_type": "code",
      "source": [
        "train_data, test_sents = train_test_split(train_data, test_size=0.1, random_state=42)\n",
        "len(train_data), len(test_sents)"
      ],
      "metadata": {
        "colab": {
          "base_uri": "https://localhost:8080/"
        },
        "id": "7D6Qsg7ybdIO",
        "outputId": "1afaab2e-455d-4e15-8616-c04bff5bc989"
      },
      "execution_count": null,
      "outputs": [
        {
          "output_type": "execute_result",
          "data": {
            "text/plain": [
              "(16193, 1800)"
            ]
          },
          "metadata": {},
          "execution_count": 61
        }
      ]
    },
    {
      "cell_type": "code",
      "source": [
        "test_sent = []\n",
        "for sen in test_sents:\n",
        "    for s in sen:\n",
        "        test_sent.append(s[0])"
      ],
      "metadata": {
        "id": "KbCpDeSxbo5f"
      },
      "execution_count": null,
      "outputs": []
    },
    {
      "cell_type": "markdown",
      "source": [
        "## Find the best taggers (NLTK)"
      ],
      "metadata": {
        "id": "kpiVgV3bb0PG"
      }
    },
    {
      "cell_type": "code",
      "source": [
        "tagger_lists = [UnigramTagger,\n",
        "                BigramTagger,\n",
        "                TrigramTagger,\n",
        "                [BigramTagger, UnigramTagger],\n",
        "                [TrigramTagger, UnigramTagger],\n",
        "                [TrigramTagger, BigramTagger]]"
      ],
      "metadata": {
        "id": "fTKhq5TKbxqi"
      },
      "execution_count": null,
      "outputs": []
    },
    {
      "cell_type": "code",
      "source": [
        "td_nltk = Find_best_tagger(tagger_lists, train_data, test_data, test_sent)"
      ],
      "metadata": {
        "colab": {
          "base_uri": "https://localhost:8080/"
        },
        "id": "34yUw7XIb4uz",
        "outputId": "07f8d9fb-8193-4d4a-9198-e79569bab54d"
      },
      "execution_count": null,
      "outputs": [
        {
          "output_type": "stream",
          "name": "stderr",
          "text": [
            "<ipython-input-23-39dd93b506a2>:96: DeprecationWarning: \n",
            "  Function evaluate() has been deprecated.  Use accuracy(gold)\n",
            "  instead.\n",
            "  return tagger, tagger.evaluate(y), tagger.tag(test_sent)\n"
          ]
        }
      ]
    },
    {
      "cell_type": "markdown",
      "source": [
        "## Comparison grams"
      ],
      "metadata": {
        "id": "W-HShIUmdwkL"
      }
    },
    {
      "cell_type": "code",
      "source": [
        "td_nltk_1 = {}\n",
        "for k, v in td_nltk.items():\n",
        "    if \"context\" in k:\n",
        "        td_nltk_1[k] = [v]\n",
        "    else:\n",
        "        td_nltk_1[k] = v"
      ],
      "metadata": {
        "id": "tyx7IU7WcKXw"
      },
      "execution_count": null,
      "outputs": []
    },
    {
      "cell_type": "code",
      "source": [
        "df_taggers_nltk = pd.DataFrame(td_nltk_1)\n",
        "df_taggers_nltk"
      ],
      "metadata": {
        "colab": {
          "base_uri": "https://localhost:8080/",
          "height": 135
        },
        "id": "UDo8sAjtcOJl",
        "outputId": "933e4d9a-f316-45cc-b01d-ee4d2dec15e4"
      },
      "execution_count": null,
      "outputs": [
        {
          "output_type": "execute_result",
          "data": {
            "text/plain": [
              "                 UnigramTagger  acc_UnigramTagger  \\\n",
              "0  <UnigramTagger: size=66530>            0.92022   \n",
              "\n",
              "                               context_UnigramTagger  \\\n",
              "0  [(добрый, A=m), (день, S), (адрес, S), (пушкин...   \n",
              "\n",
              "                  BigramTagger  acc_BigramTagger  \\\n",
              "0  <BigramTagger: size=117281>          0.236316   \n",
              "\n",
              "                                context_BigramTagger  \\\n",
              "0  [(добрый, A=m), (день, S), (адрес, S), (пушкин...   \n",
              "\n",
              "                  TrigramTagger  acc_TrigramTagger  \\\n",
              "0  <TrigramTagger: size=207891>           0.148057   \n",
              "\n",
              "                               context_TrigramTagger  \\\n",
              "0  [(добрый, A=m), (день, S), (адрес, S), (пушкин...   \n",
              "\n",
              "  BigramTagger_UnigramTagger  acc_BigramTagger_UnigramTagger  \\\n",
              "0  <BigramTagger: size=7205>                        0.922102   \n",
              "\n",
              "                  context_BigramTagger_UnigramTagger  \\\n",
              "0  [(добрый, A=m), (день, S), (адрес, S), (пушкин...   \n",
              "\n",
              "   TrigramTagger_UnigramTagger  acc_TrigramTagger_UnigramTagger  \\\n",
              "0  <TrigramTagger: size=11525>                         0.921802   \n",
              "\n",
              "                 context_TrigramTagger_UnigramTagger  \\\n",
              "0  [(добрый, A=m), (день, S), (адрес, S), (пушкин...   \n",
              "\n",
              "   TrigramTagger_BigramTagger  acc_TrigramTagger_BigramTagger  \\\n",
              "0  <TrigramTagger: size=8925>                        0.238206   \n",
              "\n",
              "                  context_TrigramTagger_BigramTagger  \n",
              "0  [(добрый, A=m), (день, S), (адрес, S), (пушкин...  "
            ],
            "text/html": [
              "\n",
              "  <div id=\"df-b897c938-15f8-4ced-ac8f-a24f326782bb\" class=\"colab-df-container\">\n",
              "    <div>\n",
              "<style scoped>\n",
              "    .dataframe tbody tr th:only-of-type {\n",
              "        vertical-align: middle;\n",
              "    }\n",
              "\n",
              "    .dataframe tbody tr th {\n",
              "        vertical-align: top;\n",
              "    }\n",
              "\n",
              "    .dataframe thead th {\n",
              "        text-align: right;\n",
              "    }\n",
              "</style>\n",
              "<table border=\"1\" class=\"dataframe\">\n",
              "  <thead>\n",
              "    <tr style=\"text-align: right;\">\n",
              "      <th></th>\n",
              "      <th>UnigramTagger</th>\n",
              "      <th>acc_UnigramTagger</th>\n",
              "      <th>context_UnigramTagger</th>\n",
              "      <th>BigramTagger</th>\n",
              "      <th>acc_BigramTagger</th>\n",
              "      <th>context_BigramTagger</th>\n",
              "      <th>TrigramTagger</th>\n",
              "      <th>acc_TrigramTagger</th>\n",
              "      <th>context_TrigramTagger</th>\n",
              "      <th>BigramTagger_UnigramTagger</th>\n",
              "      <th>acc_BigramTagger_UnigramTagger</th>\n",
              "      <th>context_BigramTagger_UnigramTagger</th>\n",
              "      <th>TrigramTagger_UnigramTagger</th>\n",
              "      <th>acc_TrigramTagger_UnigramTagger</th>\n",
              "      <th>context_TrigramTagger_UnigramTagger</th>\n",
              "      <th>TrigramTagger_BigramTagger</th>\n",
              "      <th>acc_TrigramTagger_BigramTagger</th>\n",
              "      <th>context_TrigramTagger_BigramTagger</th>\n",
              "    </tr>\n",
              "  </thead>\n",
              "  <tbody>\n",
              "    <tr>\n",
              "      <th>0</th>\n",
              "      <td>&lt;UnigramTagger: size=66530&gt;</td>\n",
              "      <td>0.92022</td>\n",
              "      <td>[(добрый, A=m), (день, S), (адрес, S), (пушкин...</td>\n",
              "      <td>&lt;BigramTagger: size=117281&gt;</td>\n",
              "      <td>0.236316</td>\n",
              "      <td>[(добрый, A=m), (день, S), (адрес, S), (пушкин...</td>\n",
              "      <td>&lt;TrigramTagger: size=207891&gt;</td>\n",
              "      <td>0.148057</td>\n",
              "      <td>[(добрый, A=m), (день, S), (адрес, S), (пушкин...</td>\n",
              "      <td>&lt;BigramTagger: size=7205&gt;</td>\n",
              "      <td>0.922102</td>\n",
              "      <td>[(добрый, A=m), (день, S), (адрес, S), (пушкин...</td>\n",
              "      <td>&lt;TrigramTagger: size=11525&gt;</td>\n",
              "      <td>0.921802</td>\n",
              "      <td>[(добрый, A=m), (день, S), (адрес, S), (пушкин...</td>\n",
              "      <td>&lt;TrigramTagger: size=8925&gt;</td>\n",
              "      <td>0.238206</td>\n",
              "      <td>[(добрый, A=m), (день, S), (адрес, S), (пушкин...</td>\n",
              "    </tr>\n",
              "  </tbody>\n",
              "</table>\n",
              "</div>\n",
              "    <div class=\"colab-df-buttons\">\n",
              "\n",
              "  <div class=\"colab-df-container\">\n",
              "    <button class=\"colab-df-convert\" onclick=\"convertToInteractive('df-b897c938-15f8-4ced-ac8f-a24f326782bb')\"\n",
              "            title=\"Convert this dataframe to an interactive table.\"\n",
              "            style=\"display:none;\">\n",
              "\n",
              "  <svg xmlns=\"http://www.w3.org/2000/svg\" height=\"24px\" viewBox=\"0 -960 960 960\">\n",
              "    <path d=\"M120-120v-720h720v720H120Zm60-500h600v-160H180v160Zm220 220h160v-160H400v160Zm0 220h160v-160H400v160ZM180-400h160v-160H180v160Zm440 0h160v-160H620v160ZM180-180h160v-160H180v160Zm440 0h160v-160H620v160Z\"/>\n",
              "  </svg>\n",
              "    </button>\n",
              "\n",
              "  <style>\n",
              "    .colab-df-container {\n",
              "      display:flex;\n",
              "      gap: 12px;\n",
              "    }\n",
              "\n",
              "    .colab-df-convert {\n",
              "      background-color: #E8F0FE;\n",
              "      border: none;\n",
              "      border-radius: 50%;\n",
              "      cursor: pointer;\n",
              "      display: none;\n",
              "      fill: #1967D2;\n",
              "      height: 32px;\n",
              "      padding: 0 0 0 0;\n",
              "      width: 32px;\n",
              "    }\n",
              "\n",
              "    .colab-df-convert:hover {\n",
              "      background-color: #E2EBFA;\n",
              "      box-shadow: 0px 1px 2px rgba(60, 64, 67, 0.3), 0px 1px 3px 1px rgba(60, 64, 67, 0.15);\n",
              "      fill: #174EA6;\n",
              "    }\n",
              "\n",
              "    .colab-df-buttons div {\n",
              "      margin-bottom: 4px;\n",
              "    }\n",
              "\n",
              "    [theme=dark] .colab-df-convert {\n",
              "      background-color: #3B4455;\n",
              "      fill: #D2E3FC;\n",
              "    }\n",
              "\n",
              "    [theme=dark] .colab-df-convert:hover {\n",
              "      background-color: #434B5C;\n",
              "      box-shadow: 0px 1px 3px 1px rgba(0, 0, 0, 0.15);\n",
              "      filter: drop-shadow(0px 1px 2px rgba(0, 0, 0, 0.3));\n",
              "      fill: #FFFFFF;\n",
              "    }\n",
              "  </style>\n",
              "\n",
              "    <script>\n",
              "      const buttonEl =\n",
              "        document.querySelector('#df-b897c938-15f8-4ced-ac8f-a24f326782bb button.colab-df-convert');\n",
              "      buttonEl.style.display =\n",
              "        google.colab.kernel.accessAllowed ? 'block' : 'none';\n",
              "\n",
              "      async function convertToInteractive(key) {\n",
              "        const element = document.querySelector('#df-b897c938-15f8-4ced-ac8f-a24f326782bb');\n",
              "        const dataTable =\n",
              "          await google.colab.kernel.invokeFunction('convertToInteractive',\n",
              "                                                    [key], {});\n",
              "        if (!dataTable) return;\n",
              "\n",
              "        const docLinkHtml = 'Like what you see? Visit the ' +\n",
              "          '<a target=\"_blank\" href=https://colab.research.google.com/notebooks/data_table.ipynb>data table notebook</a>'\n",
              "          + ' to learn more about interactive tables.';\n",
              "        element.innerHTML = '';\n",
              "        dataTable['output_type'] = 'display_data';\n",
              "        await google.colab.output.renderOutput(dataTable, element);\n",
              "        const docLink = document.createElement('div');\n",
              "        docLink.innerHTML = docLinkHtml;\n",
              "        element.appendChild(docLink);\n",
              "      }\n",
              "    </script>\n",
              "  </div>\n",
              "\n",
              "    </div>\n",
              "  </div>\n"
            ],
            "application/vnd.google.colaboratory.intrinsic+json": {
              "type": "dataframe",
              "variable_name": "df_taggers_nltk",
              "summary": "{\n  \"name\": \"df_taggers_nltk\",\n  \"rows\": 1,\n  \"fields\": [\n    {\n      \"column\": \"UnigramTagger\",\n      \"properties\": {\n        \"dtype\": \"string\",\n        \"num_unique_values\": 1,\n        \"samples\": [\n          \"<UnigramTagger: size=66530>\"\n        ],\n        \"semantic_type\": \"\",\n        \"description\": \"\"\n      }\n    },\n    {\n      \"column\": \"acc_UnigramTagger\",\n      \"properties\": {\n        \"dtype\": \"number\",\n        \"std\": null,\n        \"min\": 0.920220029470988,\n        \"max\": 0.920220029470988,\n        \"num_unique_values\": 1,\n        \"samples\": [\n          0.920220029470988\n        ],\n        \"semantic_type\": \"\",\n        \"description\": \"\"\n      }\n    },\n    {\n      \"column\": \"context_UnigramTagger\",\n      \"properties\": {\n        \"dtype\": \"object\",\n        \"semantic_type\": \"\",\n        \"description\": \"\"\n      }\n    },\n    {\n      \"column\": \"BigramTagger\",\n      \"properties\": {\n        \"dtype\": \"string\",\n        \"num_unique_values\": 1,\n        \"samples\": [\n          \"<BigramTagger: size=117281>\"\n        ],\n        \"semantic_type\": \"\",\n        \"description\": \"\"\n      }\n    },\n    {\n      \"column\": \"acc_BigramTagger\",\n      \"properties\": {\n        \"dtype\": \"number\",\n        \"std\": null,\n        \"min\": 0.23631566359870082,\n        \"max\": 0.23631566359870082,\n        \"num_unique_values\": 1,\n        \"samples\": [\n          0.23631566359870082\n        ],\n        \"semantic_type\": \"\",\n        \"description\": \"\"\n      }\n    },\n    {\n      \"column\": \"context_BigramTagger\",\n      \"properties\": {\n        \"dtype\": \"object\",\n        \"semantic_type\": \"\",\n        \"description\": \"\"\n      }\n    },\n    {\n      \"column\": \"TrigramTagger\",\n      \"properties\": {\n        \"dtype\": \"string\",\n        \"num_unique_values\": 1,\n        \"samples\": [\n          \"<TrigramTagger: size=207891>\"\n        ],\n        \"semantic_type\": \"\",\n        \"description\": \"\"\n      }\n    },\n    {\n      \"column\": \"acc_TrigramTagger\",\n      \"properties\": {\n        \"dtype\": \"number\",\n        \"std\": null,\n        \"min\": 0.1480569978166781,\n        \"max\": 0.1480569978166781,\n        \"num_unique_values\": 1,\n        \"samples\": [\n          0.1480569978166781\n        ],\n        \"semantic_type\": \"\",\n        \"description\": \"\"\n      }\n    },\n    {\n      \"column\": \"context_TrigramTagger\",\n      \"properties\": {\n        \"dtype\": \"object\",\n        \"semantic_type\": \"\",\n        \"description\": \"\"\n      }\n    },\n    {\n      \"column\": \"BigramTagger_UnigramTagger\",\n      \"properties\": {\n        \"dtype\": \"string\",\n        \"num_unique_values\": 1,\n        \"samples\": [\n          \"<BigramTagger: size=7205>\"\n        ],\n        \"semantic_type\": \"\",\n        \"description\": \"\"\n      }\n    },\n    {\n      \"column\": \"acc_BigramTagger_UnigramTagger\",\n      \"properties\": {\n        \"dtype\": \"number\",\n        \"std\": null,\n        \"min\": 0.9221024695453599,\n        \"max\": 0.9221024695453599,\n        \"num_unique_values\": 1,\n        \"samples\": [\n          0.9221024695453599\n        ],\n        \"semantic_type\": \"\",\n        \"description\": \"\"\n      }\n    },\n    {\n      \"column\": \"context_BigramTagger_UnigramTagger\",\n      \"properties\": {\n        \"dtype\": \"object\",\n        \"semantic_type\": \"\",\n        \"description\": \"\"\n      }\n    },\n    {\n      \"column\": \"TrigramTagger_UnigramTagger\",\n      \"properties\": {\n        \"dtype\": \"string\",\n        \"num_unique_values\": 1,\n        \"samples\": [\n          \"<TrigramTagger: size=11525>\"\n        ],\n        \"semantic_type\": \"\",\n        \"description\": \"\"\n      }\n    },\n    {\n      \"column\": \"acc_TrigramTagger_UnigramTagger\",\n      \"properties\": {\n        \"dtype\": \"number\",\n        \"std\": null,\n        \"min\": 0.9218015877301938,\n        \"max\": 0.9218015877301938,\n        \"num_unique_values\": 1,\n        \"samples\": [\n          0.9218015877301938\n        ],\n        \"semantic_type\": \"\",\n        \"description\": \"\"\n      }\n    },\n    {\n      \"column\": \"context_TrigramTagger_UnigramTagger\",\n      \"properties\": {\n        \"dtype\": \"object\",\n        \"semantic_type\": \"\",\n        \"description\": \"\"\n      }\n    },\n    {\n      \"column\": \"TrigramTagger_BigramTagger\",\n      \"properties\": {\n        \"dtype\": \"string\",\n        \"num_unique_values\": 1,\n        \"samples\": [\n          \"<TrigramTagger: size=8925>\"\n        ],\n        \"semantic_type\": \"\",\n        \"description\": \"\"\n      }\n    },\n    {\n      \"column\": \"acc_TrigramTagger_BigramTagger\",\n      \"properties\": {\n        \"dtype\": \"number\",\n        \"std\": null,\n        \"min\": 0.2382058185914102,\n        \"max\": 0.2382058185914102,\n        \"num_unique_values\": 1,\n        \"samples\": [\n          0.2382058185914102\n        ],\n        \"semantic_type\": \"\",\n        \"description\": \"\"\n      }\n    },\n    {\n      \"column\": \"context_TrigramTagger_BigramTagger\",\n      \"properties\": {\n        \"dtype\": \"object\",\n        \"semantic_type\": \"\",\n        \"description\": \"\"\n      }\n    }\n  ]\n}"
            }
          },
          "metadata": {},
          "execution_count": 66
        }
      ]
    },
    {
      "cell_type": "code",
      "source": [
        "df_taggers_nltk.to_csv(path_to_work_dir + \"Comparison_grams_nltk.csv\", index=None)"
      ],
      "metadata": {
        "id": "hODyosYRcah2"
      },
      "execution_count": null,
      "outputs": []
    },
    {
      "cell_type": "code",
      "source": [
        "df_taggers_nltk = pd.read_csv(path_to_work_dir + \"Comparison_grams_nltk.csv\")"
      ],
      "metadata": {
        "id": "rtSoLvTqcdqN"
      },
      "execution_count": null,
      "outputs": []
    },
    {
      "cell_type": "code",
      "source": [
        "df_taggers_nltk.filter(regex=\"acc_\").T.sort_values(by=0, ascending=False)"
      ],
      "metadata": {
        "colab": {
          "base_uri": "https://localhost:8080/",
          "height": 237
        },
        "id": "JM-IwnjCcpok",
        "outputId": "897bd0cb-5c03-4454-9b42-22b9dadf3d61"
      },
      "execution_count": null,
      "outputs": [
        {
          "output_type": "execute_result",
          "data": {
            "text/plain": [
              "                                        0\n",
              "acc_BigramTagger_UnigramTagger   0.922102\n",
              "acc_TrigramTagger_UnigramTagger  0.921802\n",
              "acc_UnigramTagger                0.920220\n",
              "acc_TrigramTagger_BigramTagger   0.238206\n",
              "acc_BigramTagger                 0.236316\n",
              "acc_TrigramTagger                0.148057"
            ],
            "text/html": [
              "\n",
              "  <div id=\"df-748ea565-3b34-447f-8595-fda004b47a88\" class=\"colab-df-container\">\n",
              "    <div>\n",
              "<style scoped>\n",
              "    .dataframe tbody tr th:only-of-type {\n",
              "        vertical-align: middle;\n",
              "    }\n",
              "\n",
              "    .dataframe tbody tr th {\n",
              "        vertical-align: top;\n",
              "    }\n",
              "\n",
              "    .dataframe thead th {\n",
              "        text-align: right;\n",
              "    }\n",
              "</style>\n",
              "<table border=\"1\" class=\"dataframe\">\n",
              "  <thead>\n",
              "    <tr style=\"text-align: right;\">\n",
              "      <th></th>\n",
              "      <th>0</th>\n",
              "    </tr>\n",
              "  </thead>\n",
              "  <tbody>\n",
              "    <tr>\n",
              "      <th>acc_BigramTagger_UnigramTagger</th>\n",
              "      <td>0.922102</td>\n",
              "    </tr>\n",
              "    <tr>\n",
              "      <th>acc_TrigramTagger_UnigramTagger</th>\n",
              "      <td>0.921802</td>\n",
              "    </tr>\n",
              "    <tr>\n",
              "      <th>acc_UnigramTagger</th>\n",
              "      <td>0.920220</td>\n",
              "    </tr>\n",
              "    <tr>\n",
              "      <th>acc_TrigramTagger_BigramTagger</th>\n",
              "      <td>0.238206</td>\n",
              "    </tr>\n",
              "    <tr>\n",
              "      <th>acc_BigramTagger</th>\n",
              "      <td>0.236316</td>\n",
              "    </tr>\n",
              "    <tr>\n",
              "      <th>acc_TrigramTagger</th>\n",
              "      <td>0.148057</td>\n",
              "    </tr>\n",
              "  </tbody>\n",
              "</table>\n",
              "</div>\n",
              "    <div class=\"colab-df-buttons\">\n",
              "\n",
              "  <div class=\"colab-df-container\">\n",
              "    <button class=\"colab-df-convert\" onclick=\"convertToInteractive('df-748ea565-3b34-447f-8595-fda004b47a88')\"\n",
              "            title=\"Convert this dataframe to an interactive table.\"\n",
              "            style=\"display:none;\">\n",
              "\n",
              "  <svg xmlns=\"http://www.w3.org/2000/svg\" height=\"24px\" viewBox=\"0 -960 960 960\">\n",
              "    <path d=\"M120-120v-720h720v720H120Zm60-500h600v-160H180v160Zm220 220h160v-160H400v160Zm0 220h160v-160H400v160ZM180-400h160v-160H180v160Zm440 0h160v-160H620v160ZM180-180h160v-160H180v160Zm440 0h160v-160H620v160Z\"/>\n",
              "  </svg>\n",
              "    </button>\n",
              "\n",
              "  <style>\n",
              "    .colab-df-container {\n",
              "      display:flex;\n",
              "      gap: 12px;\n",
              "    }\n",
              "\n",
              "    .colab-df-convert {\n",
              "      background-color: #E8F0FE;\n",
              "      border: none;\n",
              "      border-radius: 50%;\n",
              "      cursor: pointer;\n",
              "      display: none;\n",
              "      fill: #1967D2;\n",
              "      height: 32px;\n",
              "      padding: 0 0 0 0;\n",
              "      width: 32px;\n",
              "    }\n",
              "\n",
              "    .colab-df-convert:hover {\n",
              "      background-color: #E2EBFA;\n",
              "      box-shadow: 0px 1px 2px rgba(60, 64, 67, 0.3), 0px 1px 3px 1px rgba(60, 64, 67, 0.15);\n",
              "      fill: #174EA6;\n",
              "    }\n",
              "\n",
              "    .colab-df-buttons div {\n",
              "      margin-bottom: 4px;\n",
              "    }\n",
              "\n",
              "    [theme=dark] .colab-df-convert {\n",
              "      background-color: #3B4455;\n",
              "      fill: #D2E3FC;\n",
              "    }\n",
              "\n",
              "    [theme=dark] .colab-df-convert:hover {\n",
              "      background-color: #434B5C;\n",
              "      box-shadow: 0px 1px 3px 1px rgba(0, 0, 0, 0.15);\n",
              "      filter: drop-shadow(0px 1px 2px rgba(0, 0, 0, 0.3));\n",
              "      fill: #FFFFFF;\n",
              "    }\n",
              "  </style>\n",
              "\n",
              "    <script>\n",
              "      const buttonEl =\n",
              "        document.querySelector('#df-748ea565-3b34-447f-8595-fda004b47a88 button.colab-df-convert');\n",
              "      buttonEl.style.display =\n",
              "        google.colab.kernel.accessAllowed ? 'block' : 'none';\n",
              "\n",
              "      async function convertToInteractive(key) {\n",
              "        const element = document.querySelector('#df-748ea565-3b34-447f-8595-fda004b47a88');\n",
              "        const dataTable =\n",
              "          await google.colab.kernel.invokeFunction('convertToInteractive',\n",
              "                                                    [key], {});\n",
              "        if (!dataTable) return;\n",
              "\n",
              "        const docLinkHtml = 'Like what you see? Visit the ' +\n",
              "          '<a target=\"_blank\" href=https://colab.research.google.com/notebooks/data_table.ipynb>data table notebook</a>'\n",
              "          + ' to learn more about interactive tables.';\n",
              "        element.innerHTML = '';\n",
              "        dataTable['output_type'] = 'display_data';\n",
              "        await google.colab.output.renderOutput(dataTable, element);\n",
              "        const docLink = document.createElement('div');\n",
              "        docLink.innerHTML = docLinkHtml;\n",
              "        element.appendChild(docLink);\n",
              "      }\n",
              "    </script>\n",
              "  </div>\n",
              "\n",
              "\n",
              "<div id=\"df-cffa1f77-522a-4d33-ac7b-04042ed12222\">\n",
              "  <button class=\"colab-df-quickchart\" onclick=\"quickchart('df-cffa1f77-522a-4d33-ac7b-04042ed12222')\"\n",
              "            title=\"Suggest charts\"\n",
              "            style=\"display:none;\">\n",
              "\n",
              "<svg xmlns=\"http://www.w3.org/2000/svg\" height=\"24px\"viewBox=\"0 0 24 24\"\n",
              "     width=\"24px\">\n",
              "    <g>\n",
              "        <path d=\"M19 3H5c-1.1 0-2 .9-2 2v14c0 1.1.9 2 2 2h14c1.1 0 2-.9 2-2V5c0-1.1-.9-2-2-2zM9 17H7v-7h2v7zm4 0h-2V7h2v10zm4 0h-2v-4h2v4z\"/>\n",
              "    </g>\n",
              "</svg>\n",
              "  </button>\n",
              "\n",
              "<style>\n",
              "  .colab-df-quickchart {\n",
              "      --bg-color: #E8F0FE;\n",
              "      --fill-color: #1967D2;\n",
              "      --hover-bg-color: #E2EBFA;\n",
              "      --hover-fill-color: #174EA6;\n",
              "      --disabled-fill-color: #AAA;\n",
              "      --disabled-bg-color: #DDD;\n",
              "  }\n",
              "\n",
              "  [theme=dark] .colab-df-quickchart {\n",
              "      --bg-color: #3B4455;\n",
              "      --fill-color: #D2E3FC;\n",
              "      --hover-bg-color: #434B5C;\n",
              "      --hover-fill-color: #FFFFFF;\n",
              "      --disabled-bg-color: #3B4455;\n",
              "      --disabled-fill-color: #666;\n",
              "  }\n",
              "\n",
              "  .colab-df-quickchart {\n",
              "    background-color: var(--bg-color);\n",
              "    border: none;\n",
              "    border-radius: 50%;\n",
              "    cursor: pointer;\n",
              "    display: none;\n",
              "    fill: var(--fill-color);\n",
              "    height: 32px;\n",
              "    padding: 0;\n",
              "    width: 32px;\n",
              "  }\n",
              "\n",
              "  .colab-df-quickchart:hover {\n",
              "    background-color: var(--hover-bg-color);\n",
              "    box-shadow: 0 1px 2px rgba(60, 64, 67, 0.3), 0 1px 3px 1px rgba(60, 64, 67, 0.15);\n",
              "    fill: var(--button-hover-fill-color);\n",
              "  }\n",
              "\n",
              "  .colab-df-quickchart-complete:disabled,\n",
              "  .colab-df-quickchart-complete:disabled:hover {\n",
              "    background-color: var(--disabled-bg-color);\n",
              "    fill: var(--disabled-fill-color);\n",
              "    box-shadow: none;\n",
              "  }\n",
              "\n",
              "  .colab-df-spinner {\n",
              "    border: 2px solid var(--fill-color);\n",
              "    border-color: transparent;\n",
              "    border-bottom-color: var(--fill-color);\n",
              "    animation:\n",
              "      spin 1s steps(1) infinite;\n",
              "  }\n",
              "\n",
              "  @keyframes spin {\n",
              "    0% {\n",
              "      border-color: transparent;\n",
              "      border-bottom-color: var(--fill-color);\n",
              "      border-left-color: var(--fill-color);\n",
              "    }\n",
              "    20% {\n",
              "      border-color: transparent;\n",
              "      border-left-color: var(--fill-color);\n",
              "      border-top-color: var(--fill-color);\n",
              "    }\n",
              "    30% {\n",
              "      border-color: transparent;\n",
              "      border-left-color: var(--fill-color);\n",
              "      border-top-color: var(--fill-color);\n",
              "      border-right-color: var(--fill-color);\n",
              "    }\n",
              "    40% {\n",
              "      border-color: transparent;\n",
              "      border-right-color: var(--fill-color);\n",
              "      border-top-color: var(--fill-color);\n",
              "    }\n",
              "    60% {\n",
              "      border-color: transparent;\n",
              "      border-right-color: var(--fill-color);\n",
              "    }\n",
              "    80% {\n",
              "      border-color: transparent;\n",
              "      border-right-color: var(--fill-color);\n",
              "      border-bottom-color: var(--fill-color);\n",
              "    }\n",
              "    90% {\n",
              "      border-color: transparent;\n",
              "      border-bottom-color: var(--fill-color);\n",
              "    }\n",
              "  }\n",
              "</style>\n",
              "\n",
              "  <script>\n",
              "    async function quickchart(key) {\n",
              "      const quickchartButtonEl =\n",
              "        document.querySelector('#' + key + ' button');\n",
              "      quickchartButtonEl.disabled = true;  // To prevent multiple clicks.\n",
              "      quickchartButtonEl.classList.add('colab-df-spinner');\n",
              "      try {\n",
              "        const charts = await google.colab.kernel.invokeFunction(\n",
              "            'suggestCharts', [key], {});\n",
              "      } catch (error) {\n",
              "        console.error('Error during call to suggestCharts:', error);\n",
              "      }\n",
              "      quickchartButtonEl.classList.remove('colab-df-spinner');\n",
              "      quickchartButtonEl.classList.add('colab-df-quickchart-complete');\n",
              "    }\n",
              "    (() => {\n",
              "      let quickchartButtonEl =\n",
              "        document.querySelector('#df-cffa1f77-522a-4d33-ac7b-04042ed12222 button');\n",
              "      quickchartButtonEl.style.display =\n",
              "        google.colab.kernel.accessAllowed ? 'block' : 'none';\n",
              "    })();\n",
              "  </script>\n",
              "</div>\n",
              "    </div>\n",
              "  </div>\n"
            ],
            "application/vnd.google.colaboratory.intrinsic+json": {
              "type": "dataframe",
              "summary": "{\n  \"name\": \"df_taggers_nltk\",\n  \"rows\": 6,\n  \"fields\": [\n    {\n      \"column\": 0,\n      \"properties\": {\n        \"dtype\": \"number\",\n        \"std\": 0.3923463523443531,\n        \"min\": 0.1480569978166781,\n        \"max\": 0.92210246954536,\n        \"num_unique_values\": 6,\n        \"samples\": [\n          0.92210246954536,\n          0.9218015877301938,\n          0.1480569978166781\n        ],\n        \"semantic_type\": \"\",\n        \"description\": \"\"\n      }\n    }\n  ]\n}"
            }
          },
          "metadata": {},
          "execution_count": 70
        }
      ]
    },
    {
      "cell_type": "markdown",
      "source": [
        "# Spacy"
      ],
      "metadata": {
        "id": "SIEjQF1eYmV3"
      }
    },
    {
      "cell_type": "markdown",
      "source": [
        "## Preprocessing data"
      ],
      "metadata": {
        "id": "QKhSjewGZAUS"
      }
    },
    {
      "cell_type": "markdown",
      "source": [
        "Create a tag corpus"
      ],
      "metadata": {
        "id": "8ThoSK5ZY8gv"
      }
    },
    {
      "cell_type": "code",
      "source": [
        "spacy_corpus = \" \".join(df['RPN_questions'])\n",
        "spacy_corpus = spacy_corpus[:999999]\n",
        "spacy_corpus[-25:]"
      ],
      "metadata": {
        "colab": {
          "base_uri": "https://localhost:8080/",
          "height": 35
        },
        "id": "u0XWOiBbZWVu",
        "outputId": "35332ded-e126-4909-80b6-39794b5f5b3f"
      },
      "execution_count": null,
      "outputs": [
        {
          "output_type": "execute_result",
          "data": {
            "text/plain": [
              "'я продавец марка брэнд пр'"
            ],
            "application/vnd.google.colaboratory.intrinsic+json": {
              "type": "string"
            }
          },
          "metadata": {},
          "execution_count": 10
        }
      ]
    },
    {
      "cell_type": "code",
      "source": [
        "nlp = spacy.load(\"ru_core_news_sm\")"
      ],
      "metadata": {
        "id": "as6kCsaAaKvE"
      },
      "execution_count": null,
      "outputs": []
    },
    {
      "cell_type": "code",
      "source": [
        "corpus_spacy = []\n",
        "for text in tqdm(df['RPN_questions']):\n",
        "    sent_list = []\n",
        "    doc = nlp(text)\n",
        "    for token in doc:\n",
        "        sent_list.append((token.text, token.pos_))\n",
        "    corpus_spacy.append(sent_list)"
      ],
      "metadata": {
        "colab": {
          "base_uri": "https://localhost:8080/"
        },
        "id": "u23trUuhea89",
        "outputId": "793ab80d-b2b9-437a-b022-35afecb088ae"
      },
      "execution_count": null,
      "outputs": [
        {
          "output_type": "stream",
          "name": "stderr",
          "text": [
            "100%|██████████| 19993/19993 [15:12<00:00, 21.90it/s]\n"
          ]
        }
      ]
    },
    {
      "cell_type": "markdown",
      "source": [
        "Split data"
      ],
      "metadata": {
        "id": "ZN7rwZmMZEjR"
      }
    },
    {
      "cell_type": "code",
      "source": [
        "train_data, test_data = train_test_split(corpus_spacy, test_size=0.1, random_state=42)\n",
        "len(train_data), len(test_data)"
      ],
      "metadata": {
        "colab": {
          "base_uri": "https://localhost:8080/"
        },
        "id": "s0W020ouky_Y",
        "outputId": "098f4b87-56a1-4b0d-cfc2-bc680a795537"
      },
      "execution_count": null,
      "outputs": [
        {
          "output_type": "execute_result",
          "data": {
            "text/plain": [
              "(17993, 2000)"
            ]
          },
          "metadata": {},
          "execution_count": 48
        }
      ]
    },
    {
      "cell_type": "code",
      "source": [
        "train_data, test_sents = train_test_split(train_data, test_size=0.1, random_state=42)\n",
        "len(train_data), len(test_sents)"
      ],
      "metadata": {
        "colab": {
          "base_uri": "https://localhost:8080/"
        },
        "id": "CwQ6j9y7k4u3",
        "outputId": "890080f0-a752-45a7-eeb1-df272e529a60"
      },
      "execution_count": null,
      "outputs": [
        {
          "output_type": "execute_result",
          "data": {
            "text/plain": [
              "(16193, 1800)"
            ]
          },
          "metadata": {},
          "execution_count": 49
        }
      ]
    },
    {
      "cell_type": "code",
      "source": [
        "test_sent = []\n",
        "for sen in test_sents:\n",
        "    for s in sen:\n",
        "        test_sent.append(s[0])"
      ],
      "metadata": {
        "id": "y0wSaOqok-xO"
      },
      "execution_count": null,
      "outputs": []
    },
    {
      "cell_type": "markdown",
      "source": [
        "## Find the best taggers (Spacy)"
      ],
      "metadata": {
        "id": "DN6Ol0ovZO1Y"
      }
    },
    {
      "cell_type": "code",
      "source": [
        "tagger_lists = [UnigramTagger,\n",
        "                BigramTagger,\n",
        "                TrigramTagger,\n",
        "                [BigramTagger, UnigramTagger],\n",
        "                [TrigramTagger, UnigramTagger],\n",
        "                [TrigramTagger, BigramTagger]]"
      ],
      "metadata": {
        "id": "vuME4EcflCG_"
      },
      "execution_count": null,
      "outputs": []
    },
    {
      "cell_type": "code",
      "source": [
        "td = Find_best_tagger(tagger_lists, train_data, test_data, test_sent)"
      ],
      "metadata": {
        "colab": {
          "base_uri": "https://localhost:8080/"
        },
        "id": "X6Y1CMijlFEh",
        "outputId": "f386e74d-0588-4514-b868-fba5821a5ece"
      },
      "execution_count": null,
      "outputs": [
        {
          "output_type": "stream",
          "name": "stderr",
          "text": [
            "<ipython-input-5-39dd93b506a2>:96: DeprecationWarning: \n",
            "  Function evaluate() has been deprecated.  Use accuracy(gold)\n",
            "  instead.\n",
            "  return tagger, tagger.evaluate(y), tagger.tag(test_sent)\n"
          ]
        }
      ]
    },
    {
      "cell_type": "markdown",
      "source": [
        "## Comparison grams"
      ],
      "metadata": {
        "id": "7xM7cdxzZVLC"
      }
    },
    {
      "cell_type": "code",
      "source": [
        "td_1 = {}\n",
        "for k, v in td.items():\n",
        "    if \"context\" in k:\n",
        "        td_1[k] = [v]\n",
        "    else:\n",
        "        td_1[k] = v"
      ],
      "metadata": {
        "id": "JhoFoWy5lc9e"
      },
      "execution_count": null,
      "outputs": []
    },
    {
      "cell_type": "code",
      "source": [
        "df_taggers_spacy = pd.DataFrame(td_1)\n",
        "df_taggers_spacy"
      ],
      "metadata": {
        "colab": {
          "base_uri": "https://localhost:8080/",
          "height": 135
        },
        "id": "0bYybCiGldTD",
        "outputId": "7f178b7c-536b-4683-ef02-48e862b3a9c4"
      },
      "execution_count": null,
      "outputs": [
        {
          "output_type": "execute_result",
          "data": {
            "text/plain": [
              "                 UnigramTagger  acc_UnigramTagger  \\\n",
              "0  <UnigramTagger: size=63857>           0.916143   \n",
              "\n",
              "                               context_UnigramTagger  \\\n",
              "0  [(добрый, ADJ), (день, NOUN), (адрес, NOUN), (...   \n",
              "\n",
              "                  BigramTagger  acc_BigramTagger  \\\n",
              "0  <BigramTagger: size=115300>          0.234114   \n",
              "\n",
              "                                context_BigramTagger  \\\n",
              "0  [(добрый, ADJ), (день, NOUN), (адрес, NOUN), (...   \n",
              "\n",
              "                  TrigramTagger  acc_TrigramTagger  \\\n",
              "0  <TrigramTagger: size=208758>           0.138938   \n",
              "\n",
              "                               context_TrigramTagger  \\\n",
              "0  [(добрый, ADJ), (день, NOUN), (адрес, NOUN), (...   \n",
              "\n",
              "  BigramTagger_UnigramTagger  acc_BigramTagger_UnigramTagger  \\\n",
              "0  <BigramTagger: size=9742>                          0.9192   \n",
              "\n",
              "                  context_BigramTagger_UnigramTagger  \\\n",
              "0  [(добрый, ADJ), (день, NOUN), (адрес, NOUN), (...   \n",
              "\n",
              "   TrigramTagger_UnigramTagger  acc_TrigramTagger_UnigramTagger  \\\n",
              "0  <TrigramTagger: size=15181>                         0.918605   \n",
              "\n",
              "                 context_TrigramTagger_UnigramTagger  \\\n",
              "0  [(добрый, ADJ), (день, NOUN), (адрес, NOUN), (...   \n",
              "\n",
              "    TrigramTagger_BigramTagger  acc_TrigramTagger_BigramTagger  \\\n",
              "0  <TrigramTagger: size=10937>                         0.23413   \n",
              "\n",
              "                  context_TrigramTagger_BigramTagger  \n",
              "0  [(добрый, ADJ), (день, NOUN), (адрес, NOUN), (...  "
            ],
            "text/html": [
              "\n",
              "  <div id=\"df-17575b8f-d2c2-4acf-b4b3-56677e780328\" class=\"colab-df-container\">\n",
              "    <div>\n",
              "<style scoped>\n",
              "    .dataframe tbody tr th:only-of-type {\n",
              "        vertical-align: middle;\n",
              "    }\n",
              "\n",
              "    .dataframe tbody tr th {\n",
              "        vertical-align: top;\n",
              "    }\n",
              "\n",
              "    .dataframe thead th {\n",
              "        text-align: right;\n",
              "    }\n",
              "</style>\n",
              "<table border=\"1\" class=\"dataframe\">\n",
              "  <thead>\n",
              "    <tr style=\"text-align: right;\">\n",
              "      <th></th>\n",
              "      <th>UnigramTagger</th>\n",
              "      <th>acc_UnigramTagger</th>\n",
              "      <th>context_UnigramTagger</th>\n",
              "      <th>BigramTagger</th>\n",
              "      <th>acc_BigramTagger</th>\n",
              "      <th>context_BigramTagger</th>\n",
              "      <th>TrigramTagger</th>\n",
              "      <th>acc_TrigramTagger</th>\n",
              "      <th>context_TrigramTagger</th>\n",
              "      <th>BigramTagger_UnigramTagger</th>\n",
              "      <th>acc_BigramTagger_UnigramTagger</th>\n",
              "      <th>context_BigramTagger_UnigramTagger</th>\n",
              "      <th>TrigramTagger_UnigramTagger</th>\n",
              "      <th>acc_TrigramTagger_UnigramTagger</th>\n",
              "      <th>context_TrigramTagger_UnigramTagger</th>\n",
              "      <th>TrigramTagger_BigramTagger</th>\n",
              "      <th>acc_TrigramTagger_BigramTagger</th>\n",
              "      <th>context_TrigramTagger_BigramTagger</th>\n",
              "    </tr>\n",
              "  </thead>\n",
              "  <tbody>\n",
              "    <tr>\n",
              "      <th>0</th>\n",
              "      <td>&lt;UnigramTagger: size=63857&gt;</td>\n",
              "      <td>0.916143</td>\n",
              "      <td>[(добрый, ADJ), (день, NOUN), (адрес, NOUN), (...</td>\n",
              "      <td>&lt;BigramTagger: size=115300&gt;</td>\n",
              "      <td>0.234114</td>\n",
              "      <td>[(добрый, ADJ), (день, NOUN), (адрес, NOUN), (...</td>\n",
              "      <td>&lt;TrigramTagger: size=208758&gt;</td>\n",
              "      <td>0.138938</td>\n",
              "      <td>[(добрый, ADJ), (день, NOUN), (адрес, NOUN), (...</td>\n",
              "      <td>&lt;BigramTagger: size=9742&gt;</td>\n",
              "      <td>0.9192</td>\n",
              "      <td>[(добрый, ADJ), (день, NOUN), (адрес, NOUN), (...</td>\n",
              "      <td>&lt;TrigramTagger: size=15181&gt;</td>\n",
              "      <td>0.918605</td>\n",
              "      <td>[(добрый, ADJ), (день, NOUN), (адрес, NOUN), (...</td>\n",
              "      <td>&lt;TrigramTagger: size=10937&gt;</td>\n",
              "      <td>0.23413</td>\n",
              "      <td>[(добрый, ADJ), (день, NOUN), (адрес, NOUN), (...</td>\n",
              "    </tr>\n",
              "  </tbody>\n",
              "</table>\n",
              "</div>\n",
              "    <div class=\"colab-df-buttons\">\n",
              "\n",
              "  <div class=\"colab-df-container\">\n",
              "    <button class=\"colab-df-convert\" onclick=\"convertToInteractive('df-17575b8f-d2c2-4acf-b4b3-56677e780328')\"\n",
              "            title=\"Convert this dataframe to an interactive table.\"\n",
              "            style=\"display:none;\">\n",
              "\n",
              "  <svg xmlns=\"http://www.w3.org/2000/svg\" height=\"24px\" viewBox=\"0 -960 960 960\">\n",
              "    <path d=\"M120-120v-720h720v720H120Zm60-500h600v-160H180v160Zm220 220h160v-160H400v160Zm0 220h160v-160H400v160ZM180-400h160v-160H180v160Zm440 0h160v-160H620v160ZM180-180h160v-160H180v160Zm440 0h160v-160H620v160Z\"/>\n",
              "  </svg>\n",
              "    </button>\n",
              "\n",
              "  <style>\n",
              "    .colab-df-container {\n",
              "      display:flex;\n",
              "      gap: 12px;\n",
              "    }\n",
              "\n",
              "    .colab-df-convert {\n",
              "      background-color: #E8F0FE;\n",
              "      border: none;\n",
              "      border-radius: 50%;\n",
              "      cursor: pointer;\n",
              "      display: none;\n",
              "      fill: #1967D2;\n",
              "      height: 32px;\n",
              "      padding: 0 0 0 0;\n",
              "      width: 32px;\n",
              "    }\n",
              "\n",
              "    .colab-df-convert:hover {\n",
              "      background-color: #E2EBFA;\n",
              "      box-shadow: 0px 1px 2px rgba(60, 64, 67, 0.3), 0px 1px 3px 1px rgba(60, 64, 67, 0.15);\n",
              "      fill: #174EA6;\n",
              "    }\n",
              "\n",
              "    .colab-df-buttons div {\n",
              "      margin-bottom: 4px;\n",
              "    }\n",
              "\n",
              "    [theme=dark] .colab-df-convert {\n",
              "      background-color: #3B4455;\n",
              "      fill: #D2E3FC;\n",
              "    }\n",
              "\n",
              "    [theme=dark] .colab-df-convert:hover {\n",
              "      background-color: #434B5C;\n",
              "      box-shadow: 0px 1px 3px 1px rgba(0, 0, 0, 0.15);\n",
              "      filter: drop-shadow(0px 1px 2px rgba(0, 0, 0, 0.3));\n",
              "      fill: #FFFFFF;\n",
              "    }\n",
              "  </style>\n",
              "\n",
              "    <script>\n",
              "      const buttonEl =\n",
              "        document.querySelector('#df-17575b8f-d2c2-4acf-b4b3-56677e780328 button.colab-df-convert');\n",
              "      buttonEl.style.display =\n",
              "        google.colab.kernel.accessAllowed ? 'block' : 'none';\n",
              "\n",
              "      async function convertToInteractive(key) {\n",
              "        const element = document.querySelector('#df-17575b8f-d2c2-4acf-b4b3-56677e780328');\n",
              "        const dataTable =\n",
              "          await google.colab.kernel.invokeFunction('convertToInteractive',\n",
              "                                                    [key], {});\n",
              "        if (!dataTable) return;\n",
              "\n",
              "        const docLinkHtml = 'Like what you see? Visit the ' +\n",
              "          '<a target=\"_blank\" href=https://colab.research.google.com/notebooks/data_table.ipynb>data table notebook</a>'\n",
              "          + ' to learn more about interactive tables.';\n",
              "        element.innerHTML = '';\n",
              "        dataTable['output_type'] = 'display_data';\n",
              "        await google.colab.output.renderOutput(dataTable, element);\n",
              "        const docLink = document.createElement('div');\n",
              "        docLink.innerHTML = docLinkHtml;\n",
              "        element.appendChild(docLink);\n",
              "      }\n",
              "    </script>\n",
              "  </div>\n",
              "\n",
              "    </div>\n",
              "  </div>\n"
            ],
            "application/vnd.google.colaboratory.intrinsic+json": {
              "type": "dataframe",
              "variable_name": "df_taggers_spacy",
              "summary": "{\n  \"name\": \"df_taggers_spacy\",\n  \"rows\": 1,\n  \"fields\": [\n    {\n      \"column\": \"UnigramTagger\",\n      \"properties\": {\n        \"dtype\": \"string\",\n        \"num_unique_values\": 1,\n        \"samples\": [\n          \"<UnigramTagger: size=63857>\"\n        ],\n        \"semantic_type\": \"\",\n        \"description\": \"\"\n      }\n    },\n    {\n      \"column\": \"acc_UnigramTagger\",\n      \"properties\": {\n        \"dtype\": \"number\",\n        \"std\": null,\n        \"min\": 0.9161432448089765,\n        \"max\": 0.9161432448089765,\n        \"num_unique_values\": 1,\n        \"samples\": [\n          0.9161432448089765\n        ],\n        \"semantic_type\": \"\",\n        \"description\": \"\"\n      }\n    },\n    {\n      \"column\": \"context_UnigramTagger\",\n      \"properties\": {\n        \"dtype\": \"object\",\n        \"semantic_type\": \"\",\n        \"description\": \"\"\n      }\n    },\n    {\n      \"column\": \"BigramTagger\",\n      \"properties\": {\n        \"dtype\": \"string\",\n        \"num_unique_values\": 1,\n        \"samples\": [\n          \"<BigramTagger: size=115300>\"\n        ],\n        \"semantic_type\": \"\",\n        \"description\": \"\"\n      }\n    },\n    {\n      \"column\": \"acc_BigramTagger\",\n      \"properties\": {\n        \"dtype\": \"number\",\n        \"std\": null,\n        \"min\": 0.23411440070738176,\n        \"max\": 0.23411440070738176,\n        \"num_unique_values\": 1,\n        \"samples\": [\n          0.23411440070738176\n        ],\n        \"semantic_type\": \"\",\n        \"description\": \"\"\n      }\n    },\n    {\n      \"column\": \"context_BigramTagger\",\n      \"properties\": {\n        \"dtype\": \"object\",\n        \"semantic_type\": \"\",\n        \"description\": \"\"\n      }\n    },\n    {\n      \"column\": \"TrigramTagger\",\n      \"properties\": {\n        \"dtype\": \"string\",\n        \"num_unique_values\": 1,\n        \"samples\": [\n          \"<TrigramTagger: size=208758>\"\n        ],\n        \"semantic_type\": \"\",\n        \"description\": \"\"\n      }\n    },\n    {\n      \"column\": \"acc_TrigramTagger\",\n      \"properties\": {\n        \"dtype\": \"number\",\n        \"std\": null,\n        \"min\": 0.13893801262310576,\n        \"max\": 0.13893801262310576,\n        \"num_unique_values\": 1,\n        \"samples\": [\n          0.13893801262310576\n        ],\n        \"semantic_type\": \"\",\n        \"description\": \"\"\n      }\n    },\n    {\n      \"column\": \"context_TrigramTagger\",\n      \"properties\": {\n        \"dtype\": \"object\",\n        \"semantic_type\": \"\",\n        \"description\": \"\"\n      }\n    },\n    {\n      \"column\": \"BigramTagger_UnigramTagger\",\n      \"properties\": {\n        \"dtype\": \"string\",\n        \"num_unique_values\": 1,\n        \"samples\": [\n          \"<BigramTagger: size=9742>\"\n        ],\n        \"semantic_type\": \"\",\n        \"description\": \"\"\n      }\n    },\n    {\n      \"column\": \"acc_BigramTagger_UnigramTagger\",\n      \"properties\": {\n        \"dtype\": \"number\",\n        \"std\": null,\n        \"min\": 0.9191999268225752,\n        \"max\": 0.9191999268225752,\n        \"num_unique_values\": 1,\n        \"samples\": [\n          0.9191999268225752\n        ],\n        \"semantic_type\": \"\",\n        \"description\": \"\"\n      }\n    },\n    {\n      \"column\": \"context_BigramTagger_UnigramTagger\",\n      \"properties\": {\n        \"dtype\": \"object\",\n        \"semantic_type\": \"\",\n        \"description\": \"\"\n      }\n    },\n    {\n      \"column\": \"TrigramTagger_UnigramTagger\",\n      \"properties\": {\n        \"dtype\": \"string\",\n        \"num_unique_values\": 1,\n        \"samples\": [\n          \"<TrigramTagger: size=15181>\"\n        ],\n        \"semantic_type\": \"\",\n        \"description\": \"\"\n      }\n    },\n    {\n      \"column\": \"acc_TrigramTagger_UnigramTagger\",\n      \"properties\": {\n        \"dtype\": \"number\",\n        \"std\": null,\n        \"min\": 0.918605360246364,\n        \"max\": 0.918605360246364,\n        \"num_unique_values\": 1,\n        \"samples\": [\n          0.918605360246364\n        ],\n        \"semantic_type\": \"\",\n        \"description\": \"\"\n      }\n    },\n    {\n      \"column\": \"context_TrigramTagger_UnigramTagger\",\n      \"properties\": {\n        \"dtype\": \"object\",\n        \"semantic_type\": \"\",\n        \"description\": \"\"\n      }\n    },\n    {\n      \"column\": \"TrigramTagger_BigramTagger\",\n      \"properties\": {\n        \"dtype\": \"string\",\n        \"num_unique_values\": 1,\n        \"samples\": [\n          \"<TrigramTagger: size=10937>\"\n        ],\n        \"semantic_type\": \"\",\n        \"description\": \"\"\n      }\n    },\n    {\n      \"column\": \"acc_TrigramTagger_BigramTagger\",\n      \"properties\": {\n        \"dtype\": \"number\",\n        \"std\": null,\n        \"min\": 0.23412964600420771,\n        \"max\": 0.23412964600420771,\n        \"num_unique_values\": 1,\n        \"samples\": [\n          0.23412964600420771\n        ],\n        \"semantic_type\": \"\",\n        \"description\": \"\"\n      }\n    },\n    {\n      \"column\": \"context_TrigramTagger_BigramTagger\",\n      \"properties\": {\n        \"dtype\": \"object\",\n        \"semantic_type\": \"\",\n        \"description\": \"\"\n      }\n    }\n  ]\n}"
            }
          },
          "metadata": {},
          "execution_count": 54
        }
      ]
    },
    {
      "cell_type": "code",
      "source": [
        "df_taggers_spacy.to_csv(path_to_work_dir + \"Comparison_grams_spacy.csv\", index=None)"
      ],
      "metadata": {
        "id": "aDRNWgACldeW"
      },
      "execution_count": null,
      "outputs": []
    },
    {
      "cell_type": "code",
      "source": [
        "df_taggers_spacy = pd.read_csv(path_to_work_dir + \"Comparison_grams_spacy.csv\")"
      ],
      "metadata": {
        "id": "6chul6A3okTD"
      },
      "execution_count": null,
      "outputs": []
    },
    {
      "cell_type": "code",
      "source": [
        "df_taggers_spacy.filter(regex=\"acc_\").T.sort_values(by=0, ascending=False)"
      ],
      "metadata": {
        "colab": {
          "base_uri": "https://localhost:8080/",
          "height": 237
        },
        "id": "-eG4MiiMoriD",
        "outputId": "35197503-5d1d-45b6-f57d-a5359e1b43a3"
      },
      "execution_count": null,
      "outputs": [
        {
          "output_type": "execute_result",
          "data": {
            "text/plain": [
              "                                        0\n",
              "acc_BigramTagger_UnigramTagger   0.919200\n",
              "acc_TrigramTagger_UnigramTagger  0.918605\n",
              "acc_UnigramTagger                0.916143\n",
              "acc_TrigramTagger_BigramTagger   0.234130\n",
              "acc_BigramTagger                 0.234114\n",
              "acc_TrigramTagger                0.138938"
            ],
            "text/html": [
              "\n",
              "  <div id=\"df-6361da25-bd8f-44fc-a3a6-4ead5bd75ed2\" class=\"colab-df-container\">\n",
              "    <div>\n",
              "<style scoped>\n",
              "    .dataframe tbody tr th:only-of-type {\n",
              "        vertical-align: middle;\n",
              "    }\n",
              "\n",
              "    .dataframe tbody tr th {\n",
              "        vertical-align: top;\n",
              "    }\n",
              "\n",
              "    .dataframe thead th {\n",
              "        text-align: right;\n",
              "    }\n",
              "</style>\n",
              "<table border=\"1\" class=\"dataframe\">\n",
              "  <thead>\n",
              "    <tr style=\"text-align: right;\">\n",
              "      <th></th>\n",
              "      <th>0</th>\n",
              "    </tr>\n",
              "  </thead>\n",
              "  <tbody>\n",
              "    <tr>\n",
              "      <th>acc_BigramTagger_UnigramTagger</th>\n",
              "      <td>0.919200</td>\n",
              "    </tr>\n",
              "    <tr>\n",
              "      <th>acc_TrigramTagger_UnigramTagger</th>\n",
              "      <td>0.918605</td>\n",
              "    </tr>\n",
              "    <tr>\n",
              "      <th>acc_UnigramTagger</th>\n",
              "      <td>0.916143</td>\n",
              "    </tr>\n",
              "    <tr>\n",
              "      <th>acc_TrigramTagger_BigramTagger</th>\n",
              "      <td>0.234130</td>\n",
              "    </tr>\n",
              "    <tr>\n",
              "      <th>acc_BigramTagger</th>\n",
              "      <td>0.234114</td>\n",
              "    </tr>\n",
              "    <tr>\n",
              "      <th>acc_TrigramTagger</th>\n",
              "      <td>0.138938</td>\n",
              "    </tr>\n",
              "  </tbody>\n",
              "</table>\n",
              "</div>\n",
              "    <div class=\"colab-df-buttons\">\n",
              "\n",
              "  <div class=\"colab-df-container\">\n",
              "    <button class=\"colab-df-convert\" onclick=\"convertToInteractive('df-6361da25-bd8f-44fc-a3a6-4ead5bd75ed2')\"\n",
              "            title=\"Convert this dataframe to an interactive table.\"\n",
              "            style=\"display:none;\">\n",
              "\n",
              "  <svg xmlns=\"http://www.w3.org/2000/svg\" height=\"24px\" viewBox=\"0 -960 960 960\">\n",
              "    <path d=\"M120-120v-720h720v720H120Zm60-500h600v-160H180v160Zm220 220h160v-160H400v160Zm0 220h160v-160H400v160ZM180-400h160v-160H180v160Zm440 0h160v-160H620v160ZM180-180h160v-160H180v160Zm440 0h160v-160H620v160Z\"/>\n",
              "  </svg>\n",
              "    </button>\n",
              "\n",
              "  <style>\n",
              "    .colab-df-container {\n",
              "      display:flex;\n",
              "      gap: 12px;\n",
              "    }\n",
              "\n",
              "    .colab-df-convert {\n",
              "      background-color: #E8F0FE;\n",
              "      border: none;\n",
              "      border-radius: 50%;\n",
              "      cursor: pointer;\n",
              "      display: none;\n",
              "      fill: #1967D2;\n",
              "      height: 32px;\n",
              "      padding: 0 0 0 0;\n",
              "      width: 32px;\n",
              "    }\n",
              "\n",
              "    .colab-df-convert:hover {\n",
              "      background-color: #E2EBFA;\n",
              "      box-shadow: 0px 1px 2px rgba(60, 64, 67, 0.3), 0px 1px 3px 1px rgba(60, 64, 67, 0.15);\n",
              "      fill: #174EA6;\n",
              "    }\n",
              "\n",
              "    .colab-df-buttons div {\n",
              "      margin-bottom: 4px;\n",
              "    }\n",
              "\n",
              "    [theme=dark] .colab-df-convert {\n",
              "      background-color: #3B4455;\n",
              "      fill: #D2E3FC;\n",
              "    }\n",
              "\n",
              "    [theme=dark] .colab-df-convert:hover {\n",
              "      background-color: #434B5C;\n",
              "      box-shadow: 0px 1px 3px 1px rgba(0, 0, 0, 0.15);\n",
              "      filter: drop-shadow(0px 1px 2px rgba(0, 0, 0, 0.3));\n",
              "      fill: #FFFFFF;\n",
              "    }\n",
              "  </style>\n",
              "\n",
              "    <script>\n",
              "      const buttonEl =\n",
              "        document.querySelector('#df-6361da25-bd8f-44fc-a3a6-4ead5bd75ed2 button.colab-df-convert');\n",
              "      buttonEl.style.display =\n",
              "        google.colab.kernel.accessAllowed ? 'block' : 'none';\n",
              "\n",
              "      async function convertToInteractive(key) {\n",
              "        const element = document.querySelector('#df-6361da25-bd8f-44fc-a3a6-4ead5bd75ed2');\n",
              "        const dataTable =\n",
              "          await google.colab.kernel.invokeFunction('convertToInteractive',\n",
              "                                                    [key], {});\n",
              "        if (!dataTable) return;\n",
              "\n",
              "        const docLinkHtml = 'Like what you see? Visit the ' +\n",
              "          '<a target=\"_blank\" href=https://colab.research.google.com/notebooks/data_table.ipynb>data table notebook</a>'\n",
              "          + ' to learn more about interactive tables.';\n",
              "        element.innerHTML = '';\n",
              "        dataTable['output_type'] = 'display_data';\n",
              "        await google.colab.output.renderOutput(dataTable, element);\n",
              "        const docLink = document.createElement('div');\n",
              "        docLink.innerHTML = docLinkHtml;\n",
              "        element.appendChild(docLink);\n",
              "      }\n",
              "    </script>\n",
              "  </div>\n",
              "\n",
              "\n",
              "<div id=\"df-9014006a-94ce-434b-bc9d-c7c5e334c48c\">\n",
              "  <button class=\"colab-df-quickchart\" onclick=\"quickchart('df-9014006a-94ce-434b-bc9d-c7c5e334c48c')\"\n",
              "            title=\"Suggest charts\"\n",
              "            style=\"display:none;\">\n",
              "\n",
              "<svg xmlns=\"http://www.w3.org/2000/svg\" height=\"24px\"viewBox=\"0 0 24 24\"\n",
              "     width=\"24px\">\n",
              "    <g>\n",
              "        <path d=\"M19 3H5c-1.1 0-2 .9-2 2v14c0 1.1.9 2 2 2h14c1.1 0 2-.9 2-2V5c0-1.1-.9-2-2-2zM9 17H7v-7h2v7zm4 0h-2V7h2v10zm4 0h-2v-4h2v4z\"/>\n",
              "    </g>\n",
              "</svg>\n",
              "  </button>\n",
              "\n",
              "<style>\n",
              "  .colab-df-quickchart {\n",
              "      --bg-color: #E8F0FE;\n",
              "      --fill-color: #1967D2;\n",
              "      --hover-bg-color: #E2EBFA;\n",
              "      --hover-fill-color: #174EA6;\n",
              "      --disabled-fill-color: #AAA;\n",
              "      --disabled-bg-color: #DDD;\n",
              "  }\n",
              "\n",
              "  [theme=dark] .colab-df-quickchart {\n",
              "      --bg-color: #3B4455;\n",
              "      --fill-color: #D2E3FC;\n",
              "      --hover-bg-color: #434B5C;\n",
              "      --hover-fill-color: #FFFFFF;\n",
              "      --disabled-bg-color: #3B4455;\n",
              "      --disabled-fill-color: #666;\n",
              "  }\n",
              "\n",
              "  .colab-df-quickchart {\n",
              "    background-color: var(--bg-color);\n",
              "    border: none;\n",
              "    border-radius: 50%;\n",
              "    cursor: pointer;\n",
              "    display: none;\n",
              "    fill: var(--fill-color);\n",
              "    height: 32px;\n",
              "    padding: 0;\n",
              "    width: 32px;\n",
              "  }\n",
              "\n",
              "  .colab-df-quickchart:hover {\n",
              "    background-color: var(--hover-bg-color);\n",
              "    box-shadow: 0 1px 2px rgba(60, 64, 67, 0.3), 0 1px 3px 1px rgba(60, 64, 67, 0.15);\n",
              "    fill: var(--button-hover-fill-color);\n",
              "  }\n",
              "\n",
              "  .colab-df-quickchart-complete:disabled,\n",
              "  .colab-df-quickchart-complete:disabled:hover {\n",
              "    background-color: var(--disabled-bg-color);\n",
              "    fill: var(--disabled-fill-color);\n",
              "    box-shadow: none;\n",
              "  }\n",
              "\n",
              "  .colab-df-spinner {\n",
              "    border: 2px solid var(--fill-color);\n",
              "    border-color: transparent;\n",
              "    border-bottom-color: var(--fill-color);\n",
              "    animation:\n",
              "      spin 1s steps(1) infinite;\n",
              "  }\n",
              "\n",
              "  @keyframes spin {\n",
              "    0% {\n",
              "      border-color: transparent;\n",
              "      border-bottom-color: var(--fill-color);\n",
              "      border-left-color: var(--fill-color);\n",
              "    }\n",
              "    20% {\n",
              "      border-color: transparent;\n",
              "      border-left-color: var(--fill-color);\n",
              "      border-top-color: var(--fill-color);\n",
              "    }\n",
              "    30% {\n",
              "      border-color: transparent;\n",
              "      border-left-color: var(--fill-color);\n",
              "      border-top-color: var(--fill-color);\n",
              "      border-right-color: var(--fill-color);\n",
              "    }\n",
              "    40% {\n",
              "      border-color: transparent;\n",
              "      border-right-color: var(--fill-color);\n",
              "      border-top-color: var(--fill-color);\n",
              "    }\n",
              "    60% {\n",
              "      border-color: transparent;\n",
              "      border-right-color: var(--fill-color);\n",
              "    }\n",
              "    80% {\n",
              "      border-color: transparent;\n",
              "      border-right-color: var(--fill-color);\n",
              "      border-bottom-color: var(--fill-color);\n",
              "    }\n",
              "    90% {\n",
              "      border-color: transparent;\n",
              "      border-bottom-color: var(--fill-color);\n",
              "    }\n",
              "  }\n",
              "</style>\n",
              "\n",
              "  <script>\n",
              "    async function quickchart(key) {\n",
              "      const quickchartButtonEl =\n",
              "        document.querySelector('#' + key + ' button');\n",
              "      quickchartButtonEl.disabled = true;  // To prevent multiple clicks.\n",
              "      quickchartButtonEl.classList.add('colab-df-spinner');\n",
              "      try {\n",
              "        const charts = await google.colab.kernel.invokeFunction(\n",
              "            'suggestCharts', [key], {});\n",
              "      } catch (error) {\n",
              "        console.error('Error during call to suggestCharts:', error);\n",
              "      }\n",
              "      quickchartButtonEl.classList.remove('colab-df-spinner');\n",
              "      quickchartButtonEl.classList.add('colab-df-quickchart-complete');\n",
              "    }\n",
              "    (() => {\n",
              "      let quickchartButtonEl =\n",
              "        document.querySelector('#df-9014006a-94ce-434b-bc9d-c7c5e334c48c button');\n",
              "      quickchartButtonEl.style.display =\n",
              "        google.colab.kernel.accessAllowed ? 'block' : 'none';\n",
              "    })();\n",
              "  </script>\n",
              "</div>\n",
              "    </div>\n",
              "  </div>\n"
            ],
            "application/vnd.google.colaboratory.intrinsic+json": {
              "type": "dataframe",
              "summary": "{\n  \"name\": \"df_taggers_spacy\",\n  \"rows\": 6,\n  \"fields\": [\n    {\n      \"column\": 0,\n      \"properties\": {\n        \"dtype\": \"number\",\n        \"std\": 0.39348349349467027,\n        \"min\": 0.1389380126231057,\n        \"max\": 0.9191999268225752,\n        \"num_unique_values\": 6,\n        \"samples\": [\n          0.9191999268225752,\n          0.918605360246364,\n          0.1389380126231057\n        ],\n        \"semantic_type\": \"\",\n        \"description\": \"\"\n      }\n    }\n  ]\n}"
            }
          },
          "metadata": {},
          "execution_count": 57
        }
      ]
    },
    {
      "cell_type": "markdown",
      "source": [
        "# NN"
      ],
      "metadata": {
        "id": "7k-VaTRmT9Lr"
      }
    },
    {
      "cell_type": "markdown",
      "source": [
        "## Load data"
      ],
      "metadata": {
        "id": "HHSFCcXntslS"
      }
    },
    {
      "cell_type": "code",
      "source": [
        "device = 'cuda' if torch.cuda.is_available() else 'cpu'\n",
        "device"
      ],
      "metadata": {
        "colab": {
          "base_uri": "https://localhost:8080/",
          "height": 35
        },
        "id": "W-tEUUSwK5tb",
        "outputId": "532203db-fb66-4979-8b11-04ebc16bb2de"
      },
      "execution_count": null,
      "outputs": [
        {
          "output_type": "execute_result",
          "data": {
            "text/plain": [
              "'cpu'"
            ],
            "application/vnd.google.colaboratory.intrinsic+json": {
              "type": "string"
            }
          },
          "metadata": {},
          "execution_count": 10
        }
      ]
    },
    {
      "cell_type": "code",
      "source": [
        "# df_words.to_csv(path_to_work_dir + \"nltk_word_tag_corpus.csv\", index=None)"
      ],
      "metadata": {
        "id": "7G0uFwc2oF1k"
      },
      "execution_count": null,
      "outputs": []
    },
    {
      "cell_type": "code",
      "source": [
        "df_words = pd.read_csv(path_to_work_dir + \"nltk_word_tag_corpus.csv\")\n",
        "df_words.head(8)"
      ],
      "metadata": {
        "colab": {
          "base_uri": "https://localhost:8080/",
          "height": 300
        },
        "id": "BvDorOFbmMGf",
        "outputId": "c5f6b4e1-6709-492c-d936-edaec75b79c6"
      },
      "execution_count": null,
      "outputs": [
        {
          "output_type": "execute_result",
          "data": {
            "text/plain": [
              "           word  tag  word_seq  target_tag\n",
              "0  здравствуйте    V     26679          60\n",
              "1      заказать    V     25172          60\n",
              "2          сайт    S     60037          51\n",
              "3        техмый  A=m     67331          11\n",
              "4       швейный  A=m     74250          11\n",
              "5  оборудование    S     42190          51\n",
              "6     выставить    V     17382          60\n",
              "7          счёт    S     66144          51"
            ],
            "text/html": [
              "\n",
              "  <div id=\"df-d5c01ffa-8b88-4cad-bf02-39b4e5b5f84e\" class=\"colab-df-container\">\n",
              "    <div>\n",
              "<style scoped>\n",
              "    .dataframe tbody tr th:only-of-type {\n",
              "        vertical-align: middle;\n",
              "    }\n",
              "\n",
              "    .dataframe tbody tr th {\n",
              "        vertical-align: top;\n",
              "    }\n",
              "\n",
              "    .dataframe thead th {\n",
              "        text-align: right;\n",
              "    }\n",
              "</style>\n",
              "<table border=\"1\" class=\"dataframe\">\n",
              "  <thead>\n",
              "    <tr style=\"text-align: right;\">\n",
              "      <th></th>\n",
              "      <th>word</th>\n",
              "      <th>tag</th>\n",
              "      <th>word_seq</th>\n",
              "      <th>target_tag</th>\n",
              "    </tr>\n",
              "  </thead>\n",
              "  <tbody>\n",
              "    <tr>\n",
              "      <th>0</th>\n",
              "      <td>здравствуйте</td>\n",
              "      <td>V</td>\n",
              "      <td>26679</td>\n",
              "      <td>60</td>\n",
              "    </tr>\n",
              "    <tr>\n",
              "      <th>1</th>\n",
              "      <td>заказать</td>\n",
              "      <td>V</td>\n",
              "      <td>25172</td>\n",
              "      <td>60</td>\n",
              "    </tr>\n",
              "    <tr>\n",
              "      <th>2</th>\n",
              "      <td>сайт</td>\n",
              "      <td>S</td>\n",
              "      <td>60037</td>\n",
              "      <td>51</td>\n",
              "    </tr>\n",
              "    <tr>\n",
              "      <th>3</th>\n",
              "      <td>техмый</td>\n",
              "      <td>A=m</td>\n",
              "      <td>67331</td>\n",
              "      <td>11</td>\n",
              "    </tr>\n",
              "    <tr>\n",
              "      <th>4</th>\n",
              "      <td>швейный</td>\n",
              "      <td>A=m</td>\n",
              "      <td>74250</td>\n",
              "      <td>11</td>\n",
              "    </tr>\n",
              "    <tr>\n",
              "      <th>5</th>\n",
              "      <td>оборудование</td>\n",
              "      <td>S</td>\n",
              "      <td>42190</td>\n",
              "      <td>51</td>\n",
              "    </tr>\n",
              "    <tr>\n",
              "      <th>6</th>\n",
              "      <td>выставить</td>\n",
              "      <td>V</td>\n",
              "      <td>17382</td>\n",
              "      <td>60</td>\n",
              "    </tr>\n",
              "    <tr>\n",
              "      <th>7</th>\n",
              "      <td>счёт</td>\n",
              "      <td>S</td>\n",
              "      <td>66144</td>\n",
              "      <td>51</td>\n",
              "    </tr>\n",
              "  </tbody>\n",
              "</table>\n",
              "</div>\n",
              "    <div class=\"colab-df-buttons\">\n",
              "\n",
              "  <div class=\"colab-df-container\">\n",
              "    <button class=\"colab-df-convert\" onclick=\"convertToInteractive('df-d5c01ffa-8b88-4cad-bf02-39b4e5b5f84e')\"\n",
              "            title=\"Convert this dataframe to an interactive table.\"\n",
              "            style=\"display:none;\">\n",
              "\n",
              "  <svg xmlns=\"http://www.w3.org/2000/svg\" height=\"24px\" viewBox=\"0 -960 960 960\">\n",
              "    <path d=\"M120-120v-720h720v720H120Zm60-500h600v-160H180v160Zm220 220h160v-160H400v160Zm0 220h160v-160H400v160ZM180-400h160v-160H180v160Zm440 0h160v-160H620v160ZM180-180h160v-160H180v160Zm440 0h160v-160H620v160Z\"/>\n",
              "  </svg>\n",
              "    </button>\n",
              "\n",
              "  <style>\n",
              "    .colab-df-container {\n",
              "      display:flex;\n",
              "      gap: 12px;\n",
              "    }\n",
              "\n",
              "    .colab-df-convert {\n",
              "      background-color: #E8F0FE;\n",
              "      border: none;\n",
              "      border-radius: 50%;\n",
              "      cursor: pointer;\n",
              "      display: none;\n",
              "      fill: #1967D2;\n",
              "      height: 32px;\n",
              "      padding: 0 0 0 0;\n",
              "      width: 32px;\n",
              "    }\n",
              "\n",
              "    .colab-df-convert:hover {\n",
              "      background-color: #E2EBFA;\n",
              "      box-shadow: 0px 1px 2px rgba(60, 64, 67, 0.3), 0px 1px 3px 1px rgba(60, 64, 67, 0.15);\n",
              "      fill: #174EA6;\n",
              "    }\n",
              "\n",
              "    .colab-df-buttons div {\n",
              "      margin-bottom: 4px;\n",
              "    }\n",
              "\n",
              "    [theme=dark] .colab-df-convert {\n",
              "      background-color: #3B4455;\n",
              "      fill: #D2E3FC;\n",
              "    }\n",
              "\n",
              "    [theme=dark] .colab-df-convert:hover {\n",
              "      background-color: #434B5C;\n",
              "      box-shadow: 0px 1px 3px 1px rgba(0, 0, 0, 0.15);\n",
              "      filter: drop-shadow(0px 1px 2px rgba(0, 0, 0, 0.3));\n",
              "      fill: #FFFFFF;\n",
              "    }\n",
              "  </style>\n",
              "\n",
              "    <script>\n",
              "      const buttonEl =\n",
              "        document.querySelector('#df-d5c01ffa-8b88-4cad-bf02-39b4e5b5f84e button.colab-df-convert');\n",
              "      buttonEl.style.display =\n",
              "        google.colab.kernel.accessAllowed ? 'block' : 'none';\n",
              "\n",
              "      async function convertToInteractive(key) {\n",
              "        const element = document.querySelector('#df-d5c01ffa-8b88-4cad-bf02-39b4e5b5f84e');\n",
              "        const dataTable =\n",
              "          await google.colab.kernel.invokeFunction('convertToInteractive',\n",
              "                                                    [key], {});\n",
              "        if (!dataTable) return;\n",
              "\n",
              "        const docLinkHtml = 'Like what you see? Visit the ' +\n",
              "          '<a target=\"_blank\" href=https://colab.research.google.com/notebooks/data_table.ipynb>data table notebook</a>'\n",
              "          + ' to learn more about interactive tables.';\n",
              "        element.innerHTML = '';\n",
              "        dataTable['output_type'] = 'display_data';\n",
              "        await google.colab.output.renderOutput(dataTable, element);\n",
              "        const docLink = document.createElement('div');\n",
              "        docLink.innerHTML = docLinkHtml;\n",
              "        element.appendChild(docLink);\n",
              "      }\n",
              "    </script>\n",
              "  </div>\n",
              "\n",
              "\n",
              "<div id=\"df-618bf264-32b5-4e37-be33-8c951deb840c\">\n",
              "  <button class=\"colab-df-quickchart\" onclick=\"quickchart('df-618bf264-32b5-4e37-be33-8c951deb840c')\"\n",
              "            title=\"Suggest charts\"\n",
              "            style=\"display:none;\">\n",
              "\n",
              "<svg xmlns=\"http://www.w3.org/2000/svg\" height=\"24px\"viewBox=\"0 0 24 24\"\n",
              "     width=\"24px\">\n",
              "    <g>\n",
              "        <path d=\"M19 3H5c-1.1 0-2 .9-2 2v14c0 1.1.9 2 2 2h14c1.1 0 2-.9 2-2V5c0-1.1-.9-2-2-2zM9 17H7v-7h2v7zm4 0h-2V7h2v10zm4 0h-2v-4h2v4z\"/>\n",
              "    </g>\n",
              "</svg>\n",
              "  </button>\n",
              "\n",
              "<style>\n",
              "  .colab-df-quickchart {\n",
              "      --bg-color: #E8F0FE;\n",
              "      --fill-color: #1967D2;\n",
              "      --hover-bg-color: #E2EBFA;\n",
              "      --hover-fill-color: #174EA6;\n",
              "      --disabled-fill-color: #AAA;\n",
              "      --disabled-bg-color: #DDD;\n",
              "  }\n",
              "\n",
              "  [theme=dark] .colab-df-quickchart {\n",
              "      --bg-color: #3B4455;\n",
              "      --fill-color: #D2E3FC;\n",
              "      --hover-bg-color: #434B5C;\n",
              "      --hover-fill-color: #FFFFFF;\n",
              "      --disabled-bg-color: #3B4455;\n",
              "      --disabled-fill-color: #666;\n",
              "  }\n",
              "\n",
              "  .colab-df-quickchart {\n",
              "    background-color: var(--bg-color);\n",
              "    border: none;\n",
              "    border-radius: 50%;\n",
              "    cursor: pointer;\n",
              "    display: none;\n",
              "    fill: var(--fill-color);\n",
              "    height: 32px;\n",
              "    padding: 0;\n",
              "    width: 32px;\n",
              "  }\n",
              "\n",
              "  .colab-df-quickchart:hover {\n",
              "    background-color: var(--hover-bg-color);\n",
              "    box-shadow: 0 1px 2px rgba(60, 64, 67, 0.3), 0 1px 3px 1px rgba(60, 64, 67, 0.15);\n",
              "    fill: var(--button-hover-fill-color);\n",
              "  }\n",
              "\n",
              "  .colab-df-quickchart-complete:disabled,\n",
              "  .colab-df-quickchart-complete:disabled:hover {\n",
              "    background-color: var(--disabled-bg-color);\n",
              "    fill: var(--disabled-fill-color);\n",
              "    box-shadow: none;\n",
              "  }\n",
              "\n",
              "  .colab-df-spinner {\n",
              "    border: 2px solid var(--fill-color);\n",
              "    border-color: transparent;\n",
              "    border-bottom-color: var(--fill-color);\n",
              "    animation:\n",
              "      spin 1s steps(1) infinite;\n",
              "  }\n",
              "\n",
              "  @keyframes spin {\n",
              "    0% {\n",
              "      border-color: transparent;\n",
              "      border-bottom-color: var(--fill-color);\n",
              "      border-left-color: var(--fill-color);\n",
              "    }\n",
              "    20% {\n",
              "      border-color: transparent;\n",
              "      border-left-color: var(--fill-color);\n",
              "      border-top-color: var(--fill-color);\n",
              "    }\n",
              "    30% {\n",
              "      border-color: transparent;\n",
              "      border-left-color: var(--fill-color);\n",
              "      border-top-color: var(--fill-color);\n",
              "      border-right-color: var(--fill-color);\n",
              "    }\n",
              "    40% {\n",
              "      border-color: transparent;\n",
              "      border-right-color: var(--fill-color);\n",
              "      border-top-color: var(--fill-color);\n",
              "    }\n",
              "    60% {\n",
              "      border-color: transparent;\n",
              "      border-right-color: var(--fill-color);\n",
              "    }\n",
              "    80% {\n",
              "      border-color: transparent;\n",
              "      border-right-color: var(--fill-color);\n",
              "      border-bottom-color: var(--fill-color);\n",
              "    }\n",
              "    90% {\n",
              "      border-color: transparent;\n",
              "      border-bottom-color: var(--fill-color);\n",
              "    }\n",
              "  }\n",
              "</style>\n",
              "\n",
              "  <script>\n",
              "    async function quickchart(key) {\n",
              "      const quickchartButtonEl =\n",
              "        document.querySelector('#' + key + ' button');\n",
              "      quickchartButtonEl.disabled = true;  // To prevent multiple clicks.\n",
              "      quickchartButtonEl.classList.add('colab-df-spinner');\n",
              "      try {\n",
              "        const charts = await google.colab.kernel.invokeFunction(\n",
              "            'suggestCharts', [key], {});\n",
              "      } catch (error) {\n",
              "        console.error('Error during call to suggestCharts:', error);\n",
              "      }\n",
              "      quickchartButtonEl.classList.remove('colab-df-spinner');\n",
              "      quickchartButtonEl.classList.add('colab-df-quickchart-complete');\n",
              "    }\n",
              "    (() => {\n",
              "      let quickchartButtonEl =\n",
              "        document.querySelector('#df-618bf264-32b5-4e37-be33-8c951deb840c button');\n",
              "      quickchartButtonEl.style.display =\n",
              "        google.colab.kernel.accessAllowed ? 'block' : 'none';\n",
              "    })();\n",
              "  </script>\n",
              "</div>\n",
              "    </div>\n",
              "  </div>\n"
            ],
            "application/vnd.google.colaboratory.intrinsic+json": {
              "type": "dataframe",
              "variable_name": "df_words"
            }
          },
          "metadata": {},
          "execution_count": 21
        }
      ]
    },
    {
      "cell_type": "markdown",
      "source": [
        "## Preprocessing data"
      ],
      "metadata": {
        "id": "VmDOsJhmdsE-"
      }
    },
    {
      "cell_type": "code",
      "source": [
        "df_words['tag'].value_counts()"
      ],
      "metadata": {
        "colab": {
          "base_uri": "https://localhost:8080/"
        },
        "id": "4qXqA3XGaRAs",
        "outputId": "4103beec-a835-4930-deb9-8a4a67beec06"
      },
      "execution_count": null,
      "outputs": [
        {
          "output_type": "execute_result",
          "data": {
            "text/plain": [
              "tag\n",
              "S               703313\n",
              "V               322116\n",
              "A=m             123426\n",
              "A-PRO=m          43517\n",
              "ADV              39185\n",
              "                 ...  \n",
              "S-PRO=gen            1\n",
              "ADV-PRO=anom         1\n",
              "S-PRO=n              1\n",
              "PRAEDIC=comp         1\n",
              "NUM=ciph             1\n",
              "Name: count, Length: 61, dtype: int64"
            ]
          },
          "metadata": {},
          "execution_count": 13
        }
      ]
    },
    {
      "cell_type": "code",
      "source": [
        "encod = LabelEncoder()"
      ],
      "metadata": {
        "id": "UoKfe43rd49X"
      },
      "execution_count": null,
      "outputs": []
    },
    {
      "cell_type": "code",
      "source": [
        "df_words['word_seq'] = encod.fit_transform(df_words['word'])"
      ],
      "metadata": {
        "id": "QYKYZTf1bq-d"
      },
      "execution_count": null,
      "outputs": []
    },
    {
      "cell_type": "code",
      "source": [
        "df_words['word_seq'].head(10)"
      ],
      "metadata": {
        "colab": {
          "base_uri": "https://localhost:8080/"
        },
        "id": "1UTPrCm9hlNc",
        "outputId": "7bf90bc6-7a30-41b7-c03d-c24a3a01c9e6"
      },
      "execution_count": null,
      "outputs": [
        {
          "output_type": "execute_result",
          "data": {
            "text/plain": [
              "0    26679\n",
              "1    25172\n",
              "2    60037\n",
              "3    67331\n",
              "4    74250\n",
              "5    42190\n",
              "6    17382\n",
              "7    66144\n",
              "8    14452\n",
              "9    32600\n",
              "Name: word_seq, dtype: int64"
            ]
          },
          "metadata": {},
          "execution_count": 17
        }
      ]
    },
    {
      "cell_type": "code",
      "source": [
        "df_words['target_tag'] = encod.fit_transform(df_words['tag'])\n",
        "df_words['target_tag'].head(10)"
      ],
      "metadata": {
        "colab": {
          "base_uri": "https://localhost:8080/"
        },
        "id": "ZsXc5tF-cbRg",
        "outputId": "2f465a97-fdda-4bad-fd07-527a01a090ae"
      },
      "execution_count": null,
      "outputs": [
        {
          "output_type": "execute_result",
          "data": {
            "text/plain": [
              "0    60\n",
              "1    60\n",
              "2    51\n",
              "3    11\n",
              "4    11\n",
              "5    51\n",
              "6    60\n",
              "7    51\n",
              "8    60\n",
              "9    51\n",
              "Name: target_tag, dtype: int64"
            ]
          },
          "metadata": {},
          "execution_count": 18
        }
      ]
    },
    {
      "cell_type": "markdown",
      "source": [
        "## Split data"
      ],
      "metadata": {
        "id": "d70VT9G9pVwM"
      }
    },
    {
      "cell_type": "code",
      "source": [
        "x_train, x_test, y_train, y_test = train_test_split(df_words['word_seq'],\n",
        "                                                      df_words['target_tag'],\n",
        "                                                      test_size=0.2,\n",
        "                                                      random_state=42)"
      ],
      "metadata": {
        "id": "3D7oUtFuuC7F"
      },
      "execution_count": null,
      "outputs": []
    },
    {
      "cell_type": "code",
      "source": [
        "x_train, x_valid, y_train, y_valid = train_test_split(x_train,\n",
        "                                                      y_train,\n",
        "                                                      test_size=0.3,\n",
        "                                                      random_state=42)"
      ],
      "metadata": {
        "id": "GjFUTqvqrLE3"
      },
      "execution_count": null,
      "outputs": []
    },
    {
      "cell_type": "code",
      "source": [
        "x_train.shape, x_valid.shape, x_test.shape"
      ],
      "metadata": {
        "colab": {
          "base_uri": "https://localhost:8080/"
        },
        "id": "iz6w0PXivA_Y",
        "outputId": "c890fe67-d039-4384-9048-912f85f2b2ca"
      },
      "execution_count": null,
      "outputs": [
        {
          "output_type": "execute_result",
          "data": {
            "text/plain": [
              "((740580,), (317392,), (264494,))"
            ]
          },
          "metadata": {},
          "execution_count": 123
        }
      ]
    },
    {
      "cell_type": "code",
      "source": [
        "y_train.shape, y_valid.shape, y_test.shape"
      ],
      "metadata": {
        "colab": {
          "base_uri": "https://localhost:8080/"
        },
        "id": "XGF4Wf2NUbCK",
        "outputId": "c9458b62-c3eb-4f8a-8ddb-1eb3a6e5c9b4"
      },
      "execution_count": null,
      "outputs": [
        {
          "output_type": "execute_result",
          "data": {
            "text/plain": [
              "((740580,), (317392,), (264494,))"
            ]
          },
          "metadata": {},
          "execution_count": 124
        }
      ]
    },
    {
      "cell_type": "markdown",
      "source": [
        "## Create DataLoader"
      ],
      "metadata": {
        "id": "Qcui75ixTOhV"
      }
    },
    {
      "cell_type": "code",
      "source": [
        "x_train = np.asarray(x_train)\n",
        "x_valid = np.asarray(x_valid)\n",
        "y_train = np.asarray(y_train)\n",
        "y_valid = np.asarray(y_valid)"
      ],
      "metadata": {
        "id": "8FjdIhB2WSmx"
      },
      "execution_count": null,
      "outputs": []
    },
    {
      "cell_type": "code",
      "source": [
        "batch_size_train = 1024\n",
        "train_dataset = MyText(x_train, y_train)\n",
        "train_loader = DataLoader(train_dataset, batch_size=batch_size_train, shuffle=True)\n",
        "\n",
        "batch_size_val = 256\n",
        "valid_dataset = MyText(x_valid, y_valid)\n",
        "valid_loader = DataLoader(valid_dataset, batch_size=batch_size_val, shuffle=True)"
      ],
      "metadata": {
        "id": "1wC5-7jrTQWC"
      },
      "execution_count": null,
      "outputs": []
    },
    {
      "cell_type": "markdown",
      "source": [
        "## Model params"
      ],
      "metadata": {
        "id": "QNRz4mxTLRk5"
      }
    },
    {
      "cell_type": "code",
      "source": [
        "size_vocab_input = len(df_words['word_seq'].unique())\n",
        "size_vocab_out = len(df_words['target_tag'].unique())\n",
        "size_vocab_input, size_vocab_out"
      ],
      "metadata": {
        "colab": {
          "base_uri": "https://localhost:8080/"
        },
        "id": "yRSI9si0vYia",
        "outputId": "450afb07-5ff2-4d44-b611-6e7050a21d86"
      },
      "execution_count": null,
      "outputs": [
        {
          "output_type": "execute_result",
          "data": {
            "text/plain": [
              "(76595, 61)"
            ]
          },
          "metadata": {},
          "execution_count": 24
        }
      ]
    },
    {
      "cell_type": "code",
      "source": [
        "model = Model_Text(size_vocab_input, 2048, size_vocab_out, 2).to(device)"
      ],
      "metadata": {
        "id": "l9_7S5Q8VZxF"
      },
      "execution_count": null,
      "outputs": []
    },
    {
      "cell_type": "markdown",
      "source": [
        "## Review model"
      ],
      "metadata": {
        "id": "-eKQd_8fLUjB"
      }
    },
    {
      "cell_type": "code",
      "source": [
        "print(model)\n",
        "print(\"Parameters:\", sum([param.nelement() for param in model.parameters()]))"
      ],
      "metadata": {
        "id": "cuZ3ew1WZTUe",
        "colab": {
          "base_uri": "https://localhost:8080/"
        },
        "outputId": "1190f667-1b46-4e0f-e73a-a98735296655"
      },
      "execution_count": null,
      "outputs": [
        {
          "output_type": "stream",
          "name": "stdout",
          "text": [
            "Model_Text(\n",
            "  (embedding): Embedding(76595, 2048)\n",
            "  (mpool1): MaxPool1d(kernel_size=2, stride=2, padding=0, dilation=1, ceil_mode=False)\n",
            "  (fc1): Linear(in_features=1024, out_features=512, bias=True)\n",
            "  (fc2): Linear(in_features=512, out_features=256, bias=True)\n",
            "  (fc3): Linear(in_features=256, out_features=128, bias=True)\n",
            "  (fc4): Linear(in_features=128, out_features=61, bias=True)\n",
            ")\n",
            "Parameters: 157563453\n"
          ]
        }
      ]
    },
    {
      "cell_type": "markdown",
      "source": [
        "## Optimizer and Loss"
      ],
      "metadata": {
        "id": "ab9ioGAeLYJj"
      }
    },
    {
      "cell_type": "code",
      "source": [
        "optimizer = torch.optim.Adam(model.parameters(), lr=0.001)\n",
        "criterion = nn.CrossEntropyLoss()"
      ],
      "metadata": {
        "id": "jUP5TsC3irW_"
      },
      "execution_count": null,
      "outputs": []
    },
    {
      "cell_type": "markdown",
      "source": [
        "## Learning model"
      ],
      "metadata": {
        "id": "r3Dnz7cGLdHK"
      }
    },
    {
      "cell_type": "code",
      "source": [
        "acc, loss = Model_fit(model, train_loader, valid_loader, 20, optimizer, criterion, 150, device)"
      ],
      "metadata": {
        "colab": {
          "base_uri": "https://localhost:8080/",
          "height": 521
        },
        "id": "oE_L0NRBL_16",
        "outputId": "0056acc4-ed67-4e51-e570-82e2c4c5f01b"
      },
      "execution_count": null,
      "outputs": [
        {
          "output_type": "stream",
          "name": "stderr",
          "text": [
            "<ipython-input-23-6ee9ce594261>:22: UserWarning: Implicit dimension choice for softmax has been deprecated. Change the call to include dim=X as an argument.\n",
            "  outputs = F.softmax(out)\n"
          ]
        },
        {
          "output_type": "stream",
          "name": "stdout",
          "text": [
            "Epoch [20/20]. Loss: 0.004. Acc: 0.530. Test acc: 0.532\n",
            "Training is finished! It took 1310.28 seconds\n"
          ]
        },
        {
          "output_type": "display_data",
          "data": {
            "text/plain": [
              "<Figure size 640x480 with 1 Axes>"
            ],
            "image/png": "[encoded data removed]"
          },
          "metadata": {}
        }
      ]
    },
    {
      "cell_type": "code",
      "source": [
        "plt.plot(loss[1:])"
      ],
      "metadata": {
        "colab": {
          "base_uri": "https://localhost:8080/",
          "height": 448
        },
        "id": "EwzekHRQk0TM",
        "outputId": "d802970a-e5ce-4113-825f-966dd37a98de"
      },
      "execution_count": null,
      "outputs": [
        {
          "output_type": "execute_result",
          "data": {
            "text/plain": [
              "[<matplotlib.lines.Line2D at 0x7e4d2ef54730>]"
            ]
          },
          "metadata": {},
          "execution_count": 52
        },
        {
          "output_type": "display_data",
          "data": {
            "text/plain": [
              "<Figure size 640x480 with 1 Axes>"
            ],
            "image/png": "[encoded data removed]"
          },
          "metadata": {}
        }
      ]
    },
    {
      "cell_type": "markdown",
      "source": [
        "## Save model"
      ],
      "metadata": {
        "id": "aTMQkME-m9hm"
      }
    },
    {
      "cell_type": "code",
      "source": [
        "PATH_DIR = path_to_work_dir + 'My_model/'\n",
        "PATH_MODEL = PATH_DIR + 'my_model_NER.pth'"
      ],
      "metadata": {
        "id": "vYNRDo3plYMv"
      },
      "execution_count": null,
      "outputs": []
    },
    {
      "cell_type": "code",
      "source": [
        "# if os.path.exists(PATH_DIR):\n",
        "#     shutil.rmtree(PATH_DIR)\n",
        "# os.makedirs(PATH_DIR)"
      ],
      "metadata": {
        "id": "oUUcdl5qlmQj"
      },
      "execution_count": null,
      "outputs": []
    },
    {
      "cell_type": "code",
      "source": [
        "# torch.save(model, PATH_MODEL)"
      ],
      "metadata": {
        "id": "WTVcb4XJlpMa"
      },
      "execution_count": null,
      "outputs": []
    },
    {
      "cell_type": "code",
      "source": [
        "my_model = torch.load(PATH_MODEL, map_location=torch.device('cpu'))"
      ],
      "metadata": {
        "id": "97JHR63Jlrks"
      },
      "execution_count": null,
      "outputs": []
    },
    {
      "cell_type": "code",
      "source": [
        "my_model"
      ],
      "metadata": {
        "colab": {
          "base_uri": "https://localhost:8080/"
        },
        "id": "i4aFz8hdl32l",
        "outputId": "82defbbc-5de1-4d2a-e962-773deb338f25"
      },
      "execution_count": null,
      "outputs": [
        {
          "output_type": "execute_result",
          "data": {
            "text/plain": [
              "Model_Text(\n",
              "  (embedding): Embedding(76595, 2048)\n",
              "  (mpool1): MaxPool1d(kernel_size=2, stride=2, padding=0, dilation=1, ceil_mode=False)\n",
              "  (fc1): Linear(in_features=1024, out_features=512, bias=True)\n",
              "  (fc2): Linear(in_features=512, out_features=256, bias=True)\n",
              "  (fc3): Linear(in_features=256, out_features=128, bias=True)\n",
              "  (fc4): Linear(in_features=128, out_features=61, bias=True)\n",
              ")"
            ]
          },
          "metadata": {},
          "execution_count": 120
        }
      ]
    },
    {
      "cell_type": "code",
      "source": [
        "test_data = torch.from_numpy(np.asanyarray(x_test)).long()\n",
        "test_data = test_data.to(device)"
      ],
      "metadata": {
        "id": "rg0LHp-4o6vd"
      },
      "execution_count": null,
      "outputs": []
    },
    {
      "cell_type": "code",
      "source": [
        "my_model = my_model.to(device)"
      ],
      "metadata": {
        "id": "4xxCld4IpcLN"
      },
      "execution_count": null,
      "outputs": []
    },
    {
      "cell_type": "code",
      "source": [
        "res = my_model.forward(test_data)"
      ],
      "metadata": {
        "colab": {
          "base_uri": "https://localhost:8080/"
        },
        "id": "fPFjG5xYoEE8",
        "outputId": "01d12c88-3994-4b0f-cb61-13bf43b665fe"
      },
      "execution_count": null,
      "outputs": [
        {
          "output_type": "stream",
          "name": "stderr",
          "text": [
            "<ipython-input-117-6ee9ce594261>:22: UserWarning: Implicit dimension choice for softmax has been deprecated. Change the call to include dim=X as an argument.\n",
            "  outputs = F.softmax(out)\n"
          ]
        }
      ]
    },
    {
      "cell_type": "code",
      "source": [
        "num_res = 1588\n",
        "res[num_res], test_data[num_res]"
      ],
      "metadata": {
        "colab": {
          "base_uri": "https://localhost:8080/"
        },
        "id": "02aocpQXt3K4",
        "outputId": "fe721475-6822-46a2-f896-1383a7dff6d3"
      },
      "execution_count": null,
      "outputs": [
        {
          "output_type": "execute_result",
          "data": {
            "text/plain": [
              "(tensor([0., 0., 0., 0., 0., 0., 0., 0., 0., 0., 0., 0., 0., 0., 0., 0., 0., 0.,\n",
              "         0., 0., 0., 0., 0., 0., 0., 0., 0., 0., 0., 0., 0., 0., 0., 0., 0., 0.,\n",
              "         0., 0., 0., 0., 0., 0., 0., 0., 0., 0., 0., 0., 0., 0., 0., 1., 0., 0.,\n",
              "         0., 0., 0., 0., 0., 0., 0.], grad_fn=<SelectBackward0>),\n",
              " tensor(37066))"
            ]
          },
          "metadata": {},
          "execution_count": 192
        }
      ]
    },
    {
      "cell_type": "code",
      "source": [
        "torch.argmax(res[num_res])"
      ],
      "metadata": {
        "colab": {
          "base_uri": "https://localhost:8080/"
        },
        "id": "mCfp5oYyt9ud",
        "outputId": "8d68ebd0-dc50-4909-acc3-5bd9fe5558c0"
      },
      "execution_count": null,
      "outputs": [
        {
          "output_type": "execute_result",
          "data": {
            "text/plain": [
              "tensor(51)"
            ]
          },
          "metadata": {},
          "execution_count": 193
        }
      ]
    },
    {
      "cell_type": "code",
      "source": [
        "df_words.loc[df_words['word_seq'] == int(test_data[num_res])]"
      ],
      "metadata": {
        "colab": {
          "base_uri": "https://localhost:8080/",
          "height": 424
        },
        "id": "T7w0vHDDs9i-",
        "outputId": "1095e897-8e05-456e-a988-cf72e3c292b3"
      },
      "execution_count": null,
      "outputs": [
        {
          "output_type": "execute_result",
          "data": {
            "text/plain": [
              "        word      tag  word_seq  target_tag\n",
              "65       мой  A-PRO=m     37066           3\n",
              "344      мой  A-PRO=m     37066           3\n",
              "591      мой  A-PRO=m     37066           3\n",
              "2341     мой  A-PRO=m     37066           3\n",
              "2352     мой  A-PRO=m     37066           3\n",
              "...      ...      ...       ...         ...\n",
              "1321172  мой  A-PRO=m     37066           3\n",
              "1321962  мой  A-PRO=m     37066           3\n",
              "1322039  мой  A-PRO=m     37066           3\n",
              "1322047  мой  A-PRO=m     37066           3\n",
              "1322060  мой  A-PRO=m     37066           3\n",
              "\n",
              "[7172 rows x 4 columns]"
            ],
            "text/html": [
              "\n",
              "  <div id=\"df-c7cdb7f1-12e1-4b29-b174-5e67891b66d7\" class=\"colab-df-container\">\n",
              "    <div>\n",
              "<style scoped>\n",
              "    .dataframe tbody tr th:only-of-type {\n",
              "        vertical-align: middle;\n",
              "    }\n",
              "\n",
              "    .dataframe tbody tr th {\n",
              "        vertical-align: top;\n",
              "    }\n",
              "\n",
              "    .dataframe thead th {\n",
              "        text-align: right;\n",
              "    }\n",
              "</style>\n",
              "<table border=\"1\" class=\"dataframe\">\n",
              "  <thead>\n",
              "    <tr style=\"text-align: right;\">\n",
              "      <th></th>\n",
              "      <th>word</th>\n",
              "      <th>tag</th>\n",
              "      <th>word_seq</th>\n",
              "      <th>target_tag</th>\n",
              "    </tr>\n",
              "  </thead>\n",
              "  <tbody>\n",
              "    <tr>\n",
              "      <th>65</th>\n",
              "      <td>мой</td>\n",
              "      <td>A-PRO=m</td>\n",
              "      <td>37066</td>\n",
              "      <td>3</td>\n",
              "    </tr>\n",
              "    <tr>\n",
              "      <th>344</th>\n",
              "      <td>мой</td>\n",
              "      <td>A-PRO=m</td>\n",
              "      <td>37066</td>\n",
              "      <td>3</td>\n",
              "    </tr>\n",
              "    <tr>\n",
              "      <th>591</th>\n",
              "      <td>мой</td>\n",
              "      <td>A-PRO=m</td>\n",
              "      <td>37066</td>\n",
              "      <td>3</td>\n",
              "    </tr>\n",
              "    <tr>\n",
              "      <th>2341</th>\n",
              "      <td>мой</td>\n",
              "      <td>A-PRO=m</td>\n",
              "      <td>37066</td>\n",
              "      <td>3</td>\n",
              "    </tr>\n",
              "    <tr>\n",
              "      <th>2352</th>\n",
              "      <td>мой</td>\n",
              "      <td>A-PRO=m</td>\n",
              "      <td>37066</td>\n",
              "      <td>3</td>\n",
              "    </tr>\n",
              "    <tr>\n",
              "      <th>...</th>\n",
              "      <td>...</td>\n",
              "      <td>...</td>\n",
              "      <td>...</td>\n",
              "      <td>...</td>\n",
              "    </tr>\n",
              "    <tr>\n",
              "      <th>1321172</th>\n",
              "      <td>мой</td>\n",
              "      <td>A-PRO=m</td>\n",
              "      <td>37066</td>\n",
              "      <td>3</td>\n",
              "    </tr>\n",
              "    <tr>\n",
              "      <th>1321962</th>\n",
              "      <td>мой</td>\n",
              "      <td>A-PRO=m</td>\n",
              "      <td>37066</td>\n",
              "      <td>3</td>\n",
              "    </tr>\n",
              "    <tr>\n",
              "      <th>1322039</th>\n",
              "      <td>мой</td>\n",
              "      <td>A-PRO=m</td>\n",
              "      <td>37066</td>\n",
              "      <td>3</td>\n",
              "    </tr>\n",
              "    <tr>\n",
              "      <th>1322047</th>\n",
              "      <td>мой</td>\n",
              "      <td>A-PRO=m</td>\n",
              "      <td>37066</td>\n",
              "      <td>3</td>\n",
              "    </tr>\n",
              "    <tr>\n",
              "      <th>1322060</th>\n",
              "      <td>мой</td>\n",
              "      <td>A-PRO=m</td>\n",
              "      <td>37066</td>\n",
              "      <td>3</td>\n",
              "    </tr>\n",
              "  </tbody>\n",
              "</table>\n",
              "<p>7172 rows × 4 columns</p>\n",
              "</div>\n",
              "    <div class=\"colab-df-buttons\">\n",
              "\n",
              "  <div class=\"colab-df-container\">\n",
              "    <button class=\"colab-df-convert\" onclick=\"convertToInteractive('df-c7cdb7f1-12e1-4b29-b174-5e67891b66d7')\"\n",
              "            title=\"Convert this dataframe to an interactive table.\"\n",
              "            style=\"display:none;\">\n",
              "\n",
              "  <svg xmlns=\"http://www.w3.org/2000/svg\" height=\"24px\" viewBox=\"0 -960 960 960\">\n",
              "    <path d=\"M120-120v-720h720v720H120Zm60-500h600v-160H180v160Zm220 220h160v-160H400v160Zm0 220h160v-160H400v160ZM180-400h160v-160H180v160Zm440 0h160v-160H620v160ZM180-180h160v-160H180v160Zm440 0h160v-160H620v160Z\"/>\n",
              "  </svg>\n",
              "    </button>\n",
              "\n",
              "  <style>\n",
              "    .colab-df-container {\n",
              "      display:flex;\n",
              "      gap: 12px;\n",
              "    }\n",
              "\n",
              "    .colab-df-convert {\n",
              "      background-color: #E8F0FE;\n",
              "      border: none;\n",
              "      border-radius: 50%;\n",
              "      cursor: pointer;\n",
              "      display: none;\n",
              "      fill: #1967D2;\n",
              "      height: 32px;\n",
              "      padding: 0 0 0 0;\n",
              "      width: 32px;\n",
              "    }\n",
              "\n",
              "    .colab-df-convert:hover {\n",
              "      background-color: #E2EBFA;\n",
              "      box-shadow: 0px 1px 2px rgba(60, 64, 67, 0.3), 0px 1px 3px 1px rgba(60, 64, 67, 0.15);\n",
              "      fill: #174EA6;\n",
              "    }\n",
              "\n",
              "    .colab-df-buttons div {\n",
              "      margin-bottom: 4px;\n",
              "    }\n",
              "\n",
              "    [theme=dark] .colab-df-convert {\n",
              "      background-color: #3B4455;\n",
              "      fill: #D2E3FC;\n",
              "    }\n",
              "\n",
              "    [theme=dark] .colab-df-convert:hover {\n",
              "      background-color: #434B5C;\n",
              "      box-shadow: 0px 1px 3px 1px rgba(0, 0, 0, 0.15);\n",
              "      filter: drop-shadow(0px 1px 2px rgba(0, 0, 0, 0.3));\n",
              "      fill: #FFFFFF;\n",
              "    }\n",
              "  </style>\n",
              "\n",
              "    <script>\n",
              "      const buttonEl =\n",
              "        document.querySelector('#df-c7cdb7f1-12e1-4b29-b174-5e67891b66d7 button.colab-df-convert');\n",
              "      buttonEl.style.display =\n",
              "        google.colab.kernel.accessAllowed ? 'block' : 'none';\n",
              "\n",
              "      async function convertToInteractive(key) {\n",
              "        const element = document.querySelector('#df-c7cdb7f1-12e1-4b29-b174-5e67891b66d7');\n",
              "        const dataTable =\n",
              "          await google.colab.kernel.invokeFunction('convertToInteractive',\n",
              "                                                    [key], {});\n",
              "        if (!dataTable) return;\n",
              "\n",
              "        const docLinkHtml = 'Like what you see? Visit the ' +\n",
              "          '<a target=\"_blank\" href=https://colab.research.google.com/notebooks/data_table.ipynb>data table notebook</a>'\n",
              "          + ' to learn more about interactive tables.';\n",
              "        element.innerHTML = '';\n",
              "        dataTable['output_type'] = 'display_data';\n",
              "        await google.colab.output.renderOutput(dataTable, element);\n",
              "        const docLink = document.createElement('div');\n",
              "        docLink.innerHTML = docLinkHtml;\n",
              "        element.appendChild(docLink);\n",
              "      }\n",
              "    </script>\n",
              "  </div>\n",
              "\n",
              "\n",
              "<div id=\"df-78c0b055-269b-4702-b20f-44cf96675ff6\">\n",
              "  <button class=\"colab-df-quickchart\" onclick=\"quickchart('df-78c0b055-269b-4702-b20f-44cf96675ff6')\"\n",
              "            title=\"Suggest charts\"\n",
              "            style=\"display:none;\">\n",
              "\n",
              "<svg xmlns=\"http://www.w3.org/2000/svg\" height=\"24px\"viewBox=\"0 0 24 24\"\n",
              "     width=\"24px\">\n",
              "    <g>\n",
              "        <path d=\"M19 3H5c-1.1 0-2 .9-2 2v14c0 1.1.9 2 2 2h14c1.1 0 2-.9 2-2V5c0-1.1-.9-2-2-2zM9 17H7v-7h2v7zm4 0h-2V7h2v10zm4 0h-2v-4h2v4z\"/>\n",
              "    </g>\n",
              "</svg>\n",
              "  </button>\n",
              "\n",
              "<style>\n",
              "  .colab-df-quickchart {\n",
              "      --bg-color: #E8F0FE;\n",
              "      --fill-color: #1967D2;\n",
              "      --hover-bg-color: #E2EBFA;\n",
              "      --hover-fill-color: #174EA6;\n",
              "      --disabled-fill-color: #AAA;\n",
              "      --disabled-bg-color: #DDD;\n",
              "  }\n",
              "\n",
              "  [theme=dark] .colab-df-quickchart {\n",
              "      --bg-color: #3B4455;\n",
              "      --fill-color: #D2E3FC;\n",
              "      --hover-bg-color: #434B5C;\n",
              "      --hover-fill-color: #FFFFFF;\n",
              "      --disabled-bg-color: #3B4455;\n",
              "      --disabled-fill-color: #666;\n",
              "  }\n",
              "\n",
              "  .colab-df-quickchart {\n",
              "    background-color: var(--bg-color);\n",
              "    border: none;\n",
              "    border-radius: 50%;\n",
              "    cursor: pointer;\n",
              "    display: none;\n",
              "    fill: var(--fill-color);\n",
              "    height: 32px;\n",
              "    padding: 0;\n",
              "    width: 32px;\n",
              "  }\n",
              "\n",
              "  .colab-df-quickchart:hover {\n",
              "    background-color: var(--hover-bg-color);\n",
              "    box-shadow: 0 1px 2px rgba(60, 64, 67, 0.3), 0 1px 3px 1px rgba(60, 64, 67, 0.15);\n",
              "    fill: var(--button-hover-fill-color);\n",
              "  }\n",
              "\n",
              "  .colab-df-quickchart-complete:disabled,\n",
              "  .colab-df-quickchart-complete:disabled:hover {\n",
              "    background-color: var(--disabled-bg-color);\n",
              "    fill: var(--disabled-fill-color);\n",
              "    box-shadow: none;\n",
              "  }\n",
              "\n",
              "  .colab-df-spinner {\n",
              "    border: 2px solid var(--fill-color);\n",
              "    border-color: transparent;\n",
              "    border-bottom-color: var(--fill-color);\n",
              "    animation:\n",
              "      spin 1s steps(1) infinite;\n",
              "  }\n",
              "\n",
              "  @keyframes spin {\n",
              "    0% {\n",
              "      border-color: transparent;\n",
              "      border-bottom-color: var(--fill-color);\n",
              "      border-left-color: var(--fill-color);\n",
              "    }\n",
              "    20% {\n",
              "      border-color: transparent;\n",
              "      border-left-color: var(--fill-color);\n",
              "      border-top-color: var(--fill-color);\n",
              "    }\n",
              "    30% {\n",
              "      border-color: transparent;\n",
              "      border-left-color: var(--fill-color);\n",
              "      border-top-color: var(--fill-color);\n",
              "      border-right-color: var(--fill-color);\n",
              "    }\n",
              "    40% {\n",
              "      border-color: transparent;\n",
              "      border-right-color: var(--fill-color);\n",
              "      border-top-color: var(--fill-color);\n",
              "    }\n",
              "    60% {\n",
              "      border-color: transparent;\n",
              "      border-right-color: var(--fill-color);\n",
              "    }\n",
              "    80% {\n",
              "      border-color: transparent;\n",
              "      border-right-color: var(--fill-color);\n",
              "      border-bottom-color: var(--fill-color);\n",
              "    }\n",
              "    90% {\n",
              "      border-color: transparent;\n",
              "      border-bottom-color: var(--fill-color);\n",
              "    }\n",
              "  }\n",
              "</style>\n",
              "\n",
              "  <script>\n",
              "    async function quickchart(key) {\n",
              "      const quickchartButtonEl =\n",
              "        document.querySelector('#' + key + ' button');\n",
              "      quickchartButtonEl.disabled = true;  // To prevent multiple clicks.\n",
              "      quickchartButtonEl.classList.add('colab-df-spinner');\n",
              "      try {\n",
              "        const charts = await google.colab.kernel.invokeFunction(\n",
              "            'suggestCharts', [key], {});\n",
              "      } catch (error) {\n",
              "        console.error('Error during call to suggestCharts:', error);\n",
              "      }\n",
              "      quickchartButtonEl.classList.remove('colab-df-spinner');\n",
              "      quickchartButtonEl.classList.add('colab-df-quickchart-complete');\n",
              "    }\n",
              "    (() => {\n",
              "      let quickchartButtonEl =\n",
              "        document.querySelector('#df-78c0b055-269b-4702-b20f-44cf96675ff6 button');\n",
              "      quickchartButtonEl.style.display =\n",
              "        google.colab.kernel.accessAllowed ? 'block' : 'none';\n",
              "    })();\n",
              "  </script>\n",
              "</div>\n",
              "    </div>\n",
              "  </div>\n"
            ],
            "application/vnd.google.colaboratory.intrinsic+json": {
              "type": "dataframe",
              "summary": "{\n  \"name\": \"df_words\",\n  \"rows\": 7172,\n  \"fields\": [\n    {\n      \"column\": \"word\",\n      \"properties\": {\n        \"dtype\": \"category\",\n        \"num_unique_values\": 1,\n        \"samples\": [\n          \"\\u043c\\u043e\\u0439\"\n        ],\n        \"semantic_type\": \"\",\n        \"description\": \"\"\n      }\n    },\n    {\n      \"column\": \"tag\",\n      \"properties\": {\n        \"dtype\": \"category\",\n        \"num_unique_values\": 6,\n        \"samples\": [\n          \"A-PRO=m\"\n        ],\n        \"semantic_type\": \"\",\n        \"description\": \"\"\n      }\n    },\n    {\n      \"column\": \"word_seq\",\n      \"properties\": {\n        \"dtype\": \"number\",\n        \"std\": 0,\n        \"min\": 37066,\n        \"max\": 37066,\n        \"num_unique_values\": 1,\n        \"samples\": [\n          37066\n        ],\n        \"semantic_type\": \"\",\n        \"description\": \"\"\n      }\n    },\n    {\n      \"column\": \"target_tag\",\n      \"properties\": {\n        \"dtype\": \"number\",\n        \"std\": 0,\n        \"min\": 2,\n        \"max\": 60,\n        \"num_unique_values\": 6,\n        \"samples\": [\n          3\n        ],\n        \"semantic_type\": \"\",\n        \"description\": \"\"\n      }\n    }\n  ]\n}"
            }
          },
          "metadata": {},
          "execution_count": 194
        }
      ]
    },
    {
      "cell_type": "code",
      "source": [
        "df_words.loc[df_words['word_seq'] == int(test_data[num_res]), ['word','target_tag','tag']].value_counts()"
      ],
      "metadata": {
        "colab": {
          "base_uri": "https://localhost:8080/"
        },
        "id": "pDkAqN2SvgN3",
        "outputId": "8f4ec48e-bbc7-43b2-9b28-a005f9e1acc7"
      },
      "execution_count": null,
      "outputs": [
        {
          "output_type": "execute_result",
          "data": {
            "text/plain": [
              "word  target_tag  tag     \n",
              "мой   3           A-PRO=m     7114\n",
              "      6           A-PRO=sg      41\n",
              "      4           A-PRO=n       10\n",
              "      10          A=f            5\n",
              "      2           A-PRO=f        1\n",
              "      60          V              1\n",
              "Name: count, dtype: int64"
            ]
          },
          "metadata": {},
          "execution_count": 195
        }
      ]
    },
    {
      "cell_type": "markdown",
      "source": [
        "# Conclusion"
      ],
      "metadata": {
        "id": "huD79mKjv0b_"
      }
    },
    {
      "cell_type": "markdown",
      "source": [
        "По результатам обучения модели, был обнаружен один недочет, который следовало проверить на этапе создания NER.\n",
        "\n",
        "Недочет заколючается в том, что в процессе классификации и разделения слов на сущности с помощью библиотеки NLTK, некоторые одинаковые слова получили разные таги. Так например слово \"мой\" - имеет сразу шесть тагов, что привело к некачественному обучению модели."
      ],
      "metadata": {
        "id": "LnKwH7UExYnX"
      }
    }
  ]
}